{
 "cells": [
  {
   "cell_type": "code",
   "execution_count": 1,
   "metadata": {},
   "outputs": [],
   "source": [
    "import pandas as pd\n",
    "import numpy as np\n",
    "import matplotlib.pyplot as plt\n",
    "# from math import sin, cos, sqrt, atan2, radians\n",
    "from geopy.distance import vincenty\n",
    "from sklearn import preprocessing\n",
    "from scipy import interpolate\n",
    "from scipy.interpolate import interp1d\n",
    "from sklearn.linear_model import LinearRegression\n",
    "import networkx as nx\n",
    "# First, import the data:\n",
    "pd.options.display.max_columns = 100\n",
    "# pd.options.display.max_rows = None\n",
    "\n",
    "\n",
    "## Adding a month of data - Jan 2016 - Feb 2016\n",
    "\n",
    "\n",
    "list_of_df_names = ['fahrzeiten_soll_ist_20160103_20160109', 'fahrzeiten_soll_ist_20160110_20160116',\n",
    "                    'fahrzeiten_soll_ist_20160117_20160123', 'fahrzeiten_soll_ist_20160124_20160130',\n",
    "                    'fahrzeiten_soll_ist_20160131_20160206', 'fahrzeiten_soll_ist_20160207_20160213',\n",
    "                    'fahrzeiten_soll_ist_20160214_20160220', 'fahrzeiten_soll_ist_20160221_20160227',\n",
    "                    'fahrzeiten_soll_ist_20160228_20160305', 'fahrzeiten_soll_ist_20160306_20160312',\n",
    "                    'fahrzeiten_soll_ist_20160313_20160319', 'fahrzeiten_soll_ist_20160320_20160326']\n",
    "\n",
    "# Just the first two weeks\n",
    "\n",
    "# list_of_df_names = ['fahrzeiten_soll_ist_20160103_20160109', 'fahrzeiten_soll_ist_20160110_20160116']\n",
    "\n",
    "list_of_df = []\n",
    "for i in list_of_df_names:\n",
    "    list_of_df.append(pd.read_csv(i+'.csv'))\n",
    "df_1 = pd.concat(list_of_df, ignore_index=True)\n",
    "list_of_df.clear()\n",
    "\n",
    "\n",
    "####################\n",
    "df_haltepunkt = pd.read_csv(\"../Travel times 2016 of the VBZ in the target-performance comparison/haltepunkt.csv\")\n",
    "# Fix the gps\n",
    "# print(type(df_haltepunkt['GPS_Latitude'].apply(lambda x: float(x.replace(',', '.')))))\n",
    "# df_haltepunkt['GPS_Latitude'] = df_haltepunkt['GPS_Latitude'].apply(lambda x: float(x.replace(',', '.')))\n",
    "# df_haltepunkt['GPS_Longitude'] = df_haltepunkt['GPS_Longitude'].apply(lambda x: float(x.replace(',', '.')))\n",
    "\n",
    "\n",
    "# Bus Station\n",
    "df_haltestelle = pd.read_csv(\"../Travel times 2016 of the VBZ in the target-performance comparison/haltestelle.csv\")\n",
    "####################\n",
    "\n",
    "def find_dist(lat1, lon1, lat_2, lon2):\n",
    "    c1 = (lat1, lon1)\n",
    "    c2 = (lat_2, lon2)\n",
    "    return geopy.distance.vincenty(c1, c2).km\n",
    "####################\n",
    "# Some useful atts #\n",
    "####################\n",
    "\n",
    "# Target attributes - from: in seconds\n",
    "target_arrival_from = \"soll_an_von\"\n",
    "\n",
    "# Actual attributes - from: in seconds\n",
    "actual_arrival_from = \"ist_an_von\"\n",
    "\n",
    "# nominal departure from in seconds\n",
    "target_departure_from = \"soll_ab_von\"\n",
    "\n",
    "# actual  departure from in seconds\n",
    "actual_departure_from = \"ist_ab_von\"\n",
    "#######################################\n",
    "\n",
    "#######################################\n",
    "# Target attributes - from: in seconds\n",
    "target_arrival_to = \"soll_an_nach\"\n",
    "\n",
    "# Actual attributes - from: in seconds\n",
    "actual_arrival_to = \"ist_an_nach1\"\n",
    "\n",
    "# nominal departure from in seconds\n",
    "target_departure_to = \"soll_ab_nach\"\n",
    "\n",
    "# actual  departure from in seconds\n",
    "actual_departure_to = \"ist_ab_nach\"\n",
    "#####################################\n",
    "\n",
    "#####################################\n"
   ]
  },
  {
   "cell_type": "code",
   "execution_count": 2,
   "metadata": {},
   "outputs": [],
   "source": [
    "# Drop the punkts with undefined gps data\n",
    "df_haltepunkt.dropna(axis=0, how='any', inplace=True, subset=['GPS_Longitude'])\n"
   ]
  },
  {
   "cell_type": "code",
   "execution_count": 3,
   "metadata": {},
   "outputs": [],
   "source": [
    "# Fix the gps\n",
    "# print(type(df_haltepunkt['GPS_Latitude'].apply(lambda x: float(x.replace(',', '.')))))\n",
    "df_haltepunkt['GPS_Latitude'] = df_haltepunkt['GPS_Latitude'].apply(lambda x: float(x.replace(',', '.')))\n",
    "df_haltepunkt['GPS_Longitude'] = df_haltepunkt['GPS_Longitude'].apply(lambda x: float(x.replace(',', '.')))\n"
   ]
  },
  {
   "cell_type": "code",
   "execution_count": 4,
   "metadata": {},
   "outputs": [
    {
     "data": {
      "text/plain": [
       "16825506"
      ]
     },
     "execution_count": 4,
     "metadata": {},
     "output_type": "execute_result"
    }
   ],
   "source": [
    "# Number of records\n",
    "len(df_1)"
   ]
  },
  {
   "cell_type": "code",
   "execution_count": 5,
   "metadata": {},
   "outputs": [],
   "source": [
    "# Merge the halt punkt from\n",
    "\n",
    "\n",
    "df_1['halt_punkt_id'] = df_1['halt_punkt_id_von']\n",
    "df_1 = df_1.merge(df_haltepunkt, on=['halt_punkt_id'])\n"
   ]
  },
  {
   "cell_type": "code",
   "execution_count": 6,
   "metadata": {},
   "outputs": [],
   "source": [
    "# df_1['GPS_Latitude_from'] = df_1['GPS_Latitude']\n",
    "# df_1['GPS_Longitude_to'] = df_1['GPS_Longitude']\n",
    "\n",
    "# Merge punkt to\n",
    "\n",
    "df_1['halt_punkt_id'] = df_1['halt_punkt_id_nach']\n",
    "df_1 = df_1.merge(df_haltepunkt, on='halt_punkt_id')\n"
   ]
  },
  {
   "cell_type": "code",
   "execution_count": 7,
   "metadata": {},
   "outputs": [],
   "source": [
    "\n",
    "df_1['halt_id'] = df_1['halt_id_x']\n",
    "df_1 = df_1.merge(df_haltestelle, on='halt_id')"
   ]
  },
  {
   "cell_type": "code",
   "execution_count": 8,
   "metadata": {},
   "outputs": [],
   "source": [
    "df_1['halt_id'] = df_1['halt_id_y']\n",
    "df_1 = df_1.merge(df_haltestelle, on='halt_id')"
   ]
  },
  {
   "cell_type": "code",
   "execution_count": 9,
   "metadata": {},
   "outputs": [
    {
     "name": "stdout",
     "output_type": "stream",
     "text": [
      "<class 'pandas.core.frame.DataFrame'>\n",
      "Int64Index: 16825506 entries, 0 to 16825505\n",
      "Data columns (total 56 columns):\n",
      "linie                     int64\n",
      "richtung                  int64\n",
      "betriebsdatum             object\n",
      "fahrzeug                  int64\n",
      "kurs                      int64\n",
      "seq_von                   int64\n",
      "halt_diva_von             int64\n",
      "halt_punkt_diva_von       int64\n",
      "halt_kurz_von1            object\n",
      "datum_von                 object\n",
      "soll_an_von               int64\n",
      "ist_an_von                int64\n",
      "soll_ab_von               int64\n",
      "ist_ab_von                int64\n",
      "seq_nach                  int64\n",
      "halt_diva_nach            int64\n",
      "halt_punkt_diva_nach      int64\n",
      "halt_kurz_nach1           object\n",
      "datum_nach                object\n",
      "soll_an_nach              int64\n",
      "ist_an_nach1              int64\n",
      "soll_ab_nach              int64\n",
      "ist_ab_nach               int64\n",
      "fahrt_id                  int64\n",
      "fahrweg_id                int64\n",
      "fw_no                     int64\n",
      "fw_typ                    int64\n",
      "fw_kurz                   int64\n",
      "fw_lang                   object\n",
      "umlauf_von                int64\n",
      "halt_id_von               int64\n",
      "halt_id_nach              int64\n",
      "halt_punkt_id_von         int64\n",
      "halt_punkt_id_nach        int64\n",
      "halt_punkt_id             int64\n",
      "halt_punkt_diva_x         int64\n",
      "halt_id_x                 int64\n",
      "GPS_Latitude_x            float64\n",
      "GPS_Longitude_x           float64\n",
      "GPS_Bearing_x             float64\n",
      "halt_punkt_ist_aktiv_x    bool\n",
      "halt_punkt_diva_y         int64\n",
      "halt_id_y                 int64\n",
      "GPS_Latitude_y            float64\n",
      "GPS_Longitude_y           float64\n",
      "GPS_Bearing_y             float64\n",
      "halt_punkt_ist_aktiv_y    bool\n",
      "halt_id                   int64\n",
      "halt_diva_x               int64\n",
      "halt_kurz_x               object\n",
      "halt_lang_x               object\n",
      "halt_ist_aktiv_x          bool\n",
      "halt_diva_y               int64\n",
      "halt_kurz_y               object\n",
      "halt_lang_y               object\n",
      "halt_ist_aktiv_y          bool\n",
      "dtypes: bool(4), float64(6), int64(36), object(10)\n",
      "memory usage: 6.7+ GB\n"
     ]
    }
   ],
   "source": [
    "df_1.info()"
   ]
  },
  {
   "cell_type": "code",
   "execution_count": 10,
   "metadata": {},
   "outputs": [],
   "source": [
    "# delete the entries where the days are not matching\n",
    "df_1 = df_1[df_1['betriebsdatum'] == df_1['datum_nach']]"
   ]
  },
  {
   "cell_type": "code",
   "execution_count": 11,
   "metadata": {},
   "outputs": [],
   "source": [
    "# Some Signals\n",
    "target_stationary = 'target_stationary'\n",
    "target_travel_time = 'target_travel_time'\n",
    "delay = 'delay'\n",
    "\n",
    "actual_stationary = 'actual_stationary'\n",
    "actual_travel_time = 'actual_travel_time'\n",
    "\n",
    "df_1[target_stationary] = df_1[target_departure_from] - df_1[target_arrival_from]\n",
    "df_1[target_travel_time] = df_1[target_arrival_to] - df_1[target_departure_from]\n",
    "df_1[delay] = df_1[actual_arrival_from] - df_1[target_arrival_from]\n",
    "\n",
    "\n",
    "# Signal - 1 - actual arrival - actual departure\n",
    "df_1[actual_stationary] = df_1[actual_departure_from] - df_1[actual_arrival_from]\n",
    "df_1[actual_travel_time] = df_1[actual_arrival_to] - df_1[actual_departure_from]\n",
    "\n",
    "# b[target_stationary] = b[target_departure_from] - b[target_arrival_from]\n",
    "# b['actual'] = b[actual_arrival_to] - b[actual_departure_from]"
   ]
  },
  {
   "cell_type": "markdown",
   "metadata": {},
   "source": [
    "# Merge halts - Define some attr."
   ]
  },
  {
   "cell_type": "code",
   "execution_count": 12,
   "metadata": {},
   "outputs": [],
   "source": [
    "# Creating a pair of gps locations and calculating the signal at that time instance:\n",
    "# temp['Road_Segment_from'] = list(zip(temp.GPS_Latitude_x, temp.GPS_Longitude_x))\n",
    "# temp['Road_Segment_to'] = list(zip(temp.GPS_Latitude_y, temp.GPS_Longitude_y))\n",
    "# temp\n",
    "\n",
    "# aggregating the gps locations of the same punkts\n",
    "df_new_x = df_1.groupby(['halt_id_x'], as_index=False)['GPS_Latitude_x', 'GPS_Longitude_x'].mean()\n",
    "df_new_y = df_1.groupby(['halt_id_y'], as_index=False)['GPS_Latitude_y', 'GPS_Longitude_y'].mean()\n",
    "# Merging the two frames signifying a road segment\n",
    "final = df_1.merge(df_new_x, on=['halt_id_x'])\n",
    "final = final.merge(df_new_y, on=['halt_id_y'])\n"
   ]
  },
  {
   "cell_type": "code",
   "execution_count": 13,
   "metadata": {},
   "outputs": [],
   "source": [
    "final.rename(columns={'GPS_Latitude_x_y':'GPS_LAN_STELLE_FROM', 'GPS_Longitude_x_y':'GPS_LON_STELLE_FROM',\n",
    "                      'GPS_Latitude_y_y':'GPS_LAN_STELLE_TO', 'GPS_Longitude_y_y':'GPS_LON_STELLE_TO'}, inplace=True)\n",
    "# final"
   ]
  },
  {
   "cell_type": "code",
   "execution_count": 14,
   "metadata": {},
   "outputs": [],
   "source": [
    "# To release memeory\n",
    "df_1 = 1"
   ]
  },
  {
   "cell_type": "code",
   "execution_count": 15,
   "metadata": {},
   "outputs": [
    {
     "data": {
      "text/html": [
       "<div>\n",
       "<style scoped>\n",
       "    .dataframe tbody tr th:only-of-type {\n",
       "        vertical-align: middle;\n",
       "    }\n",
       "\n",
       "    .dataframe tbody tr th {\n",
       "        vertical-align: top;\n",
       "    }\n",
       "\n",
       "    .dataframe thead th {\n",
       "        text-align: right;\n",
       "    }\n",
       "</style>\n",
       "<table border=\"1\" class=\"dataframe\">\n",
       "  <thead>\n",
       "    <tr style=\"text-align: right;\">\n",
       "      <th></th>\n",
       "      <th>linie</th>\n",
       "      <th>richtung</th>\n",
       "      <th>betriebsdatum</th>\n",
       "      <th>fahrzeug</th>\n",
       "      <th>kurs</th>\n",
       "      <th>seq_von</th>\n",
       "      <th>halt_diva_von</th>\n",
       "      <th>halt_punkt_diva_von</th>\n",
       "      <th>halt_kurz_von1</th>\n",
       "      <th>datum_von</th>\n",
       "      <th>soll_an_von</th>\n",
       "      <th>ist_an_von</th>\n",
       "      <th>soll_ab_von</th>\n",
       "      <th>ist_ab_von</th>\n",
       "      <th>seq_nach</th>\n",
       "      <th>halt_diva_nach</th>\n",
       "      <th>halt_punkt_diva_nach</th>\n",
       "      <th>halt_kurz_nach1</th>\n",
       "      <th>datum_nach</th>\n",
       "      <th>soll_an_nach</th>\n",
       "      <th>ist_an_nach1</th>\n",
       "      <th>soll_ab_nach</th>\n",
       "      <th>ist_ab_nach</th>\n",
       "      <th>fahrt_id</th>\n",
       "      <th>fahrweg_id</th>\n",
       "      <th>fw_no</th>\n",
       "      <th>fw_typ</th>\n",
       "      <th>fw_kurz</th>\n",
       "      <th>fw_lang</th>\n",
       "      <th>umlauf_von</th>\n",
       "      <th>halt_id_von</th>\n",
       "      <th>halt_id_nach</th>\n",
       "      <th>halt_punkt_id_von</th>\n",
       "      <th>halt_punkt_id_nach</th>\n",
       "      <th>halt_punkt_id</th>\n",
       "      <th>halt_punkt_diva_x</th>\n",
       "      <th>halt_id_x</th>\n",
       "      <th>GPS_Latitude_x_x</th>\n",
       "      <th>GPS_Longitude_x_x</th>\n",
       "      <th>GPS_Bearing_x</th>\n",
       "      <th>halt_punkt_ist_aktiv_x</th>\n",
       "      <th>halt_punkt_diva_y</th>\n",
       "      <th>halt_id_y</th>\n",
       "      <th>GPS_Latitude_y_x</th>\n",
       "      <th>GPS_Longitude_y_x</th>\n",
       "      <th>GPS_Bearing_y</th>\n",
       "      <th>halt_punkt_ist_aktiv_y</th>\n",
       "      <th>halt_id</th>\n",
       "      <th>halt_diva_x</th>\n",
       "      <th>halt_kurz_x</th>\n",
       "      <th>halt_lang_x</th>\n",
       "      <th>halt_ist_aktiv_x</th>\n",
       "      <th>halt_diva_y</th>\n",
       "      <th>halt_kurz_y</th>\n",
       "      <th>halt_lang_y</th>\n",
       "      <th>halt_ist_aktiv_y</th>\n",
       "      <th>target_stationary</th>\n",
       "      <th>target_travel_time</th>\n",
       "      <th>delay</th>\n",
       "      <th>actual_stationary</th>\n",
       "      <th>actual_travel_time</th>\n",
       "      <th>GPS_LAN_STELLE_FROM</th>\n",
       "      <th>GPS_LON_STELLE_FROM</th>\n",
       "      <th>GPS_LAN_STELLE_TO</th>\n",
       "      <th>GPS_LON_STELLE_TO</th>\n",
       "      <th>Road_Segment_From</th>\n",
       "      <th>Road_Segment_To</th>\n",
       "      <th>Road_Segment_Node</th>\n",
       "      <th>Route_Node_id_tuple</th>\n",
       "    </tr>\n",
       "  </thead>\n",
       "  <tbody>\n",
       "    <tr>\n",
       "      <th>0</th>\n",
       "      <td>918</td>\n",
       "      <td>1</td>\n",
       "      <td>06.01.16</td>\n",
       "      <td>11652</td>\n",
       "      <td>1</td>\n",
       "      <td>2</td>\n",
       "      <td>3744</td>\n",
       "      <td>50</td>\n",
       "      <td>ZENK</td>\n",
       "      <td>06.01.16</td>\n",
       "      <td>65880</td>\n",
       "      <td>65906</td>\n",
       "      <td>65898</td>\n",
       "      <td>65906</td>\n",
       "      <td>3</td>\n",
       "      <td>2043</td>\n",
       "      <td>50</td>\n",
       "      <td>RKIK</td>\n",
       "      <td>06.01.16</td>\n",
       "      <td>65988</td>\n",
       "      <td>65997</td>\n",
       "      <td>66000</td>\n",
       "      <td>65997</td>\n",
       "      <td>75165</td>\n",
       "      <td>5091</td>\n",
       "      <td>1</td>\n",
       "      <td>1</td>\n",
       "      <td>1</td>\n",
       "      <td>BKUE - GART</td>\n",
       "      <td>112395</td>\n",
       "      <td>2663</td>\n",
       "      <td>2796</td>\n",
       "      <td>6081</td>\n",
       "      <td>6661</td>\n",
       "      <td>6661</td>\n",
       "      <td>50</td>\n",
       "      <td>2663</td>\n",
       "      <td>47.31823</td>\n",
       "      <td>8.581693</td>\n",
       "      <td>77.0</td>\n",
       "      <td>True</td>\n",
       "      <td>50</td>\n",
       "      <td>2796</td>\n",
       "      <td>47.316607</td>\n",
       "      <td>8.583933</td>\n",
       "      <td>189.0</td>\n",
       "      <td>True</td>\n",
       "      <td>2796</td>\n",
       "      <td>3744</td>\n",
       "      <td>ZENK</td>\n",
       "      <td>Küsnacht ZH, Zentrum</td>\n",
       "      <td>True</td>\n",
       "      <td>2043</td>\n",
       "      <td>RKIK</td>\n",
       "      <td>Küsnacht ZH, Reform. Kirche</td>\n",
       "      <td>True</td>\n",
       "      <td>18</td>\n",
       "      <td>90</td>\n",
       "      <td>26</td>\n",
       "      <td>0</td>\n",
       "      <td>91</td>\n",
       "      <td>47.318319</td>\n",
       "      <td>8.581964</td>\n",
       "      <td>47.316607</td>\n",
       "      <td>8.583933</td>\n",
       "      <td>(47.31831928673985, 8.581964332468907)</td>\n",
       "      <td>(47.316606999997035, 8.583933000000767)</td>\n",
       "      <td>((47.31831928673985, 8.581964332468907), (47.3...</td>\n",
       "      <td>(2663, 2796)</td>\n",
       "    </tr>\n",
       "    <tr>\n",
       "      <th>1</th>\n",
       "      <td>918</td>\n",
       "      <td>1</td>\n",
       "      <td>06.01.16</td>\n",
       "      <td>11664</td>\n",
       "      <td>2</td>\n",
       "      <td>2</td>\n",
       "      <td>3744</td>\n",
       "      <td>50</td>\n",
       "      <td>ZENK</td>\n",
       "      <td>06.01.16</td>\n",
       "      <td>24480</td>\n",
       "      <td>24561</td>\n",
       "      <td>24492</td>\n",
       "      <td>24572</td>\n",
       "      <td>3</td>\n",
       "      <td>2043</td>\n",
       "      <td>50</td>\n",
       "      <td>RKIK</td>\n",
       "      <td>06.01.16</td>\n",
       "      <td>24576</td>\n",
       "      <td>24657</td>\n",
       "      <td>24588</td>\n",
       "      <td>24657</td>\n",
       "      <td>75179</td>\n",
       "      <td>5091</td>\n",
       "      <td>1</td>\n",
       "      <td>1</td>\n",
       "      <td>1</td>\n",
       "      <td>BKUE - GART</td>\n",
       "      <td>112361</td>\n",
       "      <td>2663</td>\n",
       "      <td>2796</td>\n",
       "      <td>6081</td>\n",
       "      <td>6661</td>\n",
       "      <td>6661</td>\n",
       "      <td>50</td>\n",
       "      <td>2663</td>\n",
       "      <td>47.31823</td>\n",
       "      <td>8.581693</td>\n",
       "      <td>77.0</td>\n",
       "      <td>True</td>\n",
       "      <td>50</td>\n",
       "      <td>2796</td>\n",
       "      <td>47.316607</td>\n",
       "      <td>8.583933</td>\n",
       "      <td>189.0</td>\n",
       "      <td>True</td>\n",
       "      <td>2796</td>\n",
       "      <td>3744</td>\n",
       "      <td>ZENK</td>\n",
       "      <td>Küsnacht ZH, Zentrum</td>\n",
       "      <td>True</td>\n",
       "      <td>2043</td>\n",
       "      <td>RKIK</td>\n",
       "      <td>Küsnacht ZH, Reform. Kirche</td>\n",
       "      <td>True</td>\n",
       "      <td>12</td>\n",
       "      <td>84</td>\n",
       "      <td>81</td>\n",
       "      <td>11</td>\n",
       "      <td>85</td>\n",
       "      <td>47.318319</td>\n",
       "      <td>8.581964</td>\n",
       "      <td>47.316607</td>\n",
       "      <td>8.583933</td>\n",
       "      <td>(47.31831928673985, 8.581964332468907)</td>\n",
       "      <td>(47.316606999997035, 8.583933000000767)</td>\n",
       "      <td>((47.31831928673985, 8.581964332468907), (47.3...</td>\n",
       "      <td>(2663, 2796)</td>\n",
       "    </tr>\n",
       "    <tr>\n",
       "      <th>2</th>\n",
       "      <td>918</td>\n",
       "      <td>1</td>\n",
       "      <td>09.01.16</td>\n",
       "      <td>11655</td>\n",
       "      <td>2</td>\n",
       "      <td>2</td>\n",
       "      <td>3744</td>\n",
       "      <td>50</td>\n",
       "      <td>ZENK</td>\n",
       "      <td>09.01.16</td>\n",
       "      <td>53280</td>\n",
       "      <td>53313</td>\n",
       "      <td>53292</td>\n",
       "      <td>53325</td>\n",
       "      <td>3</td>\n",
       "      <td>2043</td>\n",
       "      <td>50</td>\n",
       "      <td>RKIK</td>\n",
       "      <td>09.01.16</td>\n",
       "      <td>53376</td>\n",
       "      <td>53407</td>\n",
       "      <td>53388</td>\n",
       "      <td>53407</td>\n",
       "      <td>139140</td>\n",
       "      <td>5091</td>\n",
       "      <td>1</td>\n",
       "      <td>1</td>\n",
       "      <td>1</td>\n",
       "      <td>BKUE - GART</td>\n",
       "      <td>113211</td>\n",
       "      <td>2663</td>\n",
       "      <td>2796</td>\n",
       "      <td>6081</td>\n",
       "      <td>6661</td>\n",
       "      <td>6661</td>\n",
       "      <td>50</td>\n",
       "      <td>2663</td>\n",
       "      <td>47.31823</td>\n",
       "      <td>8.581693</td>\n",
       "      <td>77.0</td>\n",
       "      <td>True</td>\n",
       "      <td>50</td>\n",
       "      <td>2796</td>\n",
       "      <td>47.316607</td>\n",
       "      <td>8.583933</td>\n",
       "      <td>189.0</td>\n",
       "      <td>True</td>\n",
       "      <td>2796</td>\n",
       "      <td>3744</td>\n",
       "      <td>ZENK</td>\n",
       "      <td>Küsnacht ZH, Zentrum</td>\n",
       "      <td>True</td>\n",
       "      <td>2043</td>\n",
       "      <td>RKIK</td>\n",
       "      <td>Küsnacht ZH, Reform. Kirche</td>\n",
       "      <td>True</td>\n",
       "      <td>12</td>\n",
       "      <td>84</td>\n",
       "      <td>33</td>\n",
       "      <td>12</td>\n",
       "      <td>82</td>\n",
       "      <td>47.318319</td>\n",
       "      <td>8.581964</td>\n",
       "      <td>47.316607</td>\n",
       "      <td>8.583933</td>\n",
       "      <td>(47.31831928673985, 8.581964332468907)</td>\n",
       "      <td>(47.316606999997035, 8.583933000000767)</td>\n",
       "      <td>((47.31831928673985, 8.581964332468907), (47.3...</td>\n",
       "      <td>(2663, 2796)</td>\n",
       "    </tr>\n",
       "    <tr>\n",
       "      <th>3</th>\n",
       "      <td>918</td>\n",
       "      <td>1</td>\n",
       "      <td>08.01.16</td>\n",
       "      <td>11653</td>\n",
       "      <td>2</td>\n",
       "      <td>2</td>\n",
       "      <td>3744</td>\n",
       "      <td>50</td>\n",
       "      <td>ZENK</td>\n",
       "      <td>08.01.16</td>\n",
       "      <td>24480</td>\n",
       "      <td>24510</td>\n",
       "      <td>24492</td>\n",
       "      <td>24510</td>\n",
       "      <td>3</td>\n",
       "      <td>2043</td>\n",
       "      <td>50</td>\n",
       "      <td>RKIK</td>\n",
       "      <td>08.01.16</td>\n",
       "      <td>24576</td>\n",
       "      <td>24586</td>\n",
       "      <td>24588</td>\n",
       "      <td>24586</td>\n",
       "      <td>75179</td>\n",
       "      <td>5091</td>\n",
       "      <td>1</td>\n",
       "      <td>1</td>\n",
       "      <td>1</td>\n",
       "      <td>BKUE - GART</td>\n",
       "      <td>112361</td>\n",
       "      <td>2663</td>\n",
       "      <td>2796</td>\n",
       "      <td>6081</td>\n",
       "      <td>6661</td>\n",
       "      <td>6661</td>\n",
       "      <td>50</td>\n",
       "      <td>2663</td>\n",
       "      <td>47.31823</td>\n",
       "      <td>8.581693</td>\n",
       "      <td>77.0</td>\n",
       "      <td>True</td>\n",
       "      <td>50</td>\n",
       "      <td>2796</td>\n",
       "      <td>47.316607</td>\n",
       "      <td>8.583933</td>\n",
       "      <td>189.0</td>\n",
       "      <td>True</td>\n",
       "      <td>2796</td>\n",
       "      <td>3744</td>\n",
       "      <td>ZENK</td>\n",
       "      <td>Küsnacht ZH, Zentrum</td>\n",
       "      <td>True</td>\n",
       "      <td>2043</td>\n",
       "      <td>RKIK</td>\n",
       "      <td>Küsnacht ZH, Reform. Kirche</td>\n",
       "      <td>True</td>\n",
       "      <td>12</td>\n",
       "      <td>84</td>\n",
       "      <td>30</td>\n",
       "      <td>0</td>\n",
       "      <td>76</td>\n",
       "      <td>47.318319</td>\n",
       "      <td>8.581964</td>\n",
       "      <td>47.316607</td>\n",
       "      <td>8.583933</td>\n",
       "      <td>(47.31831928673985, 8.581964332468907)</td>\n",
       "      <td>(47.316606999997035, 8.583933000000767)</td>\n",
       "      <td>((47.31831928673985, 8.581964332468907), (47.3...</td>\n",
       "      <td>(2663, 2796)</td>\n",
       "    </tr>\n",
       "    <tr>\n",
       "      <th>4</th>\n",
       "      <td>918</td>\n",
       "      <td>1</td>\n",
       "      <td>08.01.16</td>\n",
       "      <td>11646</td>\n",
       "      <td>2</td>\n",
       "      <td>2</td>\n",
       "      <td>3744</td>\n",
       "      <td>50</td>\n",
       "      <td>ZENK</td>\n",
       "      <td>08.01.16</td>\n",
       "      <td>53280</td>\n",
       "      <td>53319</td>\n",
       "      <td>53292</td>\n",
       "      <td>53334</td>\n",
       "      <td>3</td>\n",
       "      <td>2043</td>\n",
       "      <td>50</td>\n",
       "      <td>RKIK</td>\n",
       "      <td>08.01.16</td>\n",
       "      <td>53376</td>\n",
       "      <td>53434</td>\n",
       "      <td>53388</td>\n",
       "      <td>53445</td>\n",
       "      <td>75211</td>\n",
       "      <td>5091</td>\n",
       "      <td>1</td>\n",
       "      <td>1</td>\n",
       "      <td>1</td>\n",
       "      <td>BKUE - GART</td>\n",
       "      <td>112361</td>\n",
       "      <td>2663</td>\n",
       "      <td>2796</td>\n",
       "      <td>6081</td>\n",
       "      <td>6661</td>\n",
       "      <td>6661</td>\n",
       "      <td>50</td>\n",
       "      <td>2663</td>\n",
       "      <td>47.31823</td>\n",
       "      <td>8.581693</td>\n",
       "      <td>77.0</td>\n",
       "      <td>True</td>\n",
       "      <td>50</td>\n",
       "      <td>2796</td>\n",
       "      <td>47.316607</td>\n",
       "      <td>8.583933</td>\n",
       "      <td>189.0</td>\n",
       "      <td>True</td>\n",
       "      <td>2796</td>\n",
       "      <td>3744</td>\n",
       "      <td>ZENK</td>\n",
       "      <td>Küsnacht ZH, Zentrum</td>\n",
       "      <td>True</td>\n",
       "      <td>2043</td>\n",
       "      <td>RKIK</td>\n",
       "      <td>Küsnacht ZH, Reform. Kirche</td>\n",
       "      <td>True</td>\n",
       "      <td>12</td>\n",
       "      <td>84</td>\n",
       "      <td>39</td>\n",
       "      <td>15</td>\n",
       "      <td>100</td>\n",
       "      <td>47.318319</td>\n",
       "      <td>8.581964</td>\n",
       "      <td>47.316607</td>\n",
       "      <td>8.583933</td>\n",
       "      <td>(47.31831928673985, 8.581964332468907)</td>\n",
       "      <td>(47.316606999997035, 8.583933000000767)</td>\n",
       "      <td>((47.31831928673985, 8.581964332468907), (47.3...</td>\n",
       "      <td>(2663, 2796)</td>\n",
       "    </tr>\n",
       "  </tbody>\n",
       "</table>\n",
       "</div>"
      ],
      "text/plain": [
       "   linie  richtung betriebsdatum  fahrzeug  kurs  seq_von  halt_diva_von  \\\n",
       "0    918         1      06.01.16     11652     1        2           3744   \n",
       "1    918         1      06.01.16     11664     2        2           3744   \n",
       "2    918         1      09.01.16     11655     2        2           3744   \n",
       "3    918         1      08.01.16     11653     2        2           3744   \n",
       "4    918         1      08.01.16     11646     2        2           3744   \n",
       "\n",
       "   halt_punkt_diva_von halt_kurz_von1 datum_von  soll_an_von  ist_an_von  \\\n",
       "0                   50           ZENK  06.01.16        65880       65906   \n",
       "1                   50           ZENK  06.01.16        24480       24561   \n",
       "2                   50           ZENK  09.01.16        53280       53313   \n",
       "3                   50           ZENK  08.01.16        24480       24510   \n",
       "4                   50           ZENK  08.01.16        53280       53319   \n",
       "\n",
       "   soll_ab_von  ist_ab_von  seq_nach  halt_diva_nach  halt_punkt_diva_nach  \\\n",
       "0        65898       65906         3            2043                    50   \n",
       "1        24492       24572         3            2043                    50   \n",
       "2        53292       53325         3            2043                    50   \n",
       "3        24492       24510         3            2043                    50   \n",
       "4        53292       53334         3            2043                    50   \n",
       "\n",
       "  halt_kurz_nach1 datum_nach  soll_an_nach  ist_an_nach1  soll_ab_nach  \\\n",
       "0            RKIK   06.01.16         65988         65997         66000   \n",
       "1            RKIK   06.01.16         24576         24657         24588   \n",
       "2            RKIK   09.01.16         53376         53407         53388   \n",
       "3            RKIK   08.01.16         24576         24586         24588   \n",
       "4            RKIK   08.01.16         53376         53434         53388   \n",
       "\n",
       "   ist_ab_nach  fahrt_id  fahrweg_id  fw_no  fw_typ  fw_kurz      fw_lang  \\\n",
       "0        65997     75165        5091      1       1        1  BKUE - GART   \n",
       "1        24657     75179        5091      1       1        1  BKUE - GART   \n",
       "2        53407    139140        5091      1       1        1  BKUE - GART   \n",
       "3        24586     75179        5091      1       1        1  BKUE - GART   \n",
       "4        53445     75211        5091      1       1        1  BKUE - GART   \n",
       "\n",
       "   umlauf_von  halt_id_von  halt_id_nach  halt_punkt_id_von  \\\n",
       "0      112395         2663          2796               6081   \n",
       "1      112361         2663          2796               6081   \n",
       "2      113211         2663          2796               6081   \n",
       "3      112361         2663          2796               6081   \n",
       "4      112361         2663          2796               6081   \n",
       "\n",
       "   halt_punkt_id_nach  halt_punkt_id  halt_punkt_diva_x  halt_id_x  \\\n",
       "0                6661           6661                 50       2663   \n",
       "1                6661           6661                 50       2663   \n",
       "2                6661           6661                 50       2663   \n",
       "3                6661           6661                 50       2663   \n",
       "4                6661           6661                 50       2663   \n",
       "\n",
       "   GPS_Latitude_x_x  GPS_Longitude_x_x  GPS_Bearing_x  halt_punkt_ist_aktiv_x  \\\n",
       "0          47.31823           8.581693           77.0                    True   \n",
       "1          47.31823           8.581693           77.0                    True   \n",
       "2          47.31823           8.581693           77.0                    True   \n",
       "3          47.31823           8.581693           77.0                    True   \n",
       "4          47.31823           8.581693           77.0                    True   \n",
       "\n",
       "   halt_punkt_diva_y  halt_id_y  GPS_Latitude_y_x  GPS_Longitude_y_x  \\\n",
       "0                 50       2796         47.316607           8.583933   \n",
       "1                 50       2796         47.316607           8.583933   \n",
       "2                 50       2796         47.316607           8.583933   \n",
       "3                 50       2796         47.316607           8.583933   \n",
       "4                 50       2796         47.316607           8.583933   \n",
       "\n",
       "   GPS_Bearing_y  halt_punkt_ist_aktiv_y  halt_id  halt_diva_x halt_kurz_x  \\\n",
       "0          189.0                    True     2796         3744        ZENK   \n",
       "1          189.0                    True     2796         3744        ZENK   \n",
       "2          189.0                    True     2796         3744        ZENK   \n",
       "3          189.0                    True     2796         3744        ZENK   \n",
       "4          189.0                    True     2796         3744        ZENK   \n",
       "\n",
       "            halt_lang_x  halt_ist_aktiv_x  halt_diva_y halt_kurz_y  \\\n",
       "0  Küsnacht ZH, Zentrum              True         2043        RKIK   \n",
       "1  Küsnacht ZH, Zentrum              True         2043        RKIK   \n",
       "2  Küsnacht ZH, Zentrum              True         2043        RKIK   \n",
       "3  Küsnacht ZH, Zentrum              True         2043        RKIK   \n",
       "4  Küsnacht ZH, Zentrum              True         2043        RKIK   \n",
       "\n",
       "                   halt_lang_y  halt_ist_aktiv_y  target_stationary  \\\n",
       "0  Küsnacht ZH, Reform. Kirche              True                 18   \n",
       "1  Küsnacht ZH, Reform. Kirche              True                 12   \n",
       "2  Küsnacht ZH, Reform. Kirche              True                 12   \n",
       "3  Küsnacht ZH, Reform. Kirche              True                 12   \n",
       "4  Küsnacht ZH, Reform. Kirche              True                 12   \n",
       "\n",
       "   target_travel_time  delay  actual_stationary  actual_travel_time  \\\n",
       "0                  90     26                  0                  91   \n",
       "1                  84     81                 11                  85   \n",
       "2                  84     33                 12                  82   \n",
       "3                  84     30                  0                  76   \n",
       "4                  84     39                 15                 100   \n",
       "\n",
       "   GPS_LAN_STELLE_FROM  GPS_LON_STELLE_FROM  GPS_LAN_STELLE_TO  \\\n",
       "0            47.318319             8.581964          47.316607   \n",
       "1            47.318319             8.581964          47.316607   \n",
       "2            47.318319             8.581964          47.316607   \n",
       "3            47.318319             8.581964          47.316607   \n",
       "4            47.318319             8.581964          47.316607   \n",
       "\n",
       "   GPS_LON_STELLE_TO                       Road_Segment_From  \\\n",
       "0           8.583933  (47.31831928673985, 8.581964332468907)   \n",
       "1           8.583933  (47.31831928673985, 8.581964332468907)   \n",
       "2           8.583933  (47.31831928673985, 8.581964332468907)   \n",
       "3           8.583933  (47.31831928673985, 8.581964332468907)   \n",
       "4           8.583933  (47.31831928673985, 8.581964332468907)   \n",
       "\n",
       "                           Road_Segment_To  \\\n",
       "0  (47.316606999997035, 8.583933000000767)   \n",
       "1  (47.316606999997035, 8.583933000000767)   \n",
       "2  (47.316606999997035, 8.583933000000767)   \n",
       "3  (47.316606999997035, 8.583933000000767)   \n",
       "4  (47.316606999997035, 8.583933000000767)   \n",
       "\n",
       "                                   Road_Segment_Node Route_Node_id_tuple  \n",
       "0  ((47.31831928673985, 8.581964332468907), (47.3...        (2663, 2796)  \n",
       "1  ((47.31831928673985, 8.581964332468907), (47.3...        (2663, 2796)  \n",
       "2  ((47.31831928673985, 8.581964332468907), (47.3...        (2663, 2796)  \n",
       "3  ((47.31831928673985, 8.581964332468907), (47.3...        (2663, 2796)  \n",
       "4  ((47.31831928673985, 8.581964332468907), (47.3...        (2663, 2796)  "
      ]
     },
     "execution_count": 15,
     "metadata": {},
     "output_type": "execute_result"
    }
   ],
   "source": [
    "# If This treats the roads as punkt to punkt\n",
    "# final['Road_Segment_From'] = list(zip(final.GPS_Latitude_x_x, final.GPS_Longitude_x_x))\n",
    "# final['Road_Segment_To'] = list(zip(final.GPS_Latitude_y_x, final.GPS_Longitude_y_x))\n",
    "# final['Road_Segment_Node'] = list(zip(final.Road_Segment_From, final.Road_Segment_To))\n",
    "# final['Route_Node_id_tuple'] = list(zip(final.halt_punkt_id_von, final.halt_punkt_id_nach))\n",
    "\n",
    "\n",
    "## The following treats the road segments as haltestelle to haltestelle\n",
    "final['Road_Segment_From'] = list(zip(final.GPS_LAN_STELLE_FROM, final.GPS_LON_STELLE_FROM))\n",
    "final['Road_Segment_To'] = list(zip(final.GPS_LAN_STELLE_TO, final.GPS_LON_STELLE_TO))\n",
    "final['Road_Segment_Node'] = list(zip(final.Road_Segment_From, final.Road_Segment_To))\n",
    "final['Route_Node_id_tuple'] = list(zip(final.halt_id_x, final.halt_id_y))\n",
    "final.head()"
   ]
  },
  {
   "cell_type": "code",
   "execution_count": 16,
   "metadata": {},
   "outputs": [],
   "source": [
    "# Drop some unwanted columns\n",
    "columns_to_drop = ['halt_diva_von', 'halt_punkt_diva_von', 'halt_diva_nach', 'halt_punkt_diva_nach', 'fw_kurz']\n",
    "final.drop(columns=columns_to_drop, inplace=True)"
   ]
  },
  {
   "cell_type": "markdown",
   "metadata": {},
   "source": [
    "# Addressing the signal intervals:\n",
    "\n",
    "    Dealing with granularity issues:"
   ]
  },
  {
   "cell_type": "code",
   "execution_count": 17,
   "metadata": {},
   "outputs": [],
   "source": [
    "# reformat the date\n",
    "d = pd.to_datetime(final['betriebsdatum'], format='%d.%m.%y', dayfirst=True)\n",
    "# Monday == 0 … Sunday == 6\n",
    "final['day_of_week'] = [i.weekday() for i in d]"
   ]
  },
  {
   "cell_type": "code",
   "execution_count": 18,
   "metadata": {},
   "outputs": [],
   "source": [
    "# Remove type 2 - irrelevant \n",
    "final = final[final.fw_typ != 2]"
   ]
  },
  {
   "cell_type": "code",
   "execution_count": 19,
   "metadata": {},
   "outputs": [
    {
     "data": {
      "text/plain": [
       "[(47.30712, 8.548644),\n",
       " (47.38303, 8.499871),\n",
       " (47.395936, 8.60021),\n",
       " (47.358689, 8.527014),\n",
       " (47.370287, 8.514156)]"
      ]
     },
     "execution_count": 19,
     "metadata": {},
     "output_type": "execute_result"
    }
   ],
   "source": [
    "# Make sure the GPS data is in order\n",
    "list(set(zip(final.GPS_Latitude_x_x, final.GPS_Longitude_x_x)))[:5]"
   ]
  },
  {
   "cell_type": "code",
   "execution_count": 20,
   "metadata": {},
   "outputs": [],
   "source": [
    "# # encode routes for easier looping\n",
    "final['Route_Node_id_str'] = final.Route_Node_id_tuple.apply(lambda x: '{}_{}'.format(x[0], x[1]))\n",
    "le = preprocessing.LabelEncoder()\n",
    "le.fit(final.Route_Node_id_str)\n",
    "final['Route_Node_id'] = le.transform(final.Route_Node_id_str)"
   ]
  },
  {
   "cell_type": "code",
   "execution_count": 21,
   "metadata": {},
   "outputs": [],
   "source": [
    "# Drop Sat Sun\n",
    "final = final[((final.day_of_week != 5) & (final.day_of_week != 6))]\n",
    "final = final[(final['soll_an_von'] >= 21600) & (final['soll_an_von'] <= 72000)]"
   ]
  },
  {
   "cell_type": "code",
   "execution_count": 22,
   "metadata": {},
   "outputs": [
    {
     "data": {
      "text/plain": [
       "1583"
      ]
     },
     "execution_count": 22,
     "metadata": {},
     "output_type": "execute_result"
    }
   ],
   "source": [
    "# Total road segments\n",
    "len(set(final.Road_Segment_Node))"
   ]
  },
  {
   "cell_type": "code",
   "execution_count": 23,
   "metadata": {},
   "outputs": [
    {
     "data": {
      "text/html": [
       "<div>\n",
       "<style scoped>\n",
       "    .dataframe tbody tr th:only-of-type {\n",
       "        vertical-align: middle;\n",
       "    }\n",
       "\n",
       "    .dataframe tbody tr th {\n",
       "        vertical-align: top;\n",
       "    }\n",
       "\n",
       "    .dataframe thead th {\n",
       "        text-align: right;\n",
       "    }\n",
       "</style>\n",
       "<table border=\"1\" class=\"dataframe\">\n",
       "  <thead>\n",
       "    <tr style=\"text-align: right;\">\n",
       "      <th></th>\n",
       "      <th>linie</th>\n",
       "      <th>richtung</th>\n",
       "      <th>betriebsdatum</th>\n",
       "      <th>fahrzeug</th>\n",
       "      <th>kurs</th>\n",
       "      <th>seq_von</th>\n",
       "      <th>halt_kurz_von1</th>\n",
       "      <th>datum_von</th>\n",
       "      <th>soll_an_von</th>\n",
       "      <th>ist_an_von</th>\n",
       "      <th>soll_ab_von</th>\n",
       "      <th>ist_ab_von</th>\n",
       "      <th>seq_nach</th>\n",
       "      <th>halt_kurz_nach1</th>\n",
       "      <th>datum_nach</th>\n",
       "      <th>soll_an_nach</th>\n",
       "      <th>ist_an_nach1</th>\n",
       "      <th>soll_ab_nach</th>\n",
       "      <th>ist_ab_nach</th>\n",
       "      <th>fahrt_id</th>\n",
       "      <th>fahrweg_id</th>\n",
       "      <th>fw_no</th>\n",
       "      <th>fw_typ</th>\n",
       "      <th>fw_lang</th>\n",
       "      <th>umlauf_von</th>\n",
       "      <th>halt_id_von</th>\n",
       "      <th>halt_id_nach</th>\n",
       "      <th>halt_punkt_id_von</th>\n",
       "      <th>halt_punkt_id_nach</th>\n",
       "      <th>halt_punkt_id</th>\n",
       "      <th>halt_punkt_diva_x</th>\n",
       "      <th>halt_id_x</th>\n",
       "      <th>GPS_Latitude_x_x</th>\n",
       "      <th>GPS_Longitude_x_x</th>\n",
       "      <th>GPS_Bearing_x</th>\n",
       "      <th>halt_punkt_ist_aktiv_x</th>\n",
       "      <th>halt_punkt_diva_y</th>\n",
       "      <th>halt_id_y</th>\n",
       "      <th>GPS_Latitude_y_x</th>\n",
       "      <th>GPS_Longitude_y_x</th>\n",
       "      <th>GPS_Bearing_y</th>\n",
       "      <th>halt_punkt_ist_aktiv_y</th>\n",
       "      <th>halt_id</th>\n",
       "      <th>halt_diva_x</th>\n",
       "      <th>halt_kurz_x</th>\n",
       "      <th>halt_lang_x</th>\n",
       "      <th>halt_ist_aktiv_x</th>\n",
       "      <th>halt_diva_y</th>\n",
       "      <th>halt_kurz_y</th>\n",
       "      <th>halt_lang_y</th>\n",
       "      <th>halt_ist_aktiv_y</th>\n",
       "      <th>target_stationary</th>\n",
       "      <th>target_travel_time</th>\n",
       "      <th>delay</th>\n",
       "      <th>actual_stationary</th>\n",
       "      <th>actual_travel_time</th>\n",
       "      <th>GPS_LAN_STELLE_FROM</th>\n",
       "      <th>GPS_LON_STELLE_FROM</th>\n",
       "      <th>GPS_LAN_STELLE_TO</th>\n",
       "      <th>GPS_LON_STELLE_TO</th>\n",
       "      <th>Road_Segment_From</th>\n",
       "      <th>Road_Segment_To</th>\n",
       "      <th>Road_Segment_Node</th>\n",
       "      <th>Route_Node_id_tuple</th>\n",
       "      <th>day_of_week</th>\n",
       "      <th>Route_Node_id_str</th>\n",
       "      <th>Route_Node_id</th>\n",
       "    </tr>\n",
       "  </thead>\n",
       "  <tbody>\n",
       "    <tr>\n",
       "      <th>0</th>\n",
       "      <td>918</td>\n",
       "      <td>1</td>\n",
       "      <td>06.01.16</td>\n",
       "      <td>11652</td>\n",
       "      <td>1</td>\n",
       "      <td>2</td>\n",
       "      <td>ZENK</td>\n",
       "      <td>06.01.16</td>\n",
       "      <td>65880</td>\n",
       "      <td>65906</td>\n",
       "      <td>65898</td>\n",
       "      <td>65906</td>\n",
       "      <td>3</td>\n",
       "      <td>RKIK</td>\n",
       "      <td>06.01.16</td>\n",
       "      <td>65988</td>\n",
       "      <td>65997</td>\n",
       "      <td>66000</td>\n",
       "      <td>65997</td>\n",
       "      <td>75165</td>\n",
       "      <td>5091</td>\n",
       "      <td>1</td>\n",
       "      <td>1</td>\n",
       "      <td>BKUE - GART</td>\n",
       "      <td>112395</td>\n",
       "      <td>2663</td>\n",
       "      <td>2796</td>\n",
       "      <td>6081</td>\n",
       "      <td>6661</td>\n",
       "      <td>6661</td>\n",
       "      <td>50</td>\n",
       "      <td>2663</td>\n",
       "      <td>47.31823</td>\n",
       "      <td>8.581693</td>\n",
       "      <td>77.0</td>\n",
       "      <td>True</td>\n",
       "      <td>50</td>\n",
       "      <td>2796</td>\n",
       "      <td>47.316607</td>\n",
       "      <td>8.583933</td>\n",
       "      <td>189.0</td>\n",
       "      <td>True</td>\n",
       "      <td>2796</td>\n",
       "      <td>3744</td>\n",
       "      <td>ZENK</td>\n",
       "      <td>Küsnacht ZH, Zentrum</td>\n",
       "      <td>True</td>\n",
       "      <td>2043</td>\n",
       "      <td>RKIK</td>\n",
       "      <td>Küsnacht ZH, Reform. Kirche</td>\n",
       "      <td>True</td>\n",
       "      <td>18</td>\n",
       "      <td>90</td>\n",
       "      <td>26</td>\n",
       "      <td>0</td>\n",
       "      <td>91</td>\n",
       "      <td>47.318319</td>\n",
       "      <td>8.581964</td>\n",
       "      <td>47.316607</td>\n",
       "      <td>8.583933</td>\n",
       "      <td>(47.31831928673985, 8.581964332468907)</td>\n",
       "      <td>(47.316606999997035, 8.583933000000767)</td>\n",
       "      <td>((47.31831928673985, 8.581964332468907), (47.3...</td>\n",
       "      <td>(2663, 2796)</td>\n",
       "      <td>2</td>\n",
       "      <td>2663_2796</td>\n",
       "      <td>1211</td>\n",
       "    </tr>\n",
       "    <tr>\n",
       "      <th>1</th>\n",
       "      <td>918</td>\n",
       "      <td>1</td>\n",
       "      <td>06.01.16</td>\n",
       "      <td>11664</td>\n",
       "      <td>2</td>\n",
       "      <td>2</td>\n",
       "      <td>ZENK</td>\n",
       "      <td>06.01.16</td>\n",
       "      <td>24480</td>\n",
       "      <td>24561</td>\n",
       "      <td>24492</td>\n",
       "      <td>24572</td>\n",
       "      <td>3</td>\n",
       "      <td>RKIK</td>\n",
       "      <td>06.01.16</td>\n",
       "      <td>24576</td>\n",
       "      <td>24657</td>\n",
       "      <td>24588</td>\n",
       "      <td>24657</td>\n",
       "      <td>75179</td>\n",
       "      <td>5091</td>\n",
       "      <td>1</td>\n",
       "      <td>1</td>\n",
       "      <td>BKUE - GART</td>\n",
       "      <td>112361</td>\n",
       "      <td>2663</td>\n",
       "      <td>2796</td>\n",
       "      <td>6081</td>\n",
       "      <td>6661</td>\n",
       "      <td>6661</td>\n",
       "      <td>50</td>\n",
       "      <td>2663</td>\n",
       "      <td>47.31823</td>\n",
       "      <td>8.581693</td>\n",
       "      <td>77.0</td>\n",
       "      <td>True</td>\n",
       "      <td>50</td>\n",
       "      <td>2796</td>\n",
       "      <td>47.316607</td>\n",
       "      <td>8.583933</td>\n",
       "      <td>189.0</td>\n",
       "      <td>True</td>\n",
       "      <td>2796</td>\n",
       "      <td>3744</td>\n",
       "      <td>ZENK</td>\n",
       "      <td>Küsnacht ZH, Zentrum</td>\n",
       "      <td>True</td>\n",
       "      <td>2043</td>\n",
       "      <td>RKIK</td>\n",
       "      <td>Küsnacht ZH, Reform. Kirche</td>\n",
       "      <td>True</td>\n",
       "      <td>12</td>\n",
       "      <td>84</td>\n",
       "      <td>81</td>\n",
       "      <td>11</td>\n",
       "      <td>85</td>\n",
       "      <td>47.318319</td>\n",
       "      <td>8.581964</td>\n",
       "      <td>47.316607</td>\n",
       "      <td>8.583933</td>\n",
       "      <td>(47.31831928673985, 8.581964332468907)</td>\n",
       "      <td>(47.316606999997035, 8.583933000000767)</td>\n",
       "      <td>((47.31831928673985, 8.581964332468907), (47.3...</td>\n",
       "      <td>(2663, 2796)</td>\n",
       "      <td>2</td>\n",
       "      <td>2663_2796</td>\n",
       "      <td>1211</td>\n",
       "    </tr>\n",
       "    <tr>\n",
       "      <th>3</th>\n",
       "      <td>918</td>\n",
       "      <td>1</td>\n",
       "      <td>08.01.16</td>\n",
       "      <td>11653</td>\n",
       "      <td>2</td>\n",
       "      <td>2</td>\n",
       "      <td>ZENK</td>\n",
       "      <td>08.01.16</td>\n",
       "      <td>24480</td>\n",
       "      <td>24510</td>\n",
       "      <td>24492</td>\n",
       "      <td>24510</td>\n",
       "      <td>3</td>\n",
       "      <td>RKIK</td>\n",
       "      <td>08.01.16</td>\n",
       "      <td>24576</td>\n",
       "      <td>24586</td>\n",
       "      <td>24588</td>\n",
       "      <td>24586</td>\n",
       "      <td>75179</td>\n",
       "      <td>5091</td>\n",
       "      <td>1</td>\n",
       "      <td>1</td>\n",
       "      <td>BKUE - GART</td>\n",
       "      <td>112361</td>\n",
       "      <td>2663</td>\n",
       "      <td>2796</td>\n",
       "      <td>6081</td>\n",
       "      <td>6661</td>\n",
       "      <td>6661</td>\n",
       "      <td>50</td>\n",
       "      <td>2663</td>\n",
       "      <td>47.31823</td>\n",
       "      <td>8.581693</td>\n",
       "      <td>77.0</td>\n",
       "      <td>True</td>\n",
       "      <td>50</td>\n",
       "      <td>2796</td>\n",
       "      <td>47.316607</td>\n",
       "      <td>8.583933</td>\n",
       "      <td>189.0</td>\n",
       "      <td>True</td>\n",
       "      <td>2796</td>\n",
       "      <td>3744</td>\n",
       "      <td>ZENK</td>\n",
       "      <td>Küsnacht ZH, Zentrum</td>\n",
       "      <td>True</td>\n",
       "      <td>2043</td>\n",
       "      <td>RKIK</td>\n",
       "      <td>Küsnacht ZH, Reform. Kirche</td>\n",
       "      <td>True</td>\n",
       "      <td>12</td>\n",
       "      <td>84</td>\n",
       "      <td>30</td>\n",
       "      <td>0</td>\n",
       "      <td>76</td>\n",
       "      <td>47.318319</td>\n",
       "      <td>8.581964</td>\n",
       "      <td>47.316607</td>\n",
       "      <td>8.583933</td>\n",
       "      <td>(47.31831928673985, 8.581964332468907)</td>\n",
       "      <td>(47.316606999997035, 8.583933000000767)</td>\n",
       "      <td>((47.31831928673985, 8.581964332468907), (47.3...</td>\n",
       "      <td>(2663, 2796)</td>\n",
       "      <td>4</td>\n",
       "      <td>2663_2796</td>\n",
       "      <td>1211</td>\n",
       "    </tr>\n",
       "    <tr>\n",
       "      <th>4</th>\n",
       "      <td>918</td>\n",
       "      <td>1</td>\n",
       "      <td>08.01.16</td>\n",
       "      <td>11646</td>\n",
       "      <td>2</td>\n",
       "      <td>2</td>\n",
       "      <td>ZENK</td>\n",
       "      <td>08.01.16</td>\n",
       "      <td>53280</td>\n",
       "      <td>53319</td>\n",
       "      <td>53292</td>\n",
       "      <td>53334</td>\n",
       "      <td>3</td>\n",
       "      <td>RKIK</td>\n",
       "      <td>08.01.16</td>\n",
       "      <td>53376</td>\n",
       "      <td>53434</td>\n",
       "      <td>53388</td>\n",
       "      <td>53445</td>\n",
       "      <td>75211</td>\n",
       "      <td>5091</td>\n",
       "      <td>1</td>\n",
       "      <td>1</td>\n",
       "      <td>BKUE - GART</td>\n",
       "      <td>112361</td>\n",
       "      <td>2663</td>\n",
       "      <td>2796</td>\n",
       "      <td>6081</td>\n",
       "      <td>6661</td>\n",
       "      <td>6661</td>\n",
       "      <td>50</td>\n",
       "      <td>2663</td>\n",
       "      <td>47.31823</td>\n",
       "      <td>8.581693</td>\n",
       "      <td>77.0</td>\n",
       "      <td>True</td>\n",
       "      <td>50</td>\n",
       "      <td>2796</td>\n",
       "      <td>47.316607</td>\n",
       "      <td>8.583933</td>\n",
       "      <td>189.0</td>\n",
       "      <td>True</td>\n",
       "      <td>2796</td>\n",
       "      <td>3744</td>\n",
       "      <td>ZENK</td>\n",
       "      <td>Küsnacht ZH, Zentrum</td>\n",
       "      <td>True</td>\n",
       "      <td>2043</td>\n",
       "      <td>RKIK</td>\n",
       "      <td>Küsnacht ZH, Reform. Kirche</td>\n",
       "      <td>True</td>\n",
       "      <td>12</td>\n",
       "      <td>84</td>\n",
       "      <td>39</td>\n",
       "      <td>15</td>\n",
       "      <td>100</td>\n",
       "      <td>47.318319</td>\n",
       "      <td>8.581964</td>\n",
       "      <td>47.316607</td>\n",
       "      <td>8.583933</td>\n",
       "      <td>(47.31831928673985, 8.581964332468907)</td>\n",
       "      <td>(47.316606999997035, 8.583933000000767)</td>\n",
       "      <td>((47.31831928673985, 8.581964332468907), (47.3...</td>\n",
       "      <td>(2663, 2796)</td>\n",
       "      <td>4</td>\n",
       "      <td>2663_2796</td>\n",
       "      <td>1211</td>\n",
       "    </tr>\n",
       "    <tr>\n",
       "      <th>5</th>\n",
       "      <td>918</td>\n",
       "      <td>1</td>\n",
       "      <td>08.01.16</td>\n",
       "      <td>11653</td>\n",
       "      <td>2</td>\n",
       "      <td>2</td>\n",
       "      <td>ZENK</td>\n",
       "      <td>08.01.16</td>\n",
       "      <td>42480</td>\n",
       "      <td>42497</td>\n",
       "      <td>42492</td>\n",
       "      <td>42508</td>\n",
       "      <td>3</td>\n",
       "      <td>RKIK</td>\n",
       "      <td>08.01.16</td>\n",
       "      <td>42576</td>\n",
       "      <td>42591</td>\n",
       "      <td>42588</td>\n",
       "      <td>42591</td>\n",
       "      <td>75199</td>\n",
       "      <td>5091</td>\n",
       "      <td>1</td>\n",
       "      <td>1</td>\n",
       "      <td>BKUE - GART</td>\n",
       "      <td>112361</td>\n",
       "      <td>2663</td>\n",
       "      <td>2796</td>\n",
       "      <td>6081</td>\n",
       "      <td>6661</td>\n",
       "      <td>6661</td>\n",
       "      <td>50</td>\n",
       "      <td>2663</td>\n",
       "      <td>47.31823</td>\n",
       "      <td>8.581693</td>\n",
       "      <td>77.0</td>\n",
       "      <td>True</td>\n",
       "      <td>50</td>\n",
       "      <td>2796</td>\n",
       "      <td>47.316607</td>\n",
       "      <td>8.583933</td>\n",
       "      <td>189.0</td>\n",
       "      <td>True</td>\n",
       "      <td>2796</td>\n",
       "      <td>3744</td>\n",
       "      <td>ZENK</td>\n",
       "      <td>Küsnacht ZH, Zentrum</td>\n",
       "      <td>True</td>\n",
       "      <td>2043</td>\n",
       "      <td>RKIK</td>\n",
       "      <td>Küsnacht ZH, Reform. Kirche</td>\n",
       "      <td>True</td>\n",
       "      <td>12</td>\n",
       "      <td>84</td>\n",
       "      <td>17</td>\n",
       "      <td>11</td>\n",
       "      <td>83</td>\n",
       "      <td>47.318319</td>\n",
       "      <td>8.581964</td>\n",
       "      <td>47.316607</td>\n",
       "      <td>8.583933</td>\n",
       "      <td>(47.31831928673985, 8.581964332468907)</td>\n",
       "      <td>(47.316606999997035, 8.583933000000767)</td>\n",
       "      <td>((47.31831928673985, 8.581964332468907), (47.3...</td>\n",
       "      <td>(2663, 2796)</td>\n",
       "      <td>4</td>\n",
       "      <td>2663_2796</td>\n",
       "      <td>1211</td>\n",
       "    </tr>\n",
       "  </tbody>\n",
       "</table>\n",
       "</div>"
      ],
      "text/plain": [
       "   linie  richtung betriebsdatum  fahrzeug  kurs  seq_von halt_kurz_von1  \\\n",
       "0    918         1      06.01.16     11652     1        2           ZENK   \n",
       "1    918         1      06.01.16     11664     2        2           ZENK   \n",
       "3    918         1      08.01.16     11653     2        2           ZENK   \n",
       "4    918         1      08.01.16     11646     2        2           ZENK   \n",
       "5    918         1      08.01.16     11653     2        2           ZENK   \n",
       "\n",
       "  datum_von  soll_an_von  ist_an_von  soll_ab_von  ist_ab_von  seq_nach  \\\n",
       "0  06.01.16        65880       65906        65898       65906         3   \n",
       "1  06.01.16        24480       24561        24492       24572         3   \n",
       "3  08.01.16        24480       24510        24492       24510         3   \n",
       "4  08.01.16        53280       53319        53292       53334         3   \n",
       "5  08.01.16        42480       42497        42492       42508         3   \n",
       "\n",
       "  halt_kurz_nach1 datum_nach  soll_an_nach  ist_an_nach1  soll_ab_nach  \\\n",
       "0            RKIK   06.01.16         65988         65997         66000   \n",
       "1            RKIK   06.01.16         24576         24657         24588   \n",
       "3            RKIK   08.01.16         24576         24586         24588   \n",
       "4            RKIK   08.01.16         53376         53434         53388   \n",
       "5            RKIK   08.01.16         42576         42591         42588   \n",
       "\n",
       "   ist_ab_nach  fahrt_id  fahrweg_id  fw_no  fw_typ      fw_lang  umlauf_von  \\\n",
       "0        65997     75165        5091      1       1  BKUE - GART      112395   \n",
       "1        24657     75179        5091      1       1  BKUE - GART      112361   \n",
       "3        24586     75179        5091      1       1  BKUE - GART      112361   \n",
       "4        53445     75211        5091      1       1  BKUE - GART      112361   \n",
       "5        42591     75199        5091      1       1  BKUE - GART      112361   \n",
       "\n",
       "   halt_id_von  halt_id_nach  halt_punkt_id_von  halt_punkt_id_nach  \\\n",
       "0         2663          2796               6081                6661   \n",
       "1         2663          2796               6081                6661   \n",
       "3         2663          2796               6081                6661   \n",
       "4         2663          2796               6081                6661   \n",
       "5         2663          2796               6081                6661   \n",
       "\n",
       "   halt_punkt_id  halt_punkt_diva_x  halt_id_x  GPS_Latitude_x_x  \\\n",
       "0           6661                 50       2663          47.31823   \n",
       "1           6661                 50       2663          47.31823   \n",
       "3           6661                 50       2663          47.31823   \n",
       "4           6661                 50       2663          47.31823   \n",
       "5           6661                 50       2663          47.31823   \n",
       "\n",
       "   GPS_Longitude_x_x  GPS_Bearing_x  halt_punkt_ist_aktiv_x  \\\n",
       "0           8.581693           77.0                    True   \n",
       "1           8.581693           77.0                    True   \n",
       "3           8.581693           77.0                    True   \n",
       "4           8.581693           77.0                    True   \n",
       "5           8.581693           77.0                    True   \n",
       "\n",
       "   halt_punkt_diva_y  halt_id_y  GPS_Latitude_y_x  GPS_Longitude_y_x  \\\n",
       "0                 50       2796         47.316607           8.583933   \n",
       "1                 50       2796         47.316607           8.583933   \n",
       "3                 50       2796         47.316607           8.583933   \n",
       "4                 50       2796         47.316607           8.583933   \n",
       "5                 50       2796         47.316607           8.583933   \n",
       "\n",
       "   GPS_Bearing_y  halt_punkt_ist_aktiv_y  halt_id  halt_diva_x halt_kurz_x  \\\n",
       "0          189.0                    True     2796         3744        ZENK   \n",
       "1          189.0                    True     2796         3744        ZENK   \n",
       "3          189.0                    True     2796         3744        ZENK   \n",
       "4          189.0                    True     2796         3744        ZENK   \n",
       "5          189.0                    True     2796         3744        ZENK   \n",
       "\n",
       "            halt_lang_x  halt_ist_aktiv_x  halt_diva_y halt_kurz_y  \\\n",
       "0  Küsnacht ZH, Zentrum              True         2043        RKIK   \n",
       "1  Küsnacht ZH, Zentrum              True         2043        RKIK   \n",
       "3  Küsnacht ZH, Zentrum              True         2043        RKIK   \n",
       "4  Küsnacht ZH, Zentrum              True         2043        RKIK   \n",
       "5  Küsnacht ZH, Zentrum              True         2043        RKIK   \n",
       "\n",
       "                   halt_lang_y  halt_ist_aktiv_y  target_stationary  \\\n",
       "0  Küsnacht ZH, Reform. Kirche              True                 18   \n",
       "1  Küsnacht ZH, Reform. Kirche              True                 12   \n",
       "3  Küsnacht ZH, Reform. Kirche              True                 12   \n",
       "4  Küsnacht ZH, Reform. Kirche              True                 12   \n",
       "5  Küsnacht ZH, Reform. Kirche              True                 12   \n",
       "\n",
       "   target_travel_time  delay  actual_stationary  actual_travel_time  \\\n",
       "0                  90     26                  0                  91   \n",
       "1                  84     81                 11                  85   \n",
       "3                  84     30                  0                  76   \n",
       "4                  84     39                 15                 100   \n",
       "5                  84     17                 11                  83   \n",
       "\n",
       "   GPS_LAN_STELLE_FROM  GPS_LON_STELLE_FROM  GPS_LAN_STELLE_TO  \\\n",
       "0            47.318319             8.581964          47.316607   \n",
       "1            47.318319             8.581964          47.316607   \n",
       "3            47.318319             8.581964          47.316607   \n",
       "4            47.318319             8.581964          47.316607   \n",
       "5            47.318319             8.581964          47.316607   \n",
       "\n",
       "   GPS_LON_STELLE_TO                       Road_Segment_From  \\\n",
       "0           8.583933  (47.31831928673985, 8.581964332468907)   \n",
       "1           8.583933  (47.31831928673985, 8.581964332468907)   \n",
       "3           8.583933  (47.31831928673985, 8.581964332468907)   \n",
       "4           8.583933  (47.31831928673985, 8.581964332468907)   \n",
       "5           8.583933  (47.31831928673985, 8.581964332468907)   \n",
       "\n",
       "                           Road_Segment_To  \\\n",
       "0  (47.316606999997035, 8.583933000000767)   \n",
       "1  (47.316606999997035, 8.583933000000767)   \n",
       "3  (47.316606999997035, 8.583933000000767)   \n",
       "4  (47.316606999997035, 8.583933000000767)   \n",
       "5  (47.316606999997035, 8.583933000000767)   \n",
       "\n",
       "                                   Road_Segment_Node Route_Node_id_tuple  \\\n",
       "0  ((47.31831928673985, 8.581964332468907), (47.3...        (2663, 2796)   \n",
       "1  ((47.31831928673985, 8.581964332468907), (47.3...        (2663, 2796)   \n",
       "3  ((47.31831928673985, 8.581964332468907), (47.3...        (2663, 2796)   \n",
       "4  ((47.31831928673985, 8.581964332468907), (47.3...        (2663, 2796)   \n",
       "5  ((47.31831928673985, 8.581964332468907), (47.3...        (2663, 2796)   \n",
       "\n",
       "   day_of_week Route_Node_id_str  Route_Node_id  \n",
       "0            2         2663_2796           1211  \n",
       "1            2         2663_2796           1211  \n",
       "3            4         2663_2796           1211  \n",
       "4            4         2663_2796           1211  \n",
       "5            4         2663_2796           1211  "
      ]
     },
     "execution_count": 23,
     "metadata": {},
     "output_type": "execute_result"
    }
   ],
   "source": [
    "final.head()"
   ]
  },
  {
   "cell_type": "code",
   "execution_count": 24,
   "metadata": {},
   "outputs": [
    {
     "data": {
      "text/plain": [
       "649"
      ]
     },
     "execution_count": 24,
     "metadata": {},
     "output_type": "execute_result"
    }
   ],
   "source": [
    "len(set(final.halt_id_x))"
   ]
  },
  {
   "cell_type": "code",
   "execution_count": null,
   "metadata": {},
   "outputs": [],
   "source": [
    "# Define the distance signal based on punkt to punkt\n",
    "# from geopy.distance import geodesic\n",
    "# # geodesic(newport_ri, cleveland_oh).miles\n",
    "# final['distance'] = final.apply(lambda x: vincenty((x['GPS_Latitude_x_x'], x['GPS_Longitude_x_x']), (x['GPS_Latitude_y_x'], x['GPS_Longitude_y_x'])).meters, axis=1)"
   ]
  },
  {
   "cell_type": "code",
   "execution_count": null,
   "metadata": {},
   "outputs": [],
   "source": [
    "# final.distance.isna().sum()"
   ]
  },
  {
   "cell_type": "code",
   "execution_count": null,
   "metadata": {},
   "outputs": [],
   "source": [
    "# final['speed'] = final.distance/final.actual_travel_time"
   ]
  },
  {
   "cell_type": "code",
   "execution_count": 25,
   "metadata": {},
   "outputs": [],
   "source": [
    "# Define the time intervals\n",
    "time_period = 600\n",
    "# Previously was at 5 am\n",
    "starting_time = 21600\n",
    "# indicates 10 mins intervals\n",
    "# Number of bins:\n",
    "n_bins = int(np.floor((72000 - starting_time)/time_period))\n",
    "labels = [i for i in range(n_bins)]\n",
    "# Finding the correct bins:\n",
    "list_of_bins = [starting_time + time_period * i for i in range(n_bins + 1)]\n",
    "final['intervals'] = pd.cut(final[target_arrival_from], bins=list_of_bins, retbins=False, labels=labels, right=True, include_lowest=True)"
   ]
  },
  {
   "cell_type": "code",
   "execution_count": 26,
   "metadata": {},
   "outputs": [
    {
     "data": {
      "text/plain": [
       "84"
      ]
     },
     "execution_count": 26,
     "metadata": {},
     "output_type": "execute_result"
    }
   ],
   "source": [
    "len(labels)"
   ]
  },
  {
   "cell_type": "code",
   "execution_count": 27,
   "metadata": {},
   "outputs": [
    {
     "data": {
      "text/plain": [
       "1066    33302\n",
       "207     33171\n",
       "141     27578\n",
       "381     27518\n",
       "380     27357\n",
       "Name: Route_Node_id, dtype: int64"
      ]
     },
     "execution_count": 27,
     "metadata": {},
     "output_type": "execute_result"
    }
   ],
   "source": [
    "final.Route_Node_id.value_counts()[:5]"
   ]
  },
  {
   "cell_type": "code",
   "execution_count": null,
   "metadata": {},
   "outputs": [],
   "source": [
    "# final['actual_travel_time_n_target'] = final.actual_travel_time / final.target_travel_time\n",
    "# final.actual_travel_time_n_target = final.actual_travel_time_n_target - final.actual_travel_time_n_target.mean()\n",
    "# final.actual_travel_time_n_target_mean = final.actual_travel_time_n_target_mean - final.actual_travel_time_n_target_mean.mean()"
   ]
  },
  {
   "cell_type": "markdown",
   "metadata": {},
   "source": [
    "# Define new signal: Normalized travel time - close to TTI - Version 1, normalize by target travel time"
   ]
  },
  {
   "cell_type": "code",
   "execution_count": 28,
   "metadata": {},
   "outputs": [],
   "source": [
    "final['actual_travel_time_n_target'] = final.actual_travel_time.div(final.target_travel_time, axis=0)\n",
    "# # final"
   ]
  },
  {
   "cell_type": "markdown",
   "metadata": {},
   "source": [
    "# Define new signal: Normalized travel time - Version 2, normalize by mean of target in that interval"
   ]
  },
  {
   "cell_type": "code",
   "execution_count": 29,
   "metadata": {},
   "outputs": [],
   "source": [
    "final['actual_travel_time_n_target_mean'] = final.actual_travel_time.div(final.target_travel_time.mean(), axis=0)\n",
    "# # final"
   ]
  },
  {
   "cell_type": "code",
   "execution_count": 30,
   "metadata": {},
   "outputs": [],
   "source": [
    "# %matplotlib\n",
    "# a = final[final.Route_Node_id == 1067]\n",
    "# a = a[a.betriebsdatum == '08.01.16']\n",
    "# # a = a.sort_values(by=target_departure_from)\n",
    "# a = a.groupby(by='intervals', as_index=False).mean()\n",
    "# # a.intervals.value_counts()\n",
    "# # a = a.groupby(by='intervals', as_index=False).mean()\n",
    "# # a.fillna(value=0)\n",
    "# # plt.plot(a[target_departure_from], a.target_travel_time)\n",
    "# plt.plot(a.intervals.values.tolist(), a.actual_travel_time_n_target.values.tolist(), a.intervals.values.tolist(), a.actual_travel_time_n_target.values.tolist())"
   ]
  },
  {
   "cell_type": "code",
   "execution_count": 31,
   "metadata": {},
   "outputs": [],
   "source": [
    "# a = final[final.Route_Node_id == 1067]\n",
    "# a = a[a.betriebsdatum == '08.01.16']\n",
    "# for i in set(a.fahrweg_id):\n",
    "#     b = a[a.fahrweg_id == i]\n",
    "#     b.sort_values(by=['intervals', target_departure_from], inplace=True)\n",
    "#     if b.shape[0] < 50:\n",
    "#         continue\n",
    "#     plt.plot(b[target_departure_from], b.actual_travel_time_n_target)\n",
    "# a = a.groupby(by='intervals', as_index=False).mean()\n",
    "# plt.title('Signal')\n",
    "# plt.xlabel('Times of the day')\n",
    "# plt.ylabel('')\n",
    "# a.sort_values(by=['intervals', target_departure_from], inplace=True)\n",
    "# plt.scatter([time_period * i + 21600 for i in a.intervals.values.tolist()], np.array(a.actual_travel_time_n_target.values.tolist()), marker='^', s=1000)"
   ]
  },
  {
   "cell_type": "code",
   "execution_count": 32,
   "metadata": {},
   "outputs": [],
   "source": [
    "# # Road seg in the mid in terms of how many recordings there are\n",
    "# final.Route_Node_id.value_counts()[200:205]"
   ]
  },
  {
   "cell_type": "code",
   "execution_count": 33,
   "metadata": {},
   "outputs": [],
   "source": [
    "# Find the Nodes with gran. problems:\n",
    "\n",
    "list_road_seg = final.Route_Node_id.value_counts()\n",
    "list_road_seg_id = []\n",
    "list_empty_bins_index = []\n",
    "list_to_drop = []\n",
    "\n",
    "for index, item in list_road_seg.items():\n",
    "    temp = final[final.Route_Node_id == index]\n",
    "    if (0 in (temp.intervals.value_counts().value_counts())):\n",
    "        list_road_seg_id.append(index)\n",
    "        list_empty_bins_index.append(temp.intervals.value_counts().value_counts()[0])\n",
    "        list_to_drop.append(index)\n",
    "    else:\n",
    "        list_road_seg_id.append(index)\n",
    "        list_empty_bins_index.append(0)\n",
    "list_empty_bins_index = np.array(list_empty_bins_index)"
   ]
  },
  {
   "cell_type": "code",
   "execution_count": 34,
   "metadata": {},
   "outputs": [
    {
     "data": {
      "text/plain": [
       "741"
      ]
     },
     "execution_count": 34,
     "metadata": {},
     "output_type": "execute_result"
    }
   ],
   "source": [
    "# Number of road segments where they have some empty bins\n",
    "1560 - len(set(list_to_drop))"
   ]
  },
  {
   "cell_type": "code",
   "execution_count": 35,
   "metadata": {},
   "outputs": [],
   "source": [
    "# How many are actually empty\n",
    "# list_empty_bins_index"
   ]
  },
  {
   "cell_type": "code",
   "execution_count": 36,
   "metadata": {
    "scrolled": true
   },
   "outputs": [
    {
     "name": "stdout",
     "output_type": "stream",
     "text": [
      "Using matplotlib backend: Qt5Agg\n"
     ]
    },
    {
     "data": {
      "text/plain": [
       "Text(0, 0.5, 'Number of full bins')"
      ]
     },
     "execution_count": 36,
     "metadata": {},
     "output_type": "execute_result"
    }
   ],
   "source": [
    "%matplotlib\n",
    "len(list_empty_bins_index)\n",
    "pd.Series(list_empty_bins_index).hist()\n",
    "plt.title('Distribution of non empty bins - 10 mins - Start at 6 AM - 8 PM')\n",
    "plt.xlabel('Number of empty bins')\n",
    "plt.ylabel('Number of full bins')"
   ]
  },
  {
   "cell_type": "code",
   "execution_count": 37,
   "metadata": {},
   "outputs": [
    {
     "name": "stdout",
     "output_type": "stream",
     "text": [
      "Using matplotlib backend: Qt5Agg\n"
     ]
    },
    {
     "data": {
      "text/plain": [
       "Text(0, 0.5, 'Number of empty bins')"
      ]
     },
     "execution_count": 37,
     "metadata": {},
     "output_type": "execute_result"
    }
   ],
   "source": [
    "%matplotlib\n",
    "# Plot the halts vs. empty bins\n",
    "plt.scatter(list_road_seg_id, list_empty_bins_index)\n",
    "plt.title('Scatter of empty and non empty bins - 10 mins  - Start at 6 - 8')\n",
    "plt.xlabel('Road ID')\n",
    "plt.ylabel('Number of empty bins')\n"
   ]
  },
  {
   "cell_type": "code",
   "execution_count": 38,
   "metadata": {},
   "outputs": [
    {
     "name": "stdout",
     "output_type": "stream",
     "text": [
      "858\n",
      "764\n"
     ]
    }
   ],
   "source": [
    "# How many missing below 6 - how many exactly 0 \n",
    "print(np.count_nonzero(list_empty_bins_index < 6))\n",
    "print(np.count_nonzero(list_empty_bins_index == 0))"
   ]
  },
  {
   "cell_type": "markdown",
   "metadata": {},
   "source": [
    "# A Clear Issue with granularity\n",
    "solving it by limiting the start date and visualizing the distribution\n"
   ]
  },
  {
   "cell_type": "code",
   "execution_count": 39,
   "metadata": {},
   "outputs": [
    {
     "data": {
      "text/plain": [
       "Text(0, 0.5, 'Count of Data points')"
      ]
     },
     "execution_count": 39,
     "metadata": {},
     "output_type": "execute_result"
    }
   ],
   "source": [
    "# rev_dist_bins = pd.Series(index = final.intervals.value_counts().values, data=final.intervals.value_counts().index.values)\n",
    "plt.scatter(final.intervals.value_counts().index.values, final.intervals.value_counts().values)\n",
    "plt.title('scatter - bin number vs data count - start at 6, end at 8 - 10 mins')\n",
    "plt.xlabel('Bin number')\n",
    "plt.ylabel('Count of Data points')"
   ]
  },
  {
   "cell_type": "code",
   "execution_count": 40,
   "metadata": {},
   "outputs": [
    {
     "data": {
      "text/plain": [
       "10    139137\n",
       "7     137804\n",
       "11    136841\n",
       "9     136720\n",
       "6     136656\n",
       "Name: intervals, dtype: int64"
      ]
     },
     "execution_count": 40,
     "metadata": {},
     "output_type": "execute_result"
    }
   ],
   "source": [
    "# top bins with the most number of recordings\n",
    "final.intervals.value_counts()[:5]"
   ]
  },
  {
   "cell_type": "code",
   "execution_count": 41,
   "metadata": {},
   "outputs": [
    {
     "name": "stdout",
     "output_type": "stream",
     "text": [
      "819\n"
     ]
    },
    {
     "data": {
      "text/plain": [
       "819"
      ]
     },
     "execution_count": 41,
     "metadata": {},
     "output_type": "execute_result"
    }
   ],
   "source": [
    "# Drop those datapoints:\n",
    "print(np.count_nonzero(list_empty_bins_index != 0))\n",
    "len(list_to_drop)"
   ]
  },
  {
   "cell_type": "code",
   "execution_count": 42,
   "metadata": {},
   "outputs": [
    {
     "data": {
      "text/plain": [
       "10245941"
      ]
     },
     "execution_count": 42,
     "metadata": {},
     "output_type": "execute_result"
    }
   ],
   "source": [
    "len(final)"
   ]
  },
  {
   "cell_type": "code",
   "execution_count": 43,
   "metadata": {},
   "outputs": [],
   "source": [
    "final = final[~final.Route_Node_id.isin(list_to_drop)]"
   ]
  },
  {
   "cell_type": "code",
   "execution_count": 44,
   "metadata": {},
   "outputs": [
    {
     "data": {
      "text/plain": [
       "7845361"
      ]
     },
     "execution_count": 44,
     "metadata": {},
     "output_type": "execute_result"
    }
   ],
   "source": [
    "len(final)"
   ]
  },
  {
   "cell_type": "code",
   "execution_count": 45,
   "metadata": {},
   "outputs": [
    {
     "data": {
      "text/plain": [
       "1066    33302\n",
       "207     33171\n",
       "141     27578\n",
       "381     27518\n",
       "380     27357\n",
       "Name: Route_Node_id, dtype: int64"
      ]
     },
     "execution_count": 45,
     "metadata": {},
     "output_type": "execute_result"
    }
   ],
   "source": [
    "# most recordings per route\n",
    "final.Route_Node_id.value_counts()[:5]"
   ]
  },
  {
   "cell_type": "markdown",
   "metadata": {},
   "source": [
    "# Create Signal"
   ]
  },
  {
   "cell_type": "code",
   "execution_count": 46,
   "metadata": {},
   "outputs": [],
   "source": [
    "# Creating Signals for all of the nodes:\n",
    "List_of_Nodes = [str(i) for i in list(set(final.Route_Node_id))]"
   ]
  },
  {
   "cell_type": "code",
   "execution_count": 47,
   "metadata": {},
   "outputs": [
    {
     "data": {
      "text/plain": [
       "764"
      ]
     },
     "execution_count": 47,
     "metadata": {},
     "output_type": "execute_result"
    }
   ],
   "source": [
    "len(List_of_Nodes)"
   ]
  },
  {
   "cell_type": "code",
   "execution_count": 48,
   "metadata": {},
   "outputs": [],
   "source": [
    "List_of_head_data = {}\n",
    "for i in List_of_Nodes:\n",
    "    temp_df = final[final.Route_Node_id == int(i)]\n",
    "#     temp_df = temp_df.sort_values(by=['betriebsdatum'])\n",
    "    time_series_for_node = []\n",
    "    for j in sorted(list(set(temp_df.betriebsdatum)), key=lambda x: (x[3], x[4], x[0], x[1])):\n",
    "#         print(j)\n",
    "        time_series = temp_df[temp_df.betriebsdatum == j]\n",
    "        time_series = time_series.groupby(by='intervals', as_index=False).mean()\n",
    "        time_series = time_series['actual_travel_time_n_target']\n",
    "        time_series_for_node.append(time_series)\n",
    "    final_series = pd.concat(time_series_for_node, ignore_index=True)\n",
    "    List_of_head_data[i] = final_series"
   ]
  },
  {
   "cell_type": "code",
   "execution_count": 49,
   "metadata": {},
   "outputs": [],
   "source": [
    "# count nans in the signals\n",
    "new_dict = {}\n",
    "for key, value in List_of_head_data.items():\n",
    "    new_dict[key] = value.isna().sum()"
   ]
  },
  {
   "cell_type": "code",
   "execution_count": null,
   "metadata": {},
   "outputs": [],
   "source": [
    "new_dict"
   ]
  },
  {
   "cell_type": "code",
   "execution_count": 50,
   "metadata": {},
   "outputs": [
    {
     "data": {
      "text/plain": [
       "<matplotlib.axes._subplots.AxesSubplot at 0x20d99b99f28>"
      ]
     },
     "execution_count": 50,
     "metadata": {},
     "output_type": "execute_result"
    }
   ],
   "source": [
    "# Finding dicts with distribution\n",
    "nan_dist = pd.Series(new_dict)\n",
    "nan_dist.hist()"
   ]
  },
  {
   "cell_type": "code",
   "execution_count": 51,
   "metadata": {},
   "outputs": [
    {
     "name": "stdout",
     "output_type": "stream",
     "text": [
      "[0, 0, 0, 0, 0, 0, 0, 0, 0, 0, 0, 0, 0, 0, 0, 0, 0, 0, 0, 0, 0, 0, 0, 0, 0, 0, 0, 0, 0, 0, 0, 0, 0, 0, 0, 0, 0, 0, 0, 0, 0, 0, 0, 0, 0, 0, 0, 0, 0, 0, 0, 0, 0, 0, 0, 0, 0, 0, 0, 0, 0, 0, 0, 0, 0, 0, 0, 0, 0, 0, 0, 0, 0, 0, 0, 0, 0, 0, 0, 0, 0, 0, 0, 0, 0, 0, 0, 0, 0, 0, 0, 0, 0, 0, 0, 0, 0, 0, 0, 0, 0, 0, 0, 0, 0, 0, 0, 0, 0, 0, 0, 0, 0, 0, 0, 0, 0, 0, 0, 0, 0, 0, 1, 1, 1, 1, 1, 1, 1, 1, 1, 1, 1, 1, 1, 1, 1, 1, 2, 2, 2, 2, 2, 2, 2, 2, 2, 2, 2, 2, 2, 2, 2, 2, 2, 2, 2, 2, 2, 2, 2, 3, 3, 3, 3, 3, 3, 3, 3, 3, 3, 3, 3, 3, 3, 3, 3, 3, 3, 3, 3, 3, 4, 4, 4, 4, 4, 4, 4, 4, 4, 4, 4, 4, 4, 4, 5, 5, 5, 5, 5, 5, 5, 5, 5, 5, 6, 6, 6, 6, 6, 6, 7, 7, 7, 7, 7, 7, 7, 7, 7, 7, 7, 7, 8, 8, 8, 8, 8, 8, 8, 8, 8, 8, 8, 8, 8, 8, 9, 9, 9, 9, 9, 9, 9, 9, 9, 9, 9, 9, 9, 9, 9, 9, 9, 9, 9, 9, 9, 9, 10, 10, 10, 10, 10, 10, 10, 10, 10, 10, 10, 10, 10, 10, 10, 10, 10, 10, 10, 10, 10, 10, 10, 10, 10, 10, 11, 11, 11, 11, 11, 11, 11, 11, 11, 11, 11, 11, 12, 12, 12, 12, 12, 12, 12, 12, 13, 13, 13, 13, 13, 13, 13, 13, 13, 13, 13, 13, 14, 14, 14, 14, 14, 14, 14, 14, 14, 14, 14, 14, 14, 15, 15, 15, 15, 15, 15, 16, 16, 16, 16, 16, 16, 16, 16, 16, 16, 16, 16, 16, 16, 16, 17, 17, 17, 17, 17, 17, 18, 18, 18, 18, 18, 18, 18, 18, 18, 18, 18, 18, 19, 19, 19, 19, 19, 19, 19, 19, 19, 19, 19, 20, 20, 20, 20, 20, 20, 20, 20, 20, 20, 21, 21, 21, 21, 21, 21, 21, 21, 21, 22, 22, 22, 22, 22, 22, 22, 22, 22, 22, 22, 22, 22, 23, 23, 23, 23, 23, 23, 23, 23, 23, 23, 24, 24, 24, 24, 24, 24, 24, 24, 24, 24, 24, 24, 24, 24, 24, 24, 24, 24, 24, 24, 24, 24, 25, 25, 25, 25, 25, 25, 25, 25, 26, 26, 26, 26, 26, 26, 26, 26, 26, 26, 26, 26, 26, 26, 26, 26, 26, 26, 26, 27, 27, 27, 27, 27, 27, 27, 27, 27, 27, 27, 27, 27, 27, 28, 28, 28, 28, 28, 28, 28, 28, 28, 28, 28, 28, 28, 28, 28, 28, 28, 29, 29, 29, 29, 29, 29, 29, 29, 29, 29, 29, 29, 29, 29, 29, 29, 30, 30, 30, 30, 30, 30, 30, 31, 31, 31, 31, 31, 31, 31, 31, 31, 32, 32, 32, 32, 32, 32, 32, 33, 33, 33, 33, 33, 34, 34, 34, 34, 34, 34, 35, 35, 35, 35, 36, 36, 36, 36, 37, 37, 37, 37, 37, 37, 37, 37, 38, 38, 38, 38, 38, 38, 38, 38, 38, 38, 39, 39, 39, 39, 39, 40, 40, 41, 41, 41, 41, 42, 42, 42, 42, 42, 42, 42, 42, 43, 43, 43, 43, 43, 43, 43, 44, 44, 44, 44, 44, 45, 45, 45, 45, 45, 46, 46, 46, 46, 46, 46, 46, 47, 47, 47, 47, 47, 48, 48, 48, 48, 48, 49, 49, 49, 49, 49, 49, 49, 50, 50, 50, 50, 50, 50, 50, 50, 51, 51, 51, 51, 51, 51, 51, 52, 52, 52, 52, 52, 53, 53, 53, 54, 54, 54, 54, 55, 55, 56, 56, 56, 56, 57, 57, 57, 57, 57, 58, 59, 59, 59, 59, 60, 60, 61, 61, 62, 65, 65, 67, 70, 72, 72, 73, 74, 75, 78, 80, 81, 81, 82, 82, 82, 83, 83, 83, 84, 86, 86, 86, 87, 87, 87, 88, 91, 91, 93, 102, 105, 106, 106, 109, 114, 121, 121, 121, 122, 122, 122, 134, 143, 150, 150, 152, 154, 157, 173, 204, 799, 804, 864, 868, 918, 920, 1041, 1043, 1051, 1073, 1091, 1096, 1101, 1102, 1102, 1106, 1216, 1366, 1370, 1370, 1662, 1709, 1729, 1787, 3708, 3709]\n",
      "337\n"
     ]
    }
   ],
   "source": [
    "# find and drop ones with 15 or more missing values\n",
    "final_data_df = pd.DataFrame.from_dict(List_of_head_data)\n",
    "print(sorted(final_data_df.isna().sum()))\n",
    "final_data_df.dropna(thresh=len(final_data_df) - 15, axis=1, inplace=True)\n",
    "# How many nodes are left?\n",
    "print(len(final_data_df.columns))"
   ]
  },
  {
   "cell_type": "code",
   "execution_count": 52,
   "metadata": {},
   "outputs": [
    {
     "data": {
      "text/plain": [
       "<matplotlib.axes._subplots.AxesSubplot at 0x20d99b99f28>"
      ]
     },
     "execution_count": 52,
     "metadata": {},
     "output_type": "execute_result"
    }
   ],
   "source": [
    "# How the nans are distributed\n",
    "final_data_df.isna().sum().hist()"
   ]
  },
  {
   "cell_type": "code",
   "execution_count": 53,
   "metadata": {},
   "outputs": [
    {
     "data": {
      "text/plain": [
       "122"
      ]
     },
     "execution_count": 53,
     "metadata": {},
     "output_type": "execute_result"
    }
   ],
   "source": [
    "# How many are truly zero\n",
    "final_data_df.isna().sum().value_counts()[0]"
   ]
  },
  {
   "cell_type": "code",
   "execution_count": 54,
   "metadata": {},
   "outputs": [
    {
     "name": "stdout",
     "output_type": "stream",
     "text": [
      "[0, 0, 0, 0, 0, 0, 0, 0, 0, 0, 0, 0, 0, 0, 0, 0, 0, 0, 0, 0, 0, 0, 0, 0, 0, 0, 0, 0, 0, 0, 0, 0, 0, 0, 0, 0, 0, 0, 0, 0, 0, 0, 0, 0, 0, 0, 0, 0, 0, 0, 0, 0, 0, 0, 0, 0, 0, 0, 0, 0, 0, 0, 0, 0, 0, 0, 0, 0, 0, 0, 0, 0, 0, 0, 0, 0, 0, 0, 0, 0, 0, 0, 0, 0, 0, 0, 0, 0, 0, 0, 0, 0, 0, 0, 0, 0, 0, 0, 0, 0, 0, 0, 0, 0, 0, 0, 0, 0, 0, 0, 0, 0, 0, 0, 0, 0, 0, 0, 0, 0, 0, 0, 1, 1, 1, 1, 1, 1, 1, 1, 1, 1, 1, 1, 1, 1, 1, 1, 2, 2, 2, 2, 2, 2, 2, 2, 2, 2, 2, 2, 2, 2, 2, 2, 2, 2, 2, 2, 2, 2, 2, 3, 3, 3, 3, 3, 3, 3, 3, 3, 3, 3, 3, 3, 3, 3, 3, 3, 3, 3, 3, 3, 4, 4, 4, 4, 4, 4, 4, 4, 4, 4, 4, 4, 4, 4, 5, 5, 5, 5, 5, 5, 5, 5, 5, 5, 6, 6, 6, 6, 6, 6, 7, 7, 7, 7, 7, 7, 7, 7, 7, 7, 7, 7, 8, 8, 8, 8, 8, 8, 8, 8, 8, 8, 8, 8, 8, 8, 9, 9, 9, 9, 9, 9, 9, 9, 9, 9, 9, 9, 9, 9, 9, 9, 9, 9, 9, 9, 9, 9, 10, 10, 10, 10, 10, 10, 10, 10, 10, 10, 10, 10, 10, 10, 10, 10, 10, 10, 10, 10, 10, 10, 10, 10, 10, 10, 11, 11, 11, 11, 11, 11, 11, 11, 11, 11, 11, 11, 12, 12, 12, 12, 12, 12, 12, 12, 13, 13, 13, 13, 13, 13, 13, 13, 13, 13, 13, 13, 14, 14, 14, 14, 14, 14, 14, 14, 14, 14, 14, 14, 14, 15, 15, 15, 15, 15, 15]\n"
     ]
    }
   ],
   "source": [
    "print(sorted(final_data_df.isna().sum()))"
   ]
  },
  {
   "cell_type": "code",
   "execution_count": 55,
   "metadata": {},
   "outputs": [
    {
     "data": {
      "text/plain": [
       "1577"
      ]
     },
     "execution_count": 55,
     "metadata": {},
     "output_type": "execute_result"
    }
   ],
   "source": [
    "# How many total nans are present\n",
    "final_data_df.isna().sum().sum()"
   ]
  },
  {
   "cell_type": "code",
   "execution_count": null,
   "metadata": {},
   "outputs": [],
   "source": [
    "final_data_df.head()"
   ]
  },
  {
   "cell_type": "code",
   "execution_count": 56,
   "metadata": {},
   "outputs": [],
   "source": [
    "# Interpolate the missing values\n",
    "final_data_df = final_data_df.interpolate(axis=1, limit=16)"
   ]
  },
  {
   "cell_type": "code",
   "execution_count": 60,
   "metadata": {},
   "outputs": [
    {
     "data": {
      "text/plain": [
       "14"
      ]
     },
     "execution_count": 60,
     "metadata": {},
     "output_type": "execute_result"
    }
   ],
   "source": [
    "# How many nans are left\n",
    "nan_counts = final_data_df.isna().sum().sum()\n",
    "nan_counts"
   ]
  },
  {
   "cell_type": "code",
   "execution_count": 66,
   "metadata": {},
   "outputs": [
    {
     "data": {
      "text/plain": [
       "2"
      ]
     },
     "execution_count": 66,
     "metadata": {},
     "output_type": "execute_result"
    }
   ],
   "source": []
  },
  {
   "cell_type": "code",
   "execution_count": 61,
   "metadata": {},
   "outputs": [
    {
     "name": "stdout",
     "output_type": "stream",
     "text": [
      "<class 'int'>\n"
     ]
    },
    {
     "ename": "KeyError",
     "evalue": "\"['0'] not found in axis\"",
     "output_type": "error",
     "traceback": [
      "\u001b[1;31m---------------------------------------------------------------------------\u001b[0m",
      "\u001b[1;31mKeyError\u001b[0m                                  Traceback (most recent call last)",
      "\u001b[1;32m<ipython-input-61-ec6b942d8e18>\u001b[0m in \u001b[0;36m<module>\u001b[1;34m\u001b[0m\n\u001b[0;32m      5\u001b[0m     \u001b[0mtoDrop\u001b[0m \u001b[1;33m=\u001b[0m \u001b[0mfinal_data_df\u001b[0m\u001b[1;33m[\u001b[0m\u001b[0mfinal_data_df\u001b[0m\u001b[1;33m.\u001b[0m\u001b[0misna\u001b[0m\u001b[1;33m(\u001b[0m\u001b[1;33m)\u001b[0m \u001b[1;33m==\u001b[0m \u001b[1;32mTrue\u001b[0m\u001b[1;33m]\u001b[0m\u001b[1;33m.\u001b[0m\u001b[0mindex\u001b[0m\u001b[1;33m[\u001b[0m\u001b[1;36m0\u001b[0m\u001b[1;33m]\u001b[0m\u001b[1;33m\u001b[0m\u001b[1;33m\u001b[0m\u001b[0m\n\u001b[0;32m      6\u001b[0m     \u001b[0mprint\u001b[0m\u001b[1;33m(\u001b[0m\u001b[0mtype\u001b[0m\u001b[1;33m(\u001b[0m\u001b[0mtoDrop\u001b[0m\u001b[1;33m)\u001b[0m\u001b[1;33m)\u001b[0m\u001b[1;33m\u001b[0m\u001b[1;33m\u001b[0m\u001b[0m\n\u001b[1;32m----> 7\u001b[1;33m     \u001b[0mfinal_data_df\u001b[0m\u001b[1;33m.\u001b[0m\u001b[0mdrop\u001b[0m\u001b[1;33m(\u001b[0m\u001b[0mstr\u001b[0m\u001b[1;33m(\u001b[0m\u001b[0mtoDrop\u001b[0m\u001b[1;33m)\u001b[0m\u001b[1;33m,\u001b[0m \u001b[0maxis\u001b[0m\u001b[1;33m=\u001b[0m\u001b[1;36m1\u001b[0m\u001b[1;33m,\u001b[0m \u001b[0minplace\u001b[0m\u001b[1;33m=\u001b[0m\u001b[1;32mTrue\u001b[0m\u001b[1;33m)\u001b[0m\u001b[1;33m\u001b[0m\u001b[1;33m\u001b[0m\u001b[0m\n\u001b[0m\u001b[0;32m      8\u001b[0m \u001b[1;33m\u001b[0m\u001b[0m\n\u001b[0;32m      9\u001b[0m \u001b[1;33m\u001b[0m\u001b[0m\n",
      "\u001b[1;32m~\\Anaconda3\\lib\\site-packages\\pandas\\core\\frame.py\u001b[0m in \u001b[0;36mdrop\u001b[1;34m(self, labels, axis, index, columns, level, inplace, errors)\u001b[0m\n\u001b[0;32m   3938\u001b[0m                                            \u001b[0mindex\u001b[0m\u001b[1;33m=\u001b[0m\u001b[0mindex\u001b[0m\u001b[1;33m,\u001b[0m \u001b[0mcolumns\u001b[0m\u001b[1;33m=\u001b[0m\u001b[0mcolumns\u001b[0m\u001b[1;33m,\u001b[0m\u001b[1;33m\u001b[0m\u001b[1;33m\u001b[0m\u001b[0m\n\u001b[0;32m   3939\u001b[0m                                            \u001b[0mlevel\u001b[0m\u001b[1;33m=\u001b[0m\u001b[0mlevel\u001b[0m\u001b[1;33m,\u001b[0m \u001b[0minplace\u001b[0m\u001b[1;33m=\u001b[0m\u001b[0minplace\u001b[0m\u001b[1;33m,\u001b[0m\u001b[1;33m\u001b[0m\u001b[1;33m\u001b[0m\u001b[0m\n\u001b[1;32m-> 3940\u001b[1;33m                                            errors=errors)\n\u001b[0m\u001b[0;32m   3941\u001b[0m \u001b[1;33m\u001b[0m\u001b[0m\n\u001b[0;32m   3942\u001b[0m     @rewrite_axis_style_signature('mapper', [('copy', True),\n",
      "\u001b[1;32m~\\Anaconda3\\lib\\site-packages\\pandas\\core\\generic.py\u001b[0m in \u001b[0;36mdrop\u001b[1;34m(self, labels, axis, index, columns, level, inplace, errors)\u001b[0m\n\u001b[0;32m   3778\u001b[0m         \u001b[1;32mfor\u001b[0m \u001b[0maxis\u001b[0m\u001b[1;33m,\u001b[0m \u001b[0mlabels\u001b[0m \u001b[1;32min\u001b[0m \u001b[0maxes\u001b[0m\u001b[1;33m.\u001b[0m\u001b[0mitems\u001b[0m\u001b[1;33m(\u001b[0m\u001b[1;33m)\u001b[0m\u001b[1;33m:\u001b[0m\u001b[1;33m\u001b[0m\u001b[1;33m\u001b[0m\u001b[0m\n\u001b[0;32m   3779\u001b[0m             \u001b[1;32mif\u001b[0m \u001b[0mlabels\u001b[0m \u001b[1;32mis\u001b[0m \u001b[1;32mnot\u001b[0m \u001b[1;32mNone\u001b[0m\u001b[1;33m:\u001b[0m\u001b[1;33m\u001b[0m\u001b[1;33m\u001b[0m\u001b[0m\n\u001b[1;32m-> 3780\u001b[1;33m                 \u001b[0mobj\u001b[0m \u001b[1;33m=\u001b[0m \u001b[0mobj\u001b[0m\u001b[1;33m.\u001b[0m\u001b[0m_drop_axis\u001b[0m\u001b[1;33m(\u001b[0m\u001b[0mlabels\u001b[0m\u001b[1;33m,\u001b[0m \u001b[0maxis\u001b[0m\u001b[1;33m,\u001b[0m \u001b[0mlevel\u001b[0m\u001b[1;33m=\u001b[0m\u001b[0mlevel\u001b[0m\u001b[1;33m,\u001b[0m \u001b[0merrors\u001b[0m\u001b[1;33m=\u001b[0m\u001b[0merrors\u001b[0m\u001b[1;33m)\u001b[0m\u001b[1;33m\u001b[0m\u001b[1;33m\u001b[0m\u001b[0m\n\u001b[0m\u001b[0;32m   3781\u001b[0m \u001b[1;33m\u001b[0m\u001b[0m\n\u001b[0;32m   3782\u001b[0m         \u001b[1;32mif\u001b[0m \u001b[0minplace\u001b[0m\u001b[1;33m:\u001b[0m\u001b[1;33m\u001b[0m\u001b[1;33m\u001b[0m\u001b[0m\n",
      "\u001b[1;32m~\\Anaconda3\\lib\\site-packages\\pandas\\core\\generic.py\u001b[0m in \u001b[0;36m_drop_axis\u001b[1;34m(self, labels, axis, level, errors)\u001b[0m\n\u001b[0;32m   3810\u001b[0m                 \u001b[0mnew_axis\u001b[0m \u001b[1;33m=\u001b[0m \u001b[0maxis\u001b[0m\u001b[1;33m.\u001b[0m\u001b[0mdrop\u001b[0m\u001b[1;33m(\u001b[0m\u001b[0mlabels\u001b[0m\u001b[1;33m,\u001b[0m \u001b[0mlevel\u001b[0m\u001b[1;33m=\u001b[0m\u001b[0mlevel\u001b[0m\u001b[1;33m,\u001b[0m \u001b[0merrors\u001b[0m\u001b[1;33m=\u001b[0m\u001b[0merrors\u001b[0m\u001b[1;33m)\u001b[0m\u001b[1;33m\u001b[0m\u001b[1;33m\u001b[0m\u001b[0m\n\u001b[0;32m   3811\u001b[0m             \u001b[1;32melse\u001b[0m\u001b[1;33m:\u001b[0m\u001b[1;33m\u001b[0m\u001b[1;33m\u001b[0m\u001b[0m\n\u001b[1;32m-> 3812\u001b[1;33m                 \u001b[0mnew_axis\u001b[0m \u001b[1;33m=\u001b[0m \u001b[0maxis\u001b[0m\u001b[1;33m.\u001b[0m\u001b[0mdrop\u001b[0m\u001b[1;33m(\u001b[0m\u001b[0mlabels\u001b[0m\u001b[1;33m,\u001b[0m \u001b[0merrors\u001b[0m\u001b[1;33m=\u001b[0m\u001b[0merrors\u001b[0m\u001b[1;33m)\u001b[0m\u001b[1;33m\u001b[0m\u001b[1;33m\u001b[0m\u001b[0m\n\u001b[0m\u001b[0;32m   3813\u001b[0m             \u001b[0mresult\u001b[0m \u001b[1;33m=\u001b[0m \u001b[0mself\u001b[0m\u001b[1;33m.\u001b[0m\u001b[0mreindex\u001b[0m\u001b[1;33m(\u001b[0m\u001b[1;33m**\u001b[0m\u001b[1;33m{\u001b[0m\u001b[0maxis_name\u001b[0m\u001b[1;33m:\u001b[0m \u001b[0mnew_axis\u001b[0m\u001b[1;33m}\u001b[0m\u001b[1;33m)\u001b[0m\u001b[1;33m\u001b[0m\u001b[1;33m\u001b[0m\u001b[0m\n\u001b[0;32m   3814\u001b[0m \u001b[1;33m\u001b[0m\u001b[0m\n",
      "\u001b[1;32m~\\Anaconda3\\lib\\site-packages\\pandas\\core\\indexes\\base.py\u001b[0m in \u001b[0;36mdrop\u001b[1;34m(self, labels, errors)\u001b[0m\n\u001b[0;32m   4963\u001b[0m             \u001b[1;32mif\u001b[0m \u001b[0merrors\u001b[0m \u001b[1;33m!=\u001b[0m \u001b[1;34m'ignore'\u001b[0m\u001b[1;33m:\u001b[0m\u001b[1;33m\u001b[0m\u001b[1;33m\u001b[0m\u001b[0m\n\u001b[0;32m   4964\u001b[0m                 raise KeyError(\n\u001b[1;32m-> 4965\u001b[1;33m                     '{} not found in axis'.format(labels[mask]))\n\u001b[0m\u001b[0;32m   4966\u001b[0m             \u001b[0mindexer\u001b[0m \u001b[1;33m=\u001b[0m \u001b[0mindexer\u001b[0m\u001b[1;33m[\u001b[0m\u001b[1;33m~\u001b[0m\u001b[0mmask\u001b[0m\u001b[1;33m]\u001b[0m\u001b[1;33m\u001b[0m\u001b[1;33m\u001b[0m\u001b[0m\n\u001b[0;32m   4967\u001b[0m         \u001b[1;32mreturn\u001b[0m \u001b[0mself\u001b[0m\u001b[1;33m.\u001b[0m\u001b[0mdelete\u001b[0m\u001b[1;33m(\u001b[0m\u001b[0mindexer\u001b[0m\u001b[1;33m)\u001b[0m\u001b[1;33m\u001b[0m\u001b[1;33m\u001b[0m\u001b[0m\n",
      "\u001b[1;31mKeyError\u001b[0m: \"['0'] not found in axis\""
     ]
    }
   ],
   "source": [
    "if nan_counts:\n",
    "    # drop the column\n",
    "    final_data_df.dropna(how='any', axis=1)\n",
    "    # Find which column has the nan\n",
    "    toDrop = final_data_df[final_data_df.isna() == True].index[0]\n",
    "    print(toDrop)\n",
    "    final_data_df.drop(str(toDrop), axis=1, inplace=True)\n",
    "    \n",
    "    "
   ]
  },
  {
   "cell_type": "code",
   "execution_count": 67,
   "metadata": {},
   "outputs": [],
   "source": [
    "final_data_df.drop(str(8), axis=1, inplace=True)"
   ]
  },
  {
   "cell_type": "code",
   "execution_count": 68,
   "metadata": {},
   "outputs": [
    {
     "data": {
      "text/plain": [
       "0"
      ]
     },
     "execution_count": 68,
     "metadata": {},
     "output_type": "execute_result"
    }
   ],
   "source": [
    "# Make sure it is dropped\n",
    "final_data_df.isna().sum().sum()"
   ]
  },
  {
   "cell_type": "code",
   "execution_count": 69,
   "metadata": {},
   "outputs": [
    {
     "data": {
      "text/plain": [
       "['79', '87', '88', '90', '94']"
      ]
     },
     "execution_count": 69,
     "metadata": {},
     "output_type": "execute_result"
    }
   ],
   "source": [
    "# Visualize some of the signals\n",
    "final_data_df.columns.values.tolist()[20:25]"
   ]
  },
  {
   "cell_type": "code",
   "execution_count": 71,
   "metadata": {},
   "outputs": [],
   "source": [
    "sig_1 = final_data_df['79']\n",
    "sig_2 = final_data_df['87']"
   ]
  },
  {
   "cell_type": "code",
   "execution_count": 72,
   "metadata": {},
   "outputs": [
    {
     "data": {
      "text/plain": [
       "[<matplotlib.lines.Line2D at 0x20d97875a58>,\n",
       " <matplotlib.lines.Line2D at 0x20d9a702ba8>]"
      ]
     },
     "execution_count": 72,
     "metadata": {},
     "output_type": "execute_result"
    }
   ],
   "source": [
    "plt.plot(final_data_df.index, sig_1, final_data_df.index, sig_2)"
   ]
  },
  {
   "cell_type": "markdown",
   "metadata": {},
   "source": [
    "# Signal is Defined, Create the graphs in two ways! Using the signal DF!"
   ]
  },
  {
   "cell_type": "markdown",
   "metadata": {},
   "source": [
    "# Create The graph - V1"
   ]
  },
  {
   "cell_type": "code",
   "execution_count": 73,
   "metadata": {},
   "outputs": [],
   "source": [
    "final['Mid_point_GPS_data'] = final.Road_Segment_Node.apply(lambda x: (((x[0][0] + x[1][0])/2) , ((x[0][1] + x[1][1])/2)))"
   ]
  },
  {
   "cell_type": "code",
   "execution_count": 74,
   "metadata": {},
   "outputs": [
    {
     "data": {
      "text/plain": [
       "336"
      ]
     },
     "execution_count": 74,
     "metadata": {},
     "output_type": "execute_result"
    }
   ],
   "source": [
    "# How many nodes left\n",
    "len(final_data_df.columns.values.tolist())"
   ]
  },
  {
   "cell_type": "code",
   "execution_count": 75,
   "metadata": {},
   "outputs": [],
   "source": [
    "# List of road segments by id\n",
    "list_of_nodes_Road = list(set(final_data_df.columns.values.tolist()))"
   ]
  },
  {
   "cell_type": "code",
   "execution_count": 76,
   "metadata": {},
   "outputs": [],
   "source": [
    "from geopy.distance import vincenty\n",
    "from geopy.distance import geodesic\n",
    "from networkx.drawing.nx_pydot import write_dot"
   ]
  },
  {
   "cell_type": "code",
   "execution_count": 77,
   "metadata": {},
   "outputs": [],
   "source": [
    "# Edit final to get the most updated gps data\n",
    "list_of_nodes_Road_toKeep = [int(i) for i in list_of_nodes_Road]\n",
    "final = final[final.Route_Node_id.isin(list_of_nodes_Road_toKeep)]\n",
    "# final"
   ]
  },
  {
   "cell_type": "code",
   "execution_count": 78,
   "metadata": {},
   "outputs": [],
   "source": [
    "# Create List of dicts:\n",
    "\n",
    "new_final = final.groupby(by='Route_Node_id', as_index=False).min()"
   ]
  },
  {
   "cell_type": "code",
   "execution_count": 79,
   "metadata": {},
   "outputs": [
    {
     "data": {
      "text/plain": [
       "{11: (47.368752703332575, 8.493530470205895),\n",
       " 12: (47.36872096062622, 8.546983495075853),\n",
       " 13: (47.371504519533524, 8.549670195002955),\n",
       " 15: (47.3716133726147, 8.548133486524543),\n",
       " 16: (47.369850061287835, 8.551909616283595),\n",
       " 17: (47.37380228521639, 8.527599728970475),\n",
       " 18: (47.37427435579169, 8.523351453003245),\n",
       " 20: (47.37871457649162, 8.548136735294445),\n",
       " 21: (47.37839095680438, 8.54636382616415),\n",
       " 25: (47.398058327746476, 8.537514621706384),\n",
       " 27: (47.40020157240362, 8.534157704769658),\n",
       " 28: (47.39664437010312, 8.53477825884045),\n",
       " 32: (47.39813237305747, 8.530987450724206),\n",
       " 40: (47.4106918770685, 8.545633117476566),\n",
       " 41: (47.41042516186653, 8.549012477953312),\n",
       " 42: (47.41171715294287, 8.54623230841747),\n",
       " 44: (47.408120317879224, 8.547427080037421),\n",
       " 67: (47.367053845170844, 8.561292178828229),\n",
       " 68: (47.36512069814996, 8.564302552654015),\n",
       " 76: (47.41615363131163, 8.552645120945822),\n",
       " 79: (47.41332423879862, 8.482206810699829),\n",
       " 87: (47.3318209640325, 8.51701167377289),\n",
       " 88: (47.33426883650492, 8.518840676504706),\n",
       " 90: (47.40539990799469, 8.567950708158268),\n",
       " 94: (47.40540111189877, 8.57009731665283),\n",
       " 97: (47.3738027450908, 8.527599026459598),\n",
       " 98: (47.373037711049584, 8.528240361640385),\n",
       " 99: (47.37485134337582, 8.531948414267125),\n",
       " 102: (47.372907603444744, 8.532161877459233),\n",
       " 104: (47.39805871003681, 8.537514670283862),\n",
       " 106: (47.39902289568705, 8.542665433393696),\n",
       " 107: (47.39698393472621, 8.54331107457224),\n",
       " 108: (47.39676312557895, 8.540983651029759),\n",
       " 111: (47.399778958356826, 8.546782147927019),\n",
       " 118: (47.34240721112491, 8.53003581786357),\n",
       " 130: (47.39712960175223, 8.532691073244068),\n",
       " 131: (47.39353589284178, 8.534087117349822),\n",
       " 135: (47.40020165342645, 8.534157596583),\n",
       " 137: (47.40481569044296, 8.532869422763032),\n",
       " 141: (47.37139569571274, 8.538636528596852),\n",
       " 142: (47.36894321837839, 8.539407149183438),\n",
       " 143: (47.36878126132804, 8.537279946224093),\n",
       " 144: (47.3709840324442, 8.536847974130387),\n",
       " 146: (47.367053772525225, 8.56129215258437),\n",
       " 148: (47.368616412170084, 8.557597554887995),\n",
       " 149: (47.39902254438812, 8.542665226822525),\n",
       " 150: (47.40199541525668, 8.545744718045757),\n",
       " 154: (47.37303765083077, 8.528240075052997),\n",
       " 155: (47.37194253843056, 8.525418176404282),\n",
       " 159: (47.37745579363126, 8.511858621317023),\n",
       " 161: (47.38032682142516, 8.512241625691232),\n",
       " 162: (47.37792476777952, 8.508742400807328),\n",
       " 172: (47.393769432463095, 8.539367449910108),\n",
       " 173: (47.39338809968797, 8.537472847481668),\n",
       " 174: (47.38995312708019, 8.538932097000007),\n",
       " 179: (47.37744243021947, 8.540593917669113),\n",
       " 180: (47.37706356393534, 8.538179518012193),\n",
       " 181: (47.37700757293224, 8.541633583309734),\n",
       " 182: (47.376580665030076, 8.538450517019605),\n",
       " 184: (47.37744249520139, 8.540593546183459),\n",
       " 185: (47.37685991214415, 8.540559277294214),\n",
       " 187: (47.37887111253496, 8.542175017412106),\n",
       " 188: (47.37879748167308, 8.539619970383995),\n",
       " 190: (47.39698343671769, 8.543311629614617),\n",
       " 192: (47.39489289065457, 8.544875929718664),\n",
       " 197: (47.37194276858143, 8.525416070707013),\n",
       " 198: (47.371339467481874, 8.523955435738705),\n",
       " 199: (47.37067451160515, 8.521566260832588),\n",
       " 202: (47.36872123039397, 8.546982639555186),\n",
       " 205: (47.36625247790649, 8.546296956601907),\n",
       " 206: (47.36658218593451, 8.546385480750615),\n",
       " 207: (47.36679899336623, 8.54318199373347),\n",
       " 209: (47.368389350554885, 8.544283814498312),\n",
       " 216: (47.38942530473285, 8.524562082644463),\n",
       " 220: (47.39237867826818, 8.524267435969115),\n",
       " 221: (47.38924823039319, 8.521485981760701),\n",
       " 228: (47.42070995981922, 8.54896739314377),\n",
       " 257: (47.410691048479336, 8.545632403479757),\n",
       " 258: (47.410137701146084, 8.541963361553151),\n",
       " 263: (47.42015612927578, 8.507009775151545),\n",
       " 264: (47.41745796317623, 8.5097716357273),\n",
       " 274: (47.36299070004458, 8.528058424612492),\n",
       " 276: (47.35891143625711, 8.52170840465216),\n",
       " 277: (47.358300202011925, 8.51894546080105),\n",
       " 282: (47.42015642851166, 8.507009572486371),\n",
       " 286: (47.41042441361684, 8.54901157773937),\n",
       " 296: (47.376859918190505, 8.540559235135767),\n",
       " 297: (47.37642506090329, 8.541598900776387),\n",
       " 298: (47.37457930624925, 8.538864200553029),\n",
       " 301: (47.36512067457921, 8.564302525442095),\n",
       " 307: (47.374275654184025, 8.523351124082808),\n",
       " 308: (47.374548556609994, 8.52274950488366),\n",
       " 309: (47.37495254256646, 8.519264959689792),\n",
       " 311: (47.373059429782224, 8.518696483806384),\n",
       " 312: (47.3361127679056, 8.519597124535782),\n",
       " 313: (47.338964274686624, 8.522705374157763),\n",
       " 316: (47.36957599308519, 8.507941731546332),\n",
       " 321: (47.41171633424664, 8.546231677629002),\n",
       " 327: (47.41934475501, 8.55935695424066),\n",
       " 328: (47.41755947828731, 8.565196674077386),\n",
       " 330: (47.419344679616145, 8.55935714497662),\n",
       " 331: (47.419025069340634, 8.555510296366984),\n",
       " 332: (47.420705870534874, 8.548960215232725),\n",
       " 333: (47.418305686342656, 8.546766534682167),\n",
       " 337: (47.37700765800416, 8.541633214833467),\n",
       " 338: (47.377235372875916, 8.5427287735926),\n",
       " 341: (47.378192543040704, 8.544177266610594),\n",
       " 342: (47.37480786320128, 8.545569117317195),\n",
       " 343: (47.375368160818866, 8.543348975218432),\n",
       " 380: (47.371395561595165, 8.538636432212964),\n",
       " 381: (47.37457922994076, 8.538864205141513),\n",
       " 399: (47.39676267540413, 8.54098337834814),\n",
       " 400: (47.39376921510632, 8.539367419645242),\n",
       " 401: (47.40539982621062, 8.567950551888117),\n",
       " 402: (47.40505225338555, 8.560707471368477),\n",
       " 423: (47.37067429407692, 8.521568330644364),\n",
       " 426: (47.370145402024086, 8.516529349074343),\n",
       " 438: (47.417559710333734, 8.565197008316531),\n",
       " 442: (47.36558312829605, 8.550814909360419),\n",
       " 446: (47.396644357970956, 8.534778155349011),\n",
       " 447: (47.39338793808352, 8.537472937829506),\n",
       " 448: (47.38611071847137, 8.53978847945378),\n",
       " 449: (47.38209795959378, 8.541483433394651),\n",
       " 450: (47.38995294396001, 8.538932176252338),\n",
       " 451: (47.386110593603895, 8.539788555134237),\n",
       " 452: (47.37887119175386, 8.542175029033084),\n",
       " 454: (47.38209797269047, 8.541483521088322),\n",
       " 456: (47.41013771406642, 8.541963433529169),\n",
       " 468: (47.366252159515525, 8.546297866118646),\n",
       " 469: (47.36427087039369, 8.548648015202236),\n",
       " 472: (47.366581940947, 8.54638661063472),\n",
       " 473: (47.365582991144535, 8.550815399384318),\n",
       " 474: (47.361648342238155, 8.560508366306012),\n",
       " 475: (47.36239586777364, 8.559101917306258),\n",
       " 507: (47.35891147888701, 8.521708432389019),\n",
       " 509: (47.36070008078639, 8.52431036803722),\n",
       " 512: (47.41332420739782, 8.482207207128496),\n",
       " 515: (47.368943200035794, 8.539407055058584),\n",
       " 516: (47.36738561435327, 8.540568049496226),\n",
       " 523: (47.37454770542588, 8.522748892567517),\n",
       " 524: (47.375409313709795, 8.525079993632776),\n",
       " 525: (47.3749516576958, 8.51926446453188),\n",
       " 526: (47.376094065741356, 8.515597393176314),\n",
       " 527: (47.37745595644594, 8.511859458627065),\n",
       " 528: (47.376094067270586, 8.515597337919838),\n",
       " 531: (47.376580755252135, 8.53845012619403),\n",
       " 532: (47.37605993484516, 8.535848632711852),\n",
       " 533: (47.41615366682588, 8.552645161623138),\n",
       " 534: (47.419024990165425, 8.55551018157665),\n",
       " 535: (47.37871472154565, 8.548136899864657),\n",
       " 536: (47.38169940677253, 8.548156366664184),\n",
       " 537: (47.387377106721644, 8.547345851945646),\n",
       " 538: (47.38451590301679, 8.54826929292867),\n",
       " 541: (47.37485135011288, 8.531948209181023),\n",
       " 543: (47.376059941227794, 8.535848649719158),\n",
       " 544: (47.377296293262674, 8.532224297011592),\n",
       " 545: (47.38977888463987, 8.545885499091892),\n",
       " 546: (47.39214136935195, 8.545195436204402),\n",
       " 549: (47.40199551532586, 8.545744802263155),\n",
       " 550: (47.404980783877136, 8.548170627083426),\n",
       " 551: (47.38341446090418, 8.533277023633538),\n",
       " 552: (47.38569904066061, 8.53020166616938),\n",
       " 554: (47.383382737558705, 8.530530825259865),\n",
       " 555: (47.37879761904995, 8.539620015317308),\n",
       " 557: (47.38105717756362, 8.536224603329206),\n",
       " 558: (47.389425749333455, 8.524561505272118),\n",
       " 559: (47.38759821239559, 8.5274036460183),\n",
       " 560: (47.38737713259852, 8.547345837609148),\n",
       " 561: (47.38977894979567, 8.545885471742771),\n",
       " 562: (47.38169936479646, 8.548156346886689),\n",
       " 563: (47.3845159030472, 8.548269290872433),\n",
       " 564: (47.383414516258114, 8.533277324725812),\n",
       " 565: (47.38105697976412, 8.536224599737627),\n",
       " 568: (47.38569919642254, 8.530201861109385),\n",
       " 569: (47.38759830009514, 8.52740356667729),\n",
       " 571: (47.37819261826726, 8.54417718815709),\n",
       " 577: (47.40811917625143, 8.547426550868796),\n",
       " 578: (47.404980361103455, 8.548170658354257),\n",
       " 579: (47.39489265594296, 8.544875153362923),\n",
       " 581: (47.392141025373306, 8.545195398649359),\n",
       " 652: (47.40505214321252, 8.560707490771321),\n",
       " 653: (47.40287975743439, 8.55449994215456),\n",
       " 701: (47.39977858697131, 8.546781900583195),\n",
       " 703: (47.40287984134261, 8.554499872473038),\n",
       " 713: (47.36878120045805, 8.537279772696238),\n",
       " 714: (47.367105342376846, 8.53418492391992),\n",
       " 734: (47.4130708196532, 8.522325427442206),\n",
       " 735: (47.409706233071006, 8.527861849569843),\n",
       " 746: (47.410510533184876, 8.57024505959782),\n",
       " 789: (47.4141337622603, 8.53950914791049),\n",
       " 790: (47.41307056669389, 8.522326527780411),\n",
       " 792: (47.41500605711265, 8.516265812121564),\n",
       " 801: (47.407498999997344, 8.566588000000017),\n",
       " 802: (47.41745815218253, 8.509771514100802),\n",
       " 803: (47.41500617750073, 8.516265628727822),\n",
       " 866: (47.34240737262239, 8.530035533697852),\n",
       " 868: (47.341040833461356, 8.527626458149122),\n",
       " 887: (47.36710535891385, 8.534185012177156),\n",
       " 909: (47.380326561913456, 8.512242332294342),\n",
       " 911: (47.38141448291762, 8.517210159552757),\n",
       " 912: (47.38388239819772, 8.515829836732582),\n",
       " 913: (47.383692180872345, 8.511697141552297),\n",
       " 915: (47.37955644828352, 8.521610621699667),\n",
       " 916: (47.37921225873821, 8.525514923658326),\n",
       " 918: (47.37540930989158, 8.525080003483815),\n",
       " 920: (47.37791891648226, 8.526729708214251),\n",
       " 921: (47.381414890149, 8.517210340349893),\n",
       " 922: (47.379556651541364, 8.521610955539126),\n",
       " 925: (47.385625697241, 8.47606148413048),\n",
       " 932: (47.38897994068329, 8.486656915809736),\n",
       " 933: (47.39046498528024, 8.487793532390842),\n",
       " 937: (47.38898001785088, 8.48665691026152),\n",
       " 939: (47.38568452298936, 8.485138182444636),\n",
       " 949: (47.395751264208926, 8.487581492787431),\n",
       " 954: (47.39046489692447, 8.487794092881146),\n",
       " 959: (47.390166278950176, 8.491113261487623),\n",
       " 964: (47.384047549867205, 8.481202803939073),\n",
       " 965: (47.38568449770483, 8.485138270818997),\n",
       " 966: (47.381566572328026, 8.483662203116985),\n",
       " 967: (47.39575116040831, 8.487580994528),\n",
       " 973: (47.38716800682731, 8.47269733726042),\n",
       " 982: (47.358300195938405, 8.518945497174347),\n",
       " 984: (47.357752258650194, 8.515694849853457),\n",
       " 1008: (47.37753292372494, 8.484181610790076),\n",
       " 1022: (47.3772964025813, 8.53222413671795),\n",
       " 1024: (47.37150459275213, 8.549670128861866),\n",
       " 1039: (47.33182095056604, 8.517011655085524),\n",
       " 1040: (47.329296363175075, 8.514066786781573),\n",
       " 1041: (47.39950299729265, 8.519646582978586),\n",
       " 1044: (47.39448183919713, 8.491672212864191),\n",
       " 1046: (47.399071131686995, 8.494704469226223),\n",
       " 1050: (47.377925006640154, 8.50874283331777),\n",
       " 1051: (47.377486365528725, 8.503246443781663),\n",
       " 1066: (47.366798198358666, 8.543184031004856),\n",
       " 1068: (47.36738503074616, 8.540569264732795),\n",
       " 1071: (47.39141048142757, 8.486145435441578),\n",
       " 1095: (47.40208614286399, 8.498263151373365),\n",
       " 1097: (47.40087624366234, 8.502415415181488),\n",
       " 1102: (47.41538392545945, 8.538110793063302),\n",
       " 1105: (47.40680177654698, 8.506338874123816),\n",
       " 1106: (47.40316061269072, 8.50693273943897),\n",
       " 1107: (47.3642709399738, 8.548647930377891),\n",
       " 1108: (47.361711097581235, 8.550987743330603),\n",
       " 1114: (47.35658168234996, 8.555680401654229),\n",
       " 1115: (47.35914421967762, 8.5533338138125),\n",
       " 1121: (47.39950317515872, 8.519646250093622),\n",
       " 1122: (47.398612613961056, 8.525066641977556),\n",
       " 1137: (47.36957607903796, 8.507941585307204),\n",
       " 1138: (47.37003373665816, 8.511708256945443),\n",
       " 1150: (47.35775226459669, 8.515694809049705),\n",
       " 1151: (47.35493269381921, 8.51270834521951),\n",
       " 1168: (47.37161343534367, 8.548133433236586),\n",
       " 1169: (47.37480789298583, 8.545569059194774),\n",
       " 1187: (47.37791890611014, 8.526729684544621),\n",
       " 1188: (47.379030170400725, 8.52892294727716),\n",
       " 1190: (47.35423866819418, 8.557844565388045),\n",
       " 1191: (47.35176945878811, 8.559866401080722),\n",
       " 1196: (47.37290827720146, 8.532160403526138),\n",
       " 1197: (47.37098466723117, 8.536846644136855),\n",
       " 1200: (47.3248519154578, 8.514463435805078),\n",
       " 1201: (47.32738015928592, 8.513637465704738),\n",
       " 1205: (47.36606386853154, 8.50952204024494),\n",
       " 1206: (47.36337260796874, 8.506565451595256),\n",
       " 1208: (47.36091111180042, 8.506238471674758),\n",
       " 1218: (47.40680275228978, 8.50633879818902),\n",
       " 1225: (47.40320193329748, 8.489171808044027),\n",
       " 1226: (47.40243081181053, 8.494225541042045),\n",
       " 1229: (47.38647280651362, 8.53389351545435),\n",
       " 1231: (47.389719840689395, 8.536063299823361),\n",
       " 1238: (47.33611330116426, 8.519596589172822),\n",
       " 1239: (47.35658169917363, 8.555680342036133),\n",
       " 1240: (47.35423848465355, 8.557844699592634),\n",
       " 1248: (47.38156693307441, 8.48366229073109),\n",
       " 1249: (47.37753324634843, 8.4841817354476),\n",
       " 1250: (47.361711153825475, 8.550987645623017),\n",
       " 1251: (47.35914425670337, 8.553333679999204),\n",
       " 1257: (47.40220028358828, 8.488315749656184),\n",
       " 1265: (47.377896786104046, 8.559468816740647),\n",
       " 1267: (47.409706505110606, 8.527862476550823),\n",
       " 1274: (47.39907079853753, 8.494704257344548),\n",
       " 1275: (47.400726622327774, 8.492413479536957),\n",
       " 1277: (47.40320194083855, 8.489171762221552),\n",
       " 1285: (47.354932678900695, 8.5127082939327),\n",
       " 1287: (47.35489089959354, 8.510708980793643),\n",
       " 1303: (47.390166433802534, 8.491112805234025),\n",
       " 1304: (47.38853751650857, 8.49672198574007),\n",
       " 1305: (47.402086114438134, 8.49826331881083),\n",
       " 1306: (47.40243080983693, 8.494225583840933),\n",
       " 1312: (47.39813243026358, 8.530987232378347),\n",
       " 1313: (47.39861245337652, 8.52506705742698),\n",
       " 1318: (47.37305848881832, 8.51869579231001),\n",
       " 1321: (47.37096241378998, 8.515083188058505),\n",
       " 1327: (47.33896415041957, 8.522705642397899),\n",
       " 1336: (47.39237907190774, 8.5242666375846),\n",
       " 1339: (47.39386434104618, 8.527638272084474),\n",
       " 1342: (47.39353590626388, 8.53408711155887),\n",
       " 1344: (47.38971978739849, 8.536063282714986),\n",
       " 1349: (47.38388290036518, 8.515829995039756),\n",
       " 1350: (47.386674587681625, 8.518515374289716),\n",
       " 1359: (47.414133836338586, 8.53950918339725),\n",
       " 1360: (47.415384022275845, 8.538110779063082),\n",
       " 1369: (47.37536809537497, 8.543348918719378),\n",
       " 1370: (47.3729853469318, 8.542866645403286),\n",
       " 1380: (47.37298535520243, 8.542866641966043),\n",
       " 1381: (47.370891372491016, 8.543151654965767),\n",
       " 1394: (47.36299048259936, 8.528058069342544),\n",
       " 1395: (47.36069981769569, 8.524309951421397),\n",
       " 1401: (47.39934720791712, 8.51572370791622),\n",
       " 1406: (47.38088340244224, 8.528549062406054),\n",
       " 1410: (47.35176877005587, 8.55986697762119),\n",
       " 1414: (47.393864374481986, 8.52763857376727),\n",
       " 1436: (47.40087622187564, 8.502415530708204),\n",
       " 1440: (47.36091111466092, 8.506238474691939),\n",
       " 1441: (47.35811113093807, 8.508704499279775),\n",
       " 1465: (47.38724578180157, 8.501090744534888),\n",
       " 1471: (47.38724582863695, 8.501090622632047),\n",
       " 1477: (47.32929637824443, 8.514066798147997),\n",
       " 1478: (47.3273802001181, 8.513637397387354),\n",
       " 1489: (47.40013732140963, 8.511213581123467),\n",
       " 1492: (47.354890983588916, 8.51070900697561),\n",
       " 1493: (47.35811119418719, 8.508704470192157),\n",
       " 1501: (47.40072667120447, 8.492413441624716),\n",
       " 1522: (47.36875273058706, 8.493530422277175),\n",
       " 1527: (47.368389152577365, 8.544284621853409),\n",
       " 1528: (47.37089146851008, 8.543151661902032),\n",
       " 1555: (47.38369273259107, 8.511697999657017),\n",
       " 1556: (47.38587149820728, 8.505620495730586),\n",
       " 1558: (47.369850097785715, 8.551909508762158),\n",
       " 1559: (47.36861647552753, 8.557597530292504),\n",
       " 1560: (47.377486293135085, 8.503246790739459),\n",
       " 1570: (47.389248737257965, 8.521485389471843),\n",
       " 1572: (47.3866745423283, 8.518515320373897),\n",
       " 1595: (47.370145394938675, 8.516529478597292),\n",
       " 1596: (47.3700337030159, 8.51170847855027),\n",
       " 1597: (47.36896088575244, 8.51242851499997),\n",
       " 1598: (47.37096246155436, 8.515083313014506)}"
      ]
     },
     "execution_count": 79,
     "metadata": {},
     "output_type": "execute_result"
    }
   ],
   "source": [
    "Dict_List = pd.Series(new_final.Mid_point_GPS_data.values,index=new_final.Route_Node_id).to_dict()\n",
    "Dict_List"
   ]
  },
  {
   "cell_type": "code",
   "execution_count": 80,
   "metadata": {},
   "outputs": [
    {
     "name": "stderr",
     "output_type": "stream",
     "text": [
      "C:\\Users\\arash\\Anaconda3\\lib\\site-packages\\ipykernel_launcher.py:10: DeprecationWarning: Vincenty is deprecated and is going to be removed in geopy 2.0. Use `geopy.distance.geodesic` (or the default `geopy.distance.distance`) instead, which is more accurate and always converges.\n",
      "  # Remove the CWD from sys.path while we load stuff.\n",
      "C:\\Users\\arash\\Anaconda3\\lib\\site-packages\\ipykernel_launcher.py:11: DeprecationWarning: Vincenty is deprecated and is going to be removed in geopy 2.0. Use `geopy.distance.geodesic` (or the default `geopy.distance.distance`) instead, which is more accurate and always converges.\n",
      "  # This is added back by InteractiveShellApp.init_path()\n"
     ]
    }
   ],
   "source": [
    "# Find edges and weights:\n",
    "list_of_edges = []\n",
    "\n",
    "# iterate over each mid point aka road segment\n",
    "for i in list_of_nodes_Road:\n",
    "    # Look at every other road segment, if physical distance was less than 2.5 kilometers, add an edge\n",
    "    \n",
    "    for key, value in Dict_List.items():\n",
    "        if Dict_List[int(i)] != value:\n",
    "            if vincenty(Dict_List[int(i)], value).meters < 1000:\n",
    "                list_of_edges.append((int(i), key, 10/(vincenty(Dict_List[int(key)], Dict_List[int(i)]).kilometers)))\n",
    "    \n",
    "#     a = new_final[new_final.Route_Node_id == int(i)]\n",
    "#     a.Route_Node_id_tuple.iloc[5]\n",
    "#     for j in list_of_nodes:\n",
    "#         if i[0] != j[0]:\n",
    "#             if vincenty(i[1], j[1]).meters < 1000:\n",
    "#                 list_of_edges.append((i[0], j[0]))"
   ]
  },
  {
   "cell_type": "code",
   "execution_count": 81,
   "metadata": {
    "scrolled": true
   },
   "outputs": [
    {
     "data": {
      "text/plain": [
       "99      71\n",
       "541     71\n",
       "298     70\n",
       "381     70\n",
       "532     67\n",
       "144     67\n",
       "1381    67\n",
       "1528    67\n",
       "1197    67\n",
       "543     67\n",
       "180     65\n",
       "1369    65\n",
       "380     65\n",
       "343     65\n",
       "141     65\n",
       "1370    65\n",
       "1380    65\n",
       "182     64\n",
       "531     64\n",
       "342     63\n",
       "1169    63\n",
       "184     63\n",
       "1022    63\n",
       "179     63\n",
       "544     63\n",
       "337     62\n",
       "1196    62\n",
       "102     62\n",
       "181     62\n",
       "297     61\n",
       "        ..\n",
       "68       7\n",
       "1105     7\n",
       "1410     7\n",
       "803      7\n",
       "1478     7\n",
       "90       6\n",
       "401      6\n",
       "868      6\n",
       "94       6\n",
       "1008     6\n",
       "1249     6\n",
       "1200     6\n",
       "735      6\n",
       "801      6\n",
       "1267     6\n",
       "1401     6\n",
       "1265     5\n",
       "734      5\n",
       "790      5\n",
       "802      5\n",
       "263      5\n",
       "264      5\n",
       "282      5\n",
       "973      4\n",
       "118      4\n",
       "866      4\n",
       "512      1\n",
       "79       1\n",
       "1522     1\n",
       "11       1\n",
       "Length: 336, dtype: int64"
      ]
     },
     "execution_count": 81,
     "metadata": {},
     "output_type": "execute_result"
    }
   ],
   "source": [
    "# Edge count by the node id\n",
    "zlst = list(zip(*list_of_edges))\n",
    "edge_series = pd.Series(zlst[1], index = zlst[0])\n",
    "edge_series.value_counts()"
   ]
  },
  {
   "cell_type": "code",
   "execution_count": 82,
   "metadata": {},
   "outputs": [],
   "source": [
    "# Define Graph\n",
    "G = nx.Graph()"
   ]
  },
  {
   "cell_type": "code",
   "execution_count": 83,
   "metadata": {},
   "outputs": [],
   "source": [
    "G.add_nodes_from(list_of_nodes_Road_toKeep)"
   ]
  },
  {
   "cell_type": "code",
   "execution_count": 84,
   "metadata": {},
   "outputs": [
    {
     "data": {
      "text/plain": [
       "9984"
      ]
     },
     "execution_count": 84,
     "metadata": {},
     "output_type": "execute_result"
    }
   ],
   "source": [
    "len(set(list_of_edges))"
   ]
  },
  {
   "cell_type": "code",
   "execution_count": 85,
   "metadata": {},
   "outputs": [
    {
     "data": {
      "text/plain": [
       "[(41, 40, 38.9463878152347),\n",
       " (41, 42, 39.32680859684956),\n",
       " (41, 44, 35.3594634901815),\n",
       " (41, 76, 14.422061982583193),\n",
       " (41, 150, 10.31864278343454)]"
      ]
     },
     "execution_count": 85,
     "metadata": {},
     "output_type": "execute_result"
    }
   ],
   "source": [
    "list_of_edges[:5]"
   ]
  },
  {
   "cell_type": "code",
   "execution_count": 86,
   "metadata": {},
   "outputs": [],
   "source": [
    "G.add_weighted_edges_from(list_of_edges)"
   ]
  },
  {
   "cell_type": "code",
   "execution_count": 87,
   "metadata": {},
   "outputs": [
    {
     "name": "stderr",
     "output_type": "stream",
     "text": [
      "C:\\Users\\arash\\Anaconda3\\lib\\site-packages\\networkx\\drawing\\nx_pylab.py:611: MatplotlibDeprecationWarning: isinstance(..., numbers.Number)\n",
      "  if cb.is_numlike(alpha):\n"
     ]
    }
   ],
   "source": [
    "# # Visualize Graph\n",
    "nx.draw_networkx(G)"
   ]
  },
  {
   "cell_type": "code",
   "execution_count": 88,
   "metadata": {},
   "outputs": [
    {
     "data": {
      "text/plain": [
       "336"
      ]
     },
     "execution_count": 88,
     "metadata": {},
     "output_type": "execute_result"
    }
   ],
   "source": [
    "len(list(G.nodes))"
   ]
  },
  {
   "cell_type": "code",
   "execution_count": 89,
   "metadata": {},
   "outputs": [],
   "source": [
    "# Corr. based on edges"
   ]
  },
  {
   "cell_type": "code",
   "execution_count": 92,
   "metadata": {},
   "outputs": [
    {
     "data": {
      "text/plain": [
       "<matplotlib.collections.PathCollection at 0x20d9a13d668>"
      ]
     },
     "execution_count": 92,
     "metadata": {},
     "output_type": "execute_result"
    }
   ],
   "source": [
    "# # 459 is corr!\n",
    "sig_1 = final_data_df['87']\n",
    "# 619! 607!\n",
    "list_of_node_crosscoef = []\n",
    "for i in edge_series[87]:\n",
    "    sig_2 = final_data_df[str(i)]\n",
    "#     sig2 = sig2[sig2.betriebsdatum == '11.01.16']\n",
    "#     sig2.sort_values(by='soll_an_von', inplace=True)\n",
    "#     sig2 = sig2.groupby(by='intervals', as_index=False).mean()\n",
    "#     sig2_y = np.array(sig2.actual_travel_time_n_target)\n",
    "    list_of_node_crosscoef.append((i, np.corrcoef(sig_1, sig_2)[0][1]))\n",
    "zlst = list(zip(*list_of_node_crosscoef))\n",
    "list_of_node_crosscoef = pd.Series(zlst[1], index = zlst[0])\n",
    "list_of_node_crosscoef = list_of_node_crosscoef.dropna().sort_values()\n",
    "plt.scatter(list_of_node_crosscoef.index.values.tolist(), list_of_node_crosscoef.values.tolist())"
   ]
  },
  {
   "cell_type": "markdown",
   "metadata": {},
   "source": []
  },
  {
   "cell_type": "code",
   "execution_count": 93,
   "metadata": {},
   "outputs": [],
   "source": [
    "# Save the gps data for further use"
   ]
  },
  {
   "cell_type": "code",
   "execution_count": 94,
   "metadata": {},
   "outputs": [
    {
     "data": {
      "text/plain": [
       "{307: (47.374275654184025, 8.523351124082808),\n",
       " 97: (47.3738027450908, 8.527599026459598),\n",
       " 309: (47.37495254256646, 8.519264959689792),\n",
       " 528: (47.376094067270586, 8.515597337919838),\n",
       " 308: (47.374548556609994, 8.52274950488366),\n",
       " 918: (47.37540930989158, 8.525080003483815),\n",
       " 311: (47.373059429782224, 8.518696483806384),\n",
       " 1598: (47.37096246155436, 8.515083313014506),\n",
       " 199: (47.37067451160515, 8.521566260832588),\n",
       " 1595: (47.370145394938675, 8.516529478597292),\n",
       " 198: (47.371339467481874, 8.523955435738705),\n",
       " 423: (47.37067429407692, 8.521568330644364),\n",
       " 155: (47.37194253843056, 8.525418176404282),\n",
       " 197: (47.37194276858143, 8.525416070707013),\n",
       " 98: (47.373037711049584, 8.528240361640385),\n",
       " 102: (47.372907603444744, 8.532161877459233),\n",
       " 144: (47.3709840324442, 8.536847974130387),\n",
       " 99: (47.37485134337582, 8.531948414267125),\n",
       " 1022: (47.3772964025813, 8.53222413671795),\n",
       " 532: (47.37605993484516, 8.535848632711852),\n",
       " 524: (47.375409313709795, 8.525079993632776),\n",
       " 1187: (47.37791890611014, 8.526729684544621),\n",
       " 1318: (47.37305848881832, 8.51869579231001),\n",
       " 18: (47.37427435579169, 8.523351453003245),\n",
       " 525: (47.3749516576958, 8.51926446453188),\n",
       " 523: (47.37454770542588, 8.522748892567517),\n",
       " 527: (47.37745595644594, 8.511859458627065),\n",
       " 909: (47.380326561913456, 8.512242332294342),\n",
       " 1050: (47.377925006640154, 8.50874283331777),\n",
       " 1196: (47.37290827720146, 8.532160403526138),\n",
       " 154: (47.37303765083077, 8.528240075052997),\n",
       " 17: (47.37380228521639, 8.527599728970475),\n",
       " 541: (47.37485135011288, 8.531948209181023),\n",
       " 922: (47.379556651541364, 8.521610955539126),\n",
       " 920: (47.37791891648226, 8.526729708214251),\n",
       " 916: (47.37921225873821, 8.525514923658326),\n",
       " 1406: (47.38088340244224, 8.528549062406054),\n",
       " 426: (47.370145402024086, 8.516529349074343),\n",
       " 1321: (47.37096241378998, 8.515083188058505),\n",
       " 1138: (47.37003373665816, 8.511708256945443),\n",
       " 1597: (47.36896088575244, 8.51242851499997),\n",
       " 1205: (47.36606386853154, 8.50952204024494),\n",
       " 1596: (47.3700337030159, 8.51170847855027),\n",
       " 316: (47.36957599308519, 8.507941731546332),\n",
       " 185: (47.37685991214415, 8.540559277294214),\n",
       " 381: (47.37457922994076, 8.538864205141513),\n",
       " 337: (47.37700765800416, 8.541633214833467),\n",
       " 531: (47.376580755252135, 8.53845012619403),\n",
       " 184: (47.37744249520139, 8.540593546183459),\n",
       " 338: (47.377235372875916, 8.5427287735926),\n",
       " 179: (47.37744243021947, 8.540593917669113),\n",
       " 555: (47.37879761904995, 8.539620015317308),\n",
       " 452: (47.37887119175386, 8.542175029033084),\n",
       " 296: (47.376859918190505, 8.540559235135767),\n",
       " 342: (47.37480786320128, 8.545569117317195),\n",
       " 15: (47.3716133726147, 8.548133486524543),\n",
       " 343: (47.375368160818866, 8.543348975218432),\n",
       " 1380: (47.37298535520243, 8.542866641966043),\n",
       " 341: (47.378192543040704, 8.544177266610594),\n",
       " 21: (47.37839095680438, 8.54636382616415),\n",
       " 959: (47.390166278950176, 8.491113261487623),\n",
       " 954: (47.39046489692447, 8.487794092881146),\n",
       " 937: (47.38898001785088, 8.48665691026152),\n",
       " 1274: (47.39907079853753, 8.494704257344548),\n",
       " 949: (47.395751264208926, 8.487581492787431),\n",
       " 913: (47.383692180872345, 8.511697141552297),\n",
       " 911: (47.38141448291762, 8.517210159552757),\n",
       " 915: (47.37955644828352, 8.521610621699667),\n",
       " 912: (47.38388239819772, 8.515829836732582),\n",
       " 1572: (47.3866745423283, 8.518515320373897),\n",
       " 161: (47.38032682142516, 8.512241625691232),\n",
       " 1555: (47.38369273259107, 8.511697999657017),\n",
       " 921: (47.381414890149, 8.517210340349893),\n",
       " 1349: (47.38388290036518, 8.515829995039756),\n",
       " 159: (47.37745579363126, 8.511858621317023),\n",
       " 526: (47.376094065741356, 8.515597393176314),\n",
       " 162: (47.37792476777952, 8.508742400807328),\n",
       " 1560: (47.377486293135085, 8.503246790739459),\n",
       " 1556: (47.38587149820728, 8.505620495730586),\n",
       " 1465: (47.38724578180157, 8.501090744534888),\n",
       " 181: (47.37700757293224, 8.541633583309734),\n",
       " 1169: (47.37480789298583, 8.545569059194774),\n",
       " 571: (47.37819261826726, 8.54417718815709),\n",
       " 297: (47.37642506090329, 8.541598900776387),\n",
       " 1369: (47.37536809537497, 8.543348918719378),\n",
       " 220: (47.39237867826818, 8.524267435969115),\n",
       " 1414: (47.393864374481986, 8.52763857376727),\n",
       " 1105: (47.40680177654698, 8.506338874123816),\n",
       " 104: (47.39805871003681, 8.537514670283862),\n",
       " 130: (47.39712960175223, 8.532691073244068),\n",
       " 135: (47.40020165342645, 8.534157596583),\n",
       " 1312: (47.39813243026358, 8.530987232378347),\n",
       " 446: (47.396644357970956, 8.534778155349011),\n",
       " 1218: (47.40680275228978, 8.50633879818902),\n",
       " 1068: (47.36738503074616, 8.540569264732795),\n",
       " 142: (47.36894321837839, 8.539407149183438),\n",
       " 1066: (47.366798198358666, 8.543184031004856),\n",
       " 12: (47.36872096062622, 8.546983495075853),\n",
       " 468: (47.366252159515525, 8.546297866118646),\n",
       " 472: (47.366581940947, 8.54638661063472),\n",
       " 1527: (47.368389152577365, 8.544284621853409),\n",
       " 965: (47.38568449770483, 8.485138270818997),\n",
       " 932: (47.38897994068329, 8.486656915809736),\n",
       " 507: (47.35891147888701, 8.521708432389019),\n",
       " 982: (47.358300195938405, 8.518945497174347),\n",
       " 1522: (47.36875273058706, 8.493530422277175),\n",
       " 11: (47.368752703332575, 8.493530470205895),\n",
       " 25: (47.398058327746476, 8.537514621706384),\n",
       " 190: (47.39698343671769, 8.543311629614617),\n",
       " 149: (47.39902254438812, 8.542665226822525),\n",
       " 701: (47.39977858697131, 8.546781900583195),\n",
       " 399: (47.39676267540413, 8.54098337834814),\n",
       " 107: (47.39698393472621, 8.54331107457224),\n",
       " 579: (47.39489265594296, 8.544875153362923),\n",
       " 108: (47.39676312557895, 8.540983651029759),\n",
       " 172: (47.393769432463095, 8.539367449910108),\n",
       " 111: (47.399778958356826, 8.546782147927019),\n",
       " 653: (47.40287975743439, 8.55449994215456),\n",
       " 106: (47.39902289568705, 8.542665433393696),\n",
       " 549: (47.40199551532586, 8.545744802263155),\n",
       " 118: (47.34240721112491, 8.53003581786357),\n",
       " 1197: (47.37098466723117, 8.536846644136855),\n",
       " 713: (47.36878120045805, 8.537279772696238),\n",
       " 380: (47.371395561595165, 8.538636432212964),\n",
       " 515: (47.368943200035794, 8.539407055058584),\n",
       " 276: (47.35891143625711, 8.52170840465216),\n",
       " 1395: (47.36069981769569, 8.524309951421397),\n",
       " 933: (47.39046498528024, 8.487793532390842),\n",
       " 1044: (47.39448183919713, 8.491672212864191),\n",
       " 1303: (47.390166433802534, 8.491112805234025),\n",
       " 1071: (47.39141048142757, 8.486145435441578),\n",
       " 474: (47.361648342238155, 8.560508366306012),\n",
       " 312: (47.3361127679056, 8.519597124535782),\n",
       " 88: (47.33426883650492, 8.518840676504706),\n",
       " 967: (47.39575116040831, 8.487580994528),\n",
       " 516: (47.36738561435327, 8.540568049496226),\n",
       " 207: (47.36679899336623, 8.54318199373347),\n",
       " 866: (47.34240737262239, 8.530035533697852),\n",
       " 887: (47.36710535891385, 8.534185012177156),\n",
       " 143: (47.36878126132804, 8.537279946224093),\n",
       " 714: (47.367105342376846, 8.53418492391992),\n",
       " 1051: (47.377486365528725, 8.503246443781663),\n",
       " 1249: (47.37753324634843, 8.4841817354476),\n",
       " 1008: (47.37753292372494, 8.484181610790076),\n",
       " 966: (47.381566572328026, 8.483662203116985),\n",
       " 964: (47.384047549867205, 8.481202803939073),\n",
       " 1440: (47.36091111466092, 8.506238474691939),\n",
       " 1441: (47.35811113093807, 8.508704499279775),\n",
       " 1287: (47.35489089959354, 8.510708980793643),\n",
       " 543: (47.376059941227794, 8.535848649719158),\n",
       " 182: (47.376580665030076, 8.538450517019605),\n",
       " 544: (47.377296293262674, 8.532224297011592),\n",
       " 1188: (47.379030170400725, 8.52892294727716),\n",
       " 1394: (47.36299048259936, 8.528058069342544),\n",
       " 141: (47.37139569571274, 8.538636528596852),\n",
       " 298: (47.37457930624925, 8.538864200553029),\n",
       " 554: (47.383382737558705, 8.530530825259865),\n",
       " 188: (47.37879748167308, 8.539619970383995),\n",
       " 565: (47.38105697976412, 8.536224599737627),\n",
       " 187: (47.37887111253496, 8.542175017412106),\n",
       " 449: (47.38209795959378, 8.541483433394651),\n",
       " 180: (47.37706356393534, 8.538179518012193),\n",
       " 1168: (47.37161343534367, 8.548133433236586),\n",
       " 202: (47.36872123039397, 8.546982639555186),\n",
       " 1558: (47.369850097785715, 8.551909508762158),\n",
       " 1024: (47.37150459275213, 8.549670128861866),\n",
       " 557: (47.38105717756362, 8.536224603329206),\n",
       " 551: (47.38341446090418, 8.533277023633538),\n",
       " 1344: (47.38971978739849, 8.536063282714986),\n",
       " 454: (47.38209797269047, 8.541483521088322),\n",
       " 451: (47.386110593603895, 8.539788555134237),\n",
       " 535: (47.37871472154565, 8.548136899864657),\n",
       " 1370: (47.3729853469318, 8.542866645403286),\n",
       " 1528: (47.37089146851008, 8.543151661902032),\n",
       " 1336: (47.39237907190774, 8.5242666375846),\n",
       " 558: (47.389425749333455, 8.524561505272118),\n",
       " 1570: (47.389248737257965, 8.521485389471843),\n",
       " 1339: (47.39386434104618, 8.527638272084474),\n",
       " 564: (47.383414516258114, 8.533277324725812),\n",
       " 568: (47.38569919642254, 8.530201861109385),\n",
       " 1229: (47.38647280651362, 8.53389351545435),\n",
       " 448: (47.38611071847137, 8.53978847945378),\n",
       " 174: (47.38995312708019, 8.538932097000007),\n",
       " 509: (47.36070008078639, 8.52431036803722),\n",
       " 274: (47.36299070004458, 8.528058424612492),\n",
       " 16: (47.369850061287835, 8.551909616283595),\n",
       " 148: (47.368616412170084, 8.557597554887995),\n",
       " 13: (47.371504519533524, 8.549670195002955),\n",
       " 1381: (47.370891372491016, 8.543151654965767),\n",
       " 209: (47.368389350554885, 8.544283814498312),\n",
       " 20: (47.37871457649162, 8.548136735294445),\n",
       " 562: (47.38169936479646, 8.548156346886689),\n",
       " 1046: (47.399071131686995, 8.494704469226223),\n",
       " 1501: (47.40072667120447, 8.492413441624716),\n",
       " 1304: (47.38853751650857, 8.49672198574007),\n",
       " 1471: (47.38724582863695, 8.501090622632047),\n",
       " 939: (47.38568452298936, 8.485138182444636),\n",
       " 1248: (47.38156693307441, 8.48366229073109),\n",
       " 1275: (47.400726622327774, 8.492413479536957),\n",
       " 1257: (47.40220028358828, 8.488315749656184),\n",
       " 1190: (47.35423866819418, 8.557844565388045),\n",
       " 1114: (47.35658168234996, 8.555680401654229),\n",
       " 1191: (47.35176945878811, 8.559866401080722),\n",
       " 1115: (47.35914421967762, 8.5533338138125),\n",
       " 1108: (47.361711097581235, 8.550987743330603),\n",
       " 1410: (47.35176877005587, 8.55986697762119),\n",
       " 1240: (47.35423848465355, 8.557844699592634),\n",
       " 205: (47.36625247790649, 8.546296956601907),\n",
       " 1107: (47.3642709399738, 8.548647930377891),\n",
       " 559: (47.38759821239559, 8.5274036460183),\n",
       " 552: (47.38569904066061, 8.53020166616938),\n",
       " 1225: (47.40320193329748, 8.489171808044027),\n",
       " 1226: (47.40243081181053, 8.494225541042045),\n",
       " 1095: (47.40208614286399, 8.498263151373365),\n",
       " 512: (47.41332420739782, 8.482207207128496),\n",
       " 1277: (47.40320194083855, 8.489171762221552),\n",
       " 1306: (47.40243080983693, 8.494225583840933),\n",
       " 1350: (47.386674587681625, 8.518515374289716),\n",
       " 221: (47.38924823039319, 8.521485981760701),\n",
       " 868: (47.341040833461356, 8.527626458149122),\n",
       " 313: (47.338964274686624, 8.522705374157763),\n",
       " 277: (47.358300202011925, 8.51894546080105),\n",
       " 1150: (47.35775226459669, 8.515694809049705),\n",
       " 973: (47.38716800682731, 8.47269733726042),\n",
       " 925: (47.385625697241, 8.47606148413048),\n",
       " 475: (47.36239586777364, 8.559101917306258),\n",
       " 1239: (47.35658169917363, 8.555680342036133),\n",
       " 1251: (47.35914425670337, 8.553333679999204),\n",
       " 257: (47.410691048479336, 8.545632403479757),\n",
       " 321: (47.41171633424664, 8.546231677629002),\n",
       " 286: (47.41042441361684, 8.54901157773937),\n",
       " 577: (47.40811917625143, 8.547426550868796),\n",
       " 401: (47.40539982621062, 8.567950551888117),\n",
       " 40: (47.4106918770685, 8.545633117476566),\n",
       " 456: (47.41013771406642, 8.541963433529169),\n",
       " 746: (47.410510533184876, 8.57024505959782),\n",
       " 263: (47.42015612927578, 8.507009775151545),\n",
       " 228: (47.42070995981922, 8.54896739314377),\n",
       " 1313: (47.39861245337652, 8.52506705742698),\n",
       " 1041: (47.39950299729265, 8.519646582978586),\n",
       " 473: (47.365582991144535, 8.550815399384318),\n",
       " 68: (47.36512069814996, 8.564302552654015),\n",
       " 28: (47.39664437010312, 8.53477825884045),\n",
       " 173: (47.39338809968797, 8.537472847481668),\n",
       " 27: (47.40020157240362, 8.534157704769658),\n",
       " 32: (47.39813237305747, 8.530987450724206),\n",
       " 1122: (47.398612613961056, 8.525066641977556),\n",
       " 1342: (47.39353590626388, 8.53408711155887),\n",
       " 192: (47.39489289065457, 8.544875929718664),\n",
       " 546: (47.39214136935195, 8.545195436204402),\n",
       " 150: (47.40199541525668, 8.545744718045757),\n",
       " 578: (47.404980361103455, 8.548170658354257),\n",
       " 703: (47.40287984134261, 8.554499872473038),\n",
       " 402: (47.40505225338555, 8.560707471368477),\n",
       " 400: (47.39376921510632, 8.539367419645242),\n",
       " 447: (47.39338793808352, 8.537472937829506),\n",
       " 450: (47.38995294396001, 8.538932176252338),\n",
       " 87: (47.3318209640325, 8.51701167377289),\n",
       " 1477: (47.32929637824443, 8.514066798147997),\n",
       " 206: (47.36658218593451, 8.546385480750615),\n",
       " 442: (47.36558312829605, 8.550814909360419),\n",
       " 1137: (47.36957607903796, 8.507941585307204),\n",
       " 79: (47.41332423879862, 8.482206810699829),\n",
       " 216: (47.38942530473285, 8.524562082644463),\n",
       " 569: (47.38759830009514, 8.52740356667729),\n",
       " 1559: (47.36861647552753, 8.557597530292504),\n",
       " 67: (47.367053845170844, 8.561292178828229),\n",
       " 258: (47.410137701146084, 8.541963361553151),\n",
       " 282: (47.42015642851166, 8.507009572486371),\n",
       " 802: (47.41745815218253, 8.509771514100802),\n",
       " 90: (47.40539990799469, 8.567950708158268),\n",
       " 652: (47.40505214321252, 8.560707490771321),\n",
       " 94: (47.40540111189877, 8.57009731665283),\n",
       " 333: (47.418305686342656, 8.546766534682167),\n",
       " 332: (47.420705870534874, 8.548960215232725),\n",
       " 328: (47.41755947828731, 8.565196674077386),\n",
       " 1359: (47.414133836338586, 8.53950918339725),\n",
       " 1121: (47.39950317515872, 8.519646250093622),\n",
       " 1401: (47.39934720791712, 8.51572370791622),\n",
       " 1097: (47.40087624366234, 8.502415415181488),\n",
       " 1436: (47.40087622187564, 8.502415530708204),\n",
       " 1305: (47.402086114438134, 8.49826331881083),\n",
       " 1106: (47.40316061269072, 8.50693273943897),\n",
       " 131: (47.39353589284178, 8.534087117349822),\n",
       " 1231: (47.389719840689395, 8.536063299823361),\n",
       " 137: (47.40481569044296, 8.532869422763032),\n",
       " 735: (47.409706233071006, 8.527861849569843),\n",
       " 1489: (47.40013732140963, 8.511213581123467),\n",
       " 469: (47.36427087039369, 8.548648015202236),\n",
       " 1250: (47.361711153825475, 8.550987645623017),\n",
       " 1327: (47.33896415041957, 8.522705642397899),\n",
       " 1238: (47.33611330116426, 8.519596589172822),\n",
       " 984: (47.357752258650194, 8.515694849853457),\n",
       " 1285: (47.354932678900695, 8.5127082939327),\n",
       " 301: (47.36512067457921, 8.564302525442095),\n",
       " 146: (47.367053772525225, 8.56129215258437),\n",
       " 1039: (47.33182095056604, 8.517011655085524),\n",
       " 1040: (47.329296363175075, 8.514066786781573),\n",
       " 1201: (47.32738015928592, 8.513637465704738),\n",
       " 581: (47.392141025373306, 8.545195398649359),\n",
       " 561: (47.38977894979567, 8.545885471742771),\n",
       " 550: (47.404980783877136, 8.548170627083426),\n",
       " 44: (47.408120317879224, 8.547427080037421),\n",
       " 1151: (47.35493269381921, 8.51270834521951),\n",
       " 1492: (47.354890983588916, 8.51070900697561),\n",
       " 1493: (47.35811119418719, 8.508704470192157),\n",
       " 1208: (47.36091111180042, 8.506238471674758),\n",
       " 1206: (47.36337260796874, 8.506565451595256),\n",
       " 560: (47.38737713259852, 8.547345837609148),\n",
       " 563: (47.3845159030472, 8.548269290872433),\n",
       " 536: (47.38169940677253, 8.548156366664184),\n",
       " 538: (47.38451590301679, 8.54826929292867),\n",
       " 1265: (47.377896786104046, 8.559468816740647),\n",
       " 537: (47.387377106721644, 8.547345851945646),\n",
       " 545: (47.38977888463987, 8.545885499091892),\n",
       " 533: (47.41615366682588, 8.552645161623138),\n",
       " 41: (47.41042516186653, 8.549012477953312),\n",
       " 1267: (47.409706505110606, 8.527862476550823),\n",
       " 790: (47.41307056669389, 8.522326527780411),\n",
       " 42: (47.41171715294287, 8.54623230841747),\n",
       " 264: (47.41745796317623, 8.5097716357273),\n",
       " 792: (47.41500605711265, 8.516265812121564),\n",
       " 734: (47.4130708196532, 8.522325427442206),\n",
       " 803: (47.41500617750073, 8.516265628727822),\n",
       " 789: (47.4141337622603, 8.53950914791049),\n",
       " 1102: (47.41538392545945, 8.538110793063302),\n",
       " 438: (47.417559710333734, 8.565197008316531),\n",
       " 330: (47.419344679616145, 8.55935714497662),\n",
       " 534: (47.419024990165425, 8.55551018157665),\n",
       " 327: (47.41934475501, 8.55935695424066),\n",
       " 1360: (47.415384022275845, 8.538110779063082),\n",
       " 76: (47.41615363131163, 8.552645120945822),\n",
       " 331: (47.419025069340634, 8.555510296366984),\n",
       " 801: (47.407498999997344, 8.566588000000017),\n",
       " 1200: (47.3248519154578, 8.514463435805078),\n",
       " 1478: (47.3273802001181, 8.513637397387354)}"
      ]
     },
     "execution_count": 94,
     "metadata": {},
     "output_type": "execute_result"
    }
   ],
   "source": [
    "dict_gps = pd.Series(final.Mid_point_GPS_data.values,index=final.Route_Node_id).to_dict()\n",
    "# print(len(dict_gps))\n",
    "for i, v in dict_gps.items():\n",
    "    if i not in list_of_nodes_Road_toKeep:\n",
    "        del dict_gps[i]\n",
    "dict_gps"
   ]
  },
  {
   "cell_type": "code",
   "execution_count": 95,
   "metadata": {},
   "outputs": [],
   "source": [
    "# GPS data df\n",
    "d = pd.DataFrame(dict_gps)\n",
    "d.to_csv('gps_10min_Final.csv', index=False)"
   ]
  },
  {
   "cell_type": "code",
   "execution_count": 96,
   "metadata": {},
   "outputs": [],
   "source": [
    "# Save Final DF as well\n",
    "final_data_df.to_csv('signal_10min_Final.csv', index=False)"
   ]
  },
  {
   "cell_type": "code",
   "execution_count": 97,
   "metadata": {},
   "outputs": [
    {
     "data": {
      "text/plain": [
       "(5040, 336)"
      ]
     },
     "execution_count": 97,
     "metadata": {},
     "output_type": "execute_result"
    }
   ],
   "source": [
    "# Shape of final df\n",
    "final_data_df.shape"
   ]
  },
  {
   "cell_type": "markdown",
   "metadata": {},
   "source": [
    "# Finding correlation coefficient"
   ]
  },
  {
   "cell_type": "code",
   "execution_count": 101,
   "metadata": {},
   "outputs": [],
   "source": [
    "sig1 = final[final.Route_Node_id == 87]\n",
    "sig1 = sig1[sig1.betriebsdatum == '07.01.16']\n",
    "sig1.sort_values(by='soll_an_von', inplace=True)\n",
    "# sig1 = sig1\n",
    "sig1 = sig1.groupby(by='intervals', as_index=False).mean()\n",
    "# sig1"
   ]
  },
  {
   "cell_type": "code",
   "execution_count": 102,
   "metadata": {},
   "outputs": [],
   "source": [
    "sig2 = final[final.Route_Node_id == 88]\n",
    "sig2 = sig2[sig2.betriebsdatum == '07.01.16']\n",
    "sig2.sort_values(by='soll_an_von', inplace=True)\n",
    "sig2 = sig2.groupby(by='intervals', as_index=False).mean()\n",
    "# sig2"
   ]
  },
  {
   "cell_type": "code",
   "execution_count": 103,
   "metadata": {},
   "outputs": [
    {
     "data": {
      "text/plain": [
       "[<matplotlib.lines.Line2D at 0x20d99fd5a90>,\n",
       " <matplotlib.lines.Line2D at 0x20d99fd5e80>]"
      ]
     },
     "execution_count": 103,
     "metadata": {},
     "output_type": "execute_result"
    }
   ],
   "source": [
    "sig1_X = np.array(sig1.intervals)\n",
    "sig1_y = np.array(sig1.actual_travel_time_n_target)\n",
    "sig1_y_zeromean = sig1_y - sig1_y.mean()\n",
    "\n",
    "sig2_X = np.array(sig2.intervals)\n",
    "sig2_y = np.array(sig2.actual_travel_time_n_target)\n",
    "sig2_y_zeromean = sig2_y - sig2_y.mean()\n",
    "\n",
    "plt.plot(sig1_X, sig1_y, sig2_X, sig2_y)"
   ]
  },
  {
   "cell_type": "code",
   "execution_count": 104,
   "metadata": {},
   "outputs": [
    {
     "data": {
      "text/plain": [
       "[<matplotlib.lines.Line2D at 0x20d97f23748>,\n",
       " <matplotlib.lines.Line2D at 0x20d97f23940>]"
      ]
     },
     "execution_count": 104,
     "metadata": {},
     "output_type": "execute_result"
    }
   ],
   "source": [
    "plt.plot(sig1_X, sig1_y_zeromean, sig2_X, sig2_y_zeromean)"
   ]
  },
  {
   "cell_type": "code",
   "execution_count": 105,
   "metadata": {},
   "outputs": [
    {
     "data": {
      "text/plain": [
       "array([[1.        , 0.04247711],\n",
       "       [0.04247711, 1.        ]])"
      ]
     },
     "execution_count": 105,
     "metadata": {},
     "output_type": "execute_result"
    }
   ],
   "source": [
    "from scipy.stats.stats import pearsonr\n",
    "np.corrcoef(sig1_y_zeromean, sig2_y_zeromean)"
   ]
  },
  {
   "cell_type": "code",
   "execution_count": 106,
   "metadata": {},
   "outputs": [
    {
     "data": {
      "text/plain": [
       "(0.04247711457554691, 0.7012385676512146)"
      ]
     },
     "execution_count": 106,
     "metadata": {},
     "output_type": "execute_result"
    }
   ],
   "source": [
    "pearsonr_coef = pearsonr(sig1_y, sig2_y)\n",
    "pearsonr_coef"
   ]
  },
  {
   "cell_type": "code",
   "execution_count": 107,
   "metadata": {},
   "outputs": [
    {
     "data": {
      "text/plain": [
       "99     71\n",
       "541    71\n",
       "298    70\n",
       "381    70\n",
       "532    67\n",
       "dtype: int64"
      ]
     },
     "execution_count": 107,
     "metadata": {},
     "output_type": "execute_result"
    }
   ],
   "source": [
    "edge_series.value_counts()[:5]"
   ]
  },
  {
   "cell_type": "code",
   "execution_count": 108,
   "metadata": {},
   "outputs": [
    {
     "data": {
      "text/plain": [
       "99      71\n",
       "541     71\n",
       "298     70\n",
       "381     70\n",
       "532     67\n",
       "144     67\n",
       "1381    67\n",
       "1528    67\n",
       "1197    67\n",
       "543     67\n",
       "180     65\n",
       "1369    65\n",
       "380     65\n",
       "343     65\n",
       "141     65\n",
       "1370    65\n",
       "1380    65\n",
       "182     64\n",
       "531     64\n",
       "342     63\n",
       "1169    63\n",
       "184     63\n",
       "1022    63\n",
       "179     63\n",
       "544     63\n",
       "337     62\n",
       "1196    62\n",
       "102     62\n",
       "181     62\n",
       "297     61\n",
       "        ..\n",
       "68       7\n",
       "1105     7\n",
       "1410     7\n",
       "803      7\n",
       "1478     7\n",
       "90       6\n",
       "401      6\n",
       "868      6\n",
       "94       6\n",
       "1008     6\n",
       "1249     6\n",
       "1200     6\n",
       "735      6\n",
       "801      6\n",
       "1267     6\n",
       "1401     6\n",
       "1265     5\n",
       "734      5\n",
       "790      5\n",
       "802      5\n",
       "263      5\n",
       "264      5\n",
       "282      5\n",
       "973      4\n",
       "118      4\n",
       "866      4\n",
       "512      1\n",
       "79       1\n",
       "1522     1\n",
       "11       1\n",
       "Length: 336, dtype: int64"
      ]
     },
     "execution_count": 108,
     "metadata": {},
     "output_type": "execute_result"
    }
   ],
   "source": [
    "zlst = list(zip(*list_of_edges))\n",
    "edge_series = pd.Series(zlst[1], index = zlst[0])\n",
    "edge_series.value_counts()"
   ]
  },
  {
   "cell_type": "code",
   "execution_count": 110,
   "metadata": {},
   "outputs": [
    {
     "name": "stdout",
     "output_type": "stream",
     "text": [
      "Using matplotlib backend: Qt5Agg\n"
     ]
    },
    {
     "data": {
      "text/plain": [
       "Text(0.5, 1.0, 'Connected nodes - G1')"
      ]
     },
     "execution_count": 110,
     "metadata": {},
     "output_type": "execute_result"
    }
   ],
   "source": [
    "%matplotlib\n",
    "sig1 = np.array(final_data_df[str(88)])\n",
    "\n",
    "list_of_node_crosscoef = []\n",
    "\n",
    "for i in edge_series[88]:\n",
    "    sig2 = np.array(final_data_df[str(i)])\n",
    "    list_of_node_crosscoef.append((i, np.corrcoef(sig1, sig2)[0][1]))\n",
    "\n",
    "zlst = list(zip(*list_of_node_crosscoef))\n",
    "list_of_node_crosscoef = pd.Series(zlst[1], index = zlst[0])\n",
    "list_of_node_crosscoef = list_of_node_crosscoef.dropna().sort_values()\n",
    "\n",
    "plt.scatter(list_of_node_crosscoef.index.values.tolist(), list_of_node_crosscoef.values.tolist())\n",
    "plt.xlabel('Road ID')\n",
    "plt.ylabel('pearson correlation coefficient')\n",
    "plt.title('Connected nodes - G1')"
   ]
  },
  {
   "cell_type": "code",
   "execution_count": 111,
   "metadata": {},
   "outputs": [],
   "source": [
    "# # Autocorrelation\n",
    "# def autocorr(x, t=1):\n",
    "#     return np.corrcoef(np.array([x[:-t], x[t:]]))\n",
    "# autocorr(sig2_y_zeromean)"
   ]
  },
  {
   "cell_type": "code",
   "execution_count": 112,
   "metadata": {},
   "outputs": [
    {
     "name": "stdout",
     "output_type": "stream",
     "text": [
      "Using matplotlib backend: Qt5Agg\n"
     ]
    },
    {
     "data": {
      "text/plain": [
       "<matplotlib.axes._subplots.AxesSubplot at 0x20d99fe7fd0>"
      ]
     },
     "execution_count": 112,
     "metadata": {},
     "output_type": "execute_result"
    }
   ],
   "source": [
    "one_day = final_data_df[:84]\n",
    "%matplotlib\n",
    "import seaborn as sns\n",
    "corr = one_day.corr()\n",
    "sns.heatmap(corr, \n",
    "            xticklabels=corr.columns.values,\n",
    "            yticklabels=corr.columns.values)"
   ]
  },
  {
   "cell_type": "code",
   "execution_count": 114,
   "metadata": {},
   "outputs": [
    {
     "data": {
      "text/plain": [
       "1598  1598    1.000000\n",
       "111   701     0.935669\n",
       "703   652     0.879686\n",
       "402   652     0.839950\n",
       "653   402     0.774383\n",
       "564   552     0.772696\n",
       "703   402     0.770201\n",
       "401   652     0.714158\n",
       "90    402     0.711618\n",
       "912   161     0.704232\n",
       "887   713     0.699510\n",
       "653   652     0.698010\n",
       "703   653     0.681192\n",
       "      401     0.679390\n",
       "1465  1304    0.667922\n",
       "402   401     0.648713\n",
       "557   564     0.638023\n",
       "90    652     0.625863\n",
       "714   143     0.612512\n",
       "90    653     0.589061\n",
       "703   90      0.583884\n",
       "401   90      0.565514\n",
       "      653     0.542234\n",
       "475   1370    0.539954\n",
       "44    331     0.531126\n",
       "475   1369    0.524536\n",
       "913   1304    0.515936\n",
       "1342  220     0.497076\n",
       "88    104     0.494698\n",
       "316   1137    0.488089\n",
       "276   274     0.483128\n",
       "1201  1477    0.477139\n",
       "557   552     0.468508\n",
       "1369  1370    0.465273\n",
       "1381  1558    0.460906\n",
       "1226  1305    0.445431\n",
       "1350  1342    0.442616\n",
       "1489  1106    0.439272\n",
       "1401  1489    0.426144\n",
       "1380  1370    0.424470\n",
       "562   173     0.423132\n",
       "1342  912     0.408046\n",
       "12    1558    0.407260\n",
       "1137  562     0.407232\n",
       "973   982     0.403725\n",
       "1040  1478    0.401322\n",
       "653   701     0.390920\n",
       "173   88      0.387605\n",
       "1360  1137    0.387564\n",
       "868   1327    0.386929\n",
       "dtype: float64"
      ]
     },
     "execution_count": 114,
     "metadata": {},
     "output_type": "execute_result"
    }
   ],
   "source": [
    "final_data_df.corr().unstack().sort_values(ascending=False).drop_duplicates()[:50]"
   ]
  },
  {
   "cell_type": "code",
   "execution_count": 115,
   "metadata": {},
   "outputs": [
    {
     "data": {
      "text/plain": [
       "[<matplotlib.lines.Line2D at 0x2112a3f1128>,\n",
       " <matplotlib.lines.Line2D at 0x2112a3f1278>]"
      ]
     },
     "execution_count": 115,
     "metadata": {},
     "output_type": "execute_result"
    }
   ],
   "source": [
    "sig1 = final[final.Route_Node_id == 549]\n",
    "sig1 = sig1[sig1.betriebsdatum == '07.01.16']\n",
    "sig1.sort_values(by='soll_an_von', inplace=True)\n",
    "# sig1 = sig1\n",
    "sig1 = sig1.groupby(by='intervals', as_index=False).mean()\n",
    "# sig1\n",
    "sig2 = final[final.Route_Node_id == 561]\n",
    "sig2 = sig2[sig2.betriebsdatum == '07.01.16']\n",
    "sig2.sort_values(by='soll_an_von', inplace=True)\n",
    "sig2 = sig2.groupby(by='intervals', as_index=False).mean()\n",
    "# sig2\n",
    "\n",
    "sig1_X = np.array(sig1.intervals)\n",
    "sig1_y = np.array(sig1.actual_travel_time_n_target)\n",
    "sig1_y_zeromean = sig1_y - sig1_y.mean()\n",
    "\n",
    "sig2_X = np.array(sig2.intervals)\n",
    "sig2_y = np.array(sig2.actual_travel_time_n_target)\n",
    "sig2_y_zeromean = sig2_y - sig2_y.mean()\n",
    "\n",
    "plt.plot(sig1_X, sig1_y_zeromean, sig2_X, sig2_y_zeromean)"
   ]
  },
  {
   "cell_type": "code",
   "execution_count": 116,
   "metadata": {},
   "outputs": [],
   "source": [
    "# Save this graph"
   ]
  },
  {
   "cell_type": "code",
   "execution_count": 117,
   "metadata": {},
   "outputs": [
    {
     "data": {
      "text/plain": [
       "336"
      ]
     },
     "execution_count": 117,
     "metadata": {},
     "output_type": "execute_result"
    }
   ],
   "source": [
    "len(final_data_df.columns)"
   ]
  },
  {
   "cell_type": "code",
   "execution_count": 118,
   "metadata": {},
   "outputs": [],
   "source": [
    "a = [int(i) for i in final_data_df.columns.values.tolist()]\n",
    "\n",
    "adj_mat = nx.to_numpy_matrix(G, nodelist=a)\n",
    "\n",
    "np.savetxt(\"PeMSD7_W_336_V1.csv\", adj_mat, delimiter=\",\")"
   ]
  },
  {
   "cell_type": "code",
   "execution_count": 119,
   "metadata": {},
   "outputs": [],
   "source": [
    "final_data_df.to_csv('PeMSD7_V_336_V1.csv', index=False)"
   ]
  },
  {
   "cell_type": "markdown",
   "metadata": {},
   "source": [
    "# Create the graph another way! V2"
   ]
  },
  {
   "cell_type": "code",
   "execution_count": 120,
   "metadata": {},
   "outputs": [],
   "source": [
    "Nodes = list(set(new_final.Route_Node_id))"
   ]
  },
  {
   "cell_type": "code",
   "execution_count": 121,
   "metadata": {},
   "outputs": [
    {
     "data": {
      "text/plain": [
       "336"
      ]
     },
     "execution_count": 121,
     "metadata": {},
     "output_type": "execute_result"
    }
   ],
   "source": [
    "Dict_List_halt_ids = pd.Series(new_final.Route_Node_id_tuple.values,index=new_final.Route_Node_id).to_dict()\n",
    "len(Dict_List)"
   ]
  },
  {
   "cell_type": "code",
   "execution_count": 122,
   "metadata": {},
   "outputs": [
    {
     "name": "stderr",
     "output_type": "stream",
     "text": [
      "C:\\Users\\arash\\Anaconda3\\lib\\site-packages\\ipykernel_launcher.py:10: DeprecationWarning: Vincenty is deprecated and is going to be removed in geopy 2.0. Use `geopy.distance.geodesic` (or the default `geopy.distance.distance`) instead, which is more accurate and always converges.\n",
      "  # Remove the CWD from sys.path while we load stuff.\n"
     ]
    }
   ],
   "source": [
    "# Create the new graph:\n",
    "\n",
    "# GPS is in Dict_List\n",
    "Edges = []\n",
    "for key, value in Dict_List_halt_ids.items():\n",
    "    for key_2, value_2 in Dict_List_halt_ids.items():\n",
    "        if key != key_2:\n",
    "#             if value[0] == value_2[0] or value[0] == value_2[1] or value[1] == value_2[0] or value[1] == value_2[1]: \n",
    "            if value[0] == value_2[0] or value[1] == value_2[1]:    \n",
    "                Edges.append((int(key), int(key_2), 10/(vincenty(Dict_List[int(key)], Dict_List[int(key_2)]).kilometers)))\n",
    "    \n"
   ]
  },
  {
   "cell_type": "code",
   "execution_count": 123,
   "metadata": {},
   "outputs": [
    {
     "data": {
      "text/plain": [
       "872"
      ]
     },
     "execution_count": 123,
     "metadata": {},
     "output_type": "execute_result"
    }
   ],
   "source": [
    "len(Edges)"
   ]
  },
  {
   "cell_type": "code",
   "execution_count": 124,
   "metadata": {},
   "outputs": [],
   "source": [
    "New_G = nx.Graph()\n",
    "New_G.add_nodes_from(list_of_nodes_Road_toKeep)\n",
    "New_G.add_weighted_edges_from(Edges)"
   ]
  },
  {
   "cell_type": "code",
   "execution_count": 125,
   "metadata": {},
   "outputs": [
    {
     "data": {
      "text/plain": [
       "336"
      ]
     },
     "execution_count": 125,
     "metadata": {},
     "output_type": "execute_result"
    }
   ],
   "source": [
    "len(list(New_G.nodes))"
   ]
  },
  {
   "cell_type": "code",
   "execution_count": 126,
   "metadata": {},
   "outputs": [
    {
     "name": "stderr",
     "output_type": "stream",
     "text": [
      "C:\\Users\\arash\\Anaconda3\\lib\\site-packages\\networkx\\drawing\\nx_pylab.py:611: MatplotlibDeprecationWarning: isinstance(..., numbers.Number)\n",
      "  if cb.is_numlike(alpha):\n"
     ]
    }
   ],
   "source": [
    "nx.draw_networkx(New_G)"
   ]
  },
  {
   "cell_type": "code",
   "execution_count": 127,
   "metadata": {},
   "outputs": [
    {
     "data": {
      "text/plain": [
       "set()"
      ]
     },
     "execution_count": 127,
     "metadata": {},
     "output_type": "execute_result"
    }
   ],
   "source": [
    "set1 = set(list(New_G.node))\n",
    "set2 = set(new_final.Route_Node_id)\n",
    "set2 - set1"
   ]
  },
  {
   "cell_type": "code",
   "execution_count": 129,
   "metadata": {},
   "outputs": [],
   "source": [
    "a = [int(i) for i in final_data_df.columns.values.tolist()]\n",
    "\n",
    "adj_mat = nx.to_numpy_matrix(New_G, nodelist=a)\n",
    "\n",
    "np.savetxt(\"PeMSD7_W_336_V2.csv\", adj_mat, delimiter=\",\")"
   ]
  },
  {
   "cell_type": "code",
   "execution_count": 130,
   "metadata": {},
   "outputs": [
    {
     "data": {
      "text/plain": [
       "25      7\n",
       "181     6\n",
       "209     5\n",
       "468     5\n",
       "452     5\n",
       "1169    5\n",
       "99      5\n",
       "130     5\n",
       "106     5\n",
       "184     5\n",
       "921     4\n",
       "108     4\n",
       "555     4\n",
       "40      4\n",
       "309     4\n",
       "15      4\n",
       "399     4\n",
       "1318    4\n",
       "202     4\n",
       "135     4\n",
       "342     4\n",
       "1044    4\n",
       "141     4\n",
       "472     4\n",
       "713     4\n",
       "913     3\n",
       "307     3\n",
       "159     3\n",
       "155     3\n",
       "98      3\n",
       "       ..\n",
       "1208    1\n",
       "1336    1\n",
       "1395    1\n",
       "1201    1\n",
       "1394    1\n",
       "866     1\n",
       "258     1\n",
       "964     1\n",
       "1150    1\n",
       "143     1\n",
       "131     1\n",
       "137     1\n",
       "337     1\n",
       "1359    1\n",
       "333     1\n",
       "331     1\n",
       "148     1\n",
       "150     1\n",
       "911     1\n",
       "330     1\n",
       "1349    1\n",
       "161     1\n",
       "1344    1\n",
       "1190    1\n",
       "1197    1\n",
       "789     1\n",
       "554     1\n",
       "316     1\n",
       "1339    1\n",
       "1137    1\n",
       "Length: 224, dtype: int64"
      ]
     },
     "execution_count": 130,
     "metadata": {},
     "output_type": "execute_result"
    }
   ],
   "source": [
    "zlst = list(zip(*(list(New_G.edges()))))\n",
    "edge_series = pd.Series(zlst[1], index = zlst[0])\n",
    "edge_series.value_counts()"
   ]
  },
  {
   "cell_type": "code",
   "execution_count": 134,
   "metadata": {},
   "outputs": [
    {
     "name": "stdout",
     "output_type": "stream",
     "text": [
      "Using matplotlib backend: Qt5Agg\n"
     ]
    },
    {
     "ename": "TypeError",
     "evalue": "'numpy.int64' object is not iterable",
     "output_type": "error",
     "traceback": [
      "\u001b[1;31m---------------------------------------------------------------------------\u001b[0m",
      "\u001b[1;31mTypeError\u001b[0m                                 Traceback (most recent call last)",
      "\u001b[1;32m<ipython-input-134-e88d7c16661a>\u001b[0m in \u001b[0;36m<module>\u001b[1;34m\u001b[0m\n\u001b[0;32m      4\u001b[0m \u001b[0mlist_of_node_crosscoef\u001b[0m \u001b[1;33m=\u001b[0m \u001b[1;33m[\u001b[0m\u001b[1;33m]\u001b[0m\u001b[1;33m\u001b[0m\u001b[1;33m\u001b[0m\u001b[0m\n\u001b[0;32m      5\u001b[0m \u001b[1;33m\u001b[0m\u001b[0m\n\u001b[1;32m----> 6\u001b[1;33m \u001b[1;32mfor\u001b[0m \u001b[0mi\u001b[0m \u001b[1;32min\u001b[0m \u001b[0medge_series\u001b[0m\u001b[1;33m[\u001b[0m\u001b[1;36m90\u001b[0m\u001b[1;33m]\u001b[0m\u001b[1;33m:\u001b[0m\u001b[1;33m\u001b[0m\u001b[1;33m\u001b[0m\u001b[0m\n\u001b[0m\u001b[0;32m      7\u001b[0m     \u001b[0msig2\u001b[0m \u001b[1;33m=\u001b[0m \u001b[0mnp\u001b[0m\u001b[1;33m.\u001b[0m\u001b[0marray\u001b[0m\u001b[1;33m(\u001b[0m\u001b[0mfinal_data_df\u001b[0m\u001b[1;33m[\u001b[0m\u001b[0mstr\u001b[0m\u001b[1;33m(\u001b[0m\u001b[0mi\u001b[0m\u001b[1;33m)\u001b[0m\u001b[1;33m]\u001b[0m\u001b[1;33m)\u001b[0m\u001b[1;33m\u001b[0m\u001b[1;33m\u001b[0m\u001b[0m\n\u001b[0;32m      8\u001b[0m     \u001b[0mlist_of_node_crosscoef\u001b[0m\u001b[1;33m.\u001b[0m\u001b[0mappend\u001b[0m\u001b[1;33m(\u001b[0m\u001b[1;33m(\u001b[0m\u001b[0mi\u001b[0m\u001b[1;33m,\u001b[0m \u001b[0mnp\u001b[0m\u001b[1;33m.\u001b[0m\u001b[0mcorrcoef\u001b[0m\u001b[1;33m(\u001b[0m\u001b[0msig1\u001b[0m\u001b[1;33m,\u001b[0m \u001b[0msig2\u001b[0m\u001b[1;33m)\u001b[0m\u001b[1;33m[\u001b[0m\u001b[1;36m0\u001b[0m\u001b[1;33m]\u001b[0m\u001b[1;33m[\u001b[0m\u001b[1;36m1\u001b[0m\u001b[1;33m]\u001b[0m\u001b[1;33m)\u001b[0m\u001b[1;33m)\u001b[0m\u001b[1;33m\u001b[0m\u001b[1;33m\u001b[0m\u001b[0m\n",
      "\u001b[1;31mTypeError\u001b[0m: 'numpy.int64' object is not iterable"
     ]
    }
   ],
   "source": [
    "%matplotlib\n",
    "sig1 = np.array(final_data_df[str(90)])\n",
    "\n",
    "list_of_node_crosscoef = []\n",
    "\n",
    "for i in edge_series[90]:\n",
    "    sig2 = np.array(final_data_df[str(i)])\n",
    "    list_of_node_crosscoef.append((i, np.corrcoef(sig1, sig2)[0][1]))\n",
    "\n",
    "zlst = list(zip(*list_of_node_crosscoef))\n",
    "list_of_node_crosscoef = pd.Series(zlst[1], index = zlst[0])\n",
    "list_of_node_crosscoef = list_of_node_crosscoef.dropna().sort_values()\n",
    "\n",
    "plt.scatter(list_of_node_crosscoef.index.values.tolist(), list_of_node_crosscoef.values.tolist())\n",
    "plt.xlabel('Road ID')\n",
    "plt.ylabel('pearson correlation coefficient')\n",
    "plt.title('Connected nodes - G2')"
   ]
  },
  {
   "cell_type": "markdown",
   "metadata": {},
   "source": [
    "# Remove nodes with no connections\n"
   ]
  },
  {
   "cell_type": "code",
   "execution_count": 135,
   "metadata": {},
   "outputs": [
    {
     "data": {
      "text/plain": [
       "336"
      ]
     },
     "execution_count": 135,
     "metadata": {},
     "output_type": "execute_result"
    }
   ],
   "source": [
    "len(New_G.nodes)"
   ]
  },
  {
   "cell_type": "code",
   "execution_count": 136,
   "metadata": {},
   "outputs": [
    {
     "name": "stderr",
     "output_type": "stream",
     "text": [
      "C:\\Users\\arash\\Anaconda3\\lib\\site-packages\\networkx\\drawing\\nx_pylab.py:611: MatplotlibDeprecationWarning: isinstance(..., numbers.Number)\n",
      "  if cb.is_numlike(alpha):\n"
     ]
    }
   ],
   "source": [
    "Connected_New_G = max(nx.connected_component_subgraphs(New_G), key=len)\n",
    "nx.draw_networkx(Connected_New_G)"
   ]
  },
  {
   "cell_type": "code",
   "execution_count": null,
   "metadata": {},
   "outputs": [],
   "source": [
    "# set_1 = set(list(G.nodes))\n",
    "# set_2 = set([int(i) for i in list(Connected_New_G.nodes)])\n",
    "# set_3 = set_1.difference(set_2)\n",
    "\n",
    "# # Nodes to drop\n",
    "# nodes_drop_to_equalGraphs = list(set_3)\n",
    "\n",
    "# len(nodes_drop_to_equalGraphs)\n",
    "\n",
    "# some_G = G.subgraph([int(i) for i in list(Connected_New_G.nodes)])\n",
    "\n",
    "# nx.draw_networkx(some_G)\n",
    "\n",
    "# len(set(final.betriebsdatum))\n",
    "\n",
    "# # Save Files!\n",
    "# Connected_final_df.shape[1]\n",
    "\n",
    "# a = [int(i) for i in Connected_final_df.columns.values.tolist()]\n",
    "\n",
    "# adj_mat = nx.to_numpy_matrix(some_G, nodelist=a)\n",
    "\n",
    "# np.savetxt(\"PeMSD7_W_5min_V1.csv\", adj_mat, delimiter=\",\")\n",
    "\n",
    "# # Save the connected final df as well\n",
    "\n",
    "# Connected_final_df.to_csv('final_5min_final_1months_233.csv')\n",
    "# df = pd.read_csv('final_5min_final_1months_233.csv', nrows=252)\n",
    "# # df\n",
    "\n",
    "# d = pd.DataFrame(dict_gps)\n",
    "# for i in nodes_drop_to_equalGraphs:\n",
    "#     del d[i]\n",
    "# d.to_csv('gps_10min_final_3months_233.csv')\n",
    "# # d.columns.tolist() - [int(i) for i in Connected_final_df.columns.tolist()]\n",
    "# def intersection(lst1, lst2): \n",
    "#     lst3 = [value for value in lst1 if value in lst2] \n",
    "#     return lst3\n",
    "# len(intersection(d.columns.tolist(), [int(i) for i in Connected_final_df.columns.tolist()]))"
   ]
  },
  {
   "cell_type": "code",
   "execution_count": 138,
   "metadata": {},
   "outputs": [
    {
     "name": "stdout",
     "output_type": "stream",
     "text": [
      "0\n"
     ]
    }
   ],
   "source": [
    "from datetime import timedelta\n",
    "import matplotlib.pyplot as plt\n",
    "import cartopy.crs as ccrs\n",
    "import pandas as pd\n",
    "\n",
    "import folium\n",
    "import folium.plugins as plugins\n",
    "import numpy as np\n",
    "\n",
    "df = final_data_df\n",
    "\n",
    "print(df.isna().sum().sum())\n",
    "\n",
    "# gps data\n",
    "df_2 = pd.read_csv('gps_10min_Final.csv')\n",
    "# df_2 = d\n",
    "\n",
    "df = (df - df.mean()) / (df.std() ** 1.2)\n",
    "\n",
    "# df_2.drop('Unnamed: 0', axis=1, inplace=True)\n",
    "# df.drop('Unnamed: 0', axis=1, inplace=True)\n",
    "\n",
    "df = df[:336]\n",
    "\n",
    "# Outer list:\n",
    "list_df_gps = df_2.columns.values.tolist()\n",
    "OuterList = []\n",
    "for index, row in df.iterrows():\n",
    "    Mid_List = []\n",
    "    for j in list_df_gps:\n",
    "#         print(j)\n",
    "#         if (j not in df_2.columns.values.tolist()):\n",
    "#             continue\n",
    "        Time_List = df_2[j].values.tolist()\n",
    "#         print(type(j))\n",
    "#         print(row[0])\n",
    "        Time_List.append(row[j])\n",
    "        Mid_List.append(Time_List)\n",
    "    OuterList.append(Mid_List)\n",
    "\n",
    "m = folium.Map([47.36179377478453, 8.572671632662107], tiles='stamentoner', zoom_start=12)\n",
    "\n",
    "list_of_id = df_2.values\n",
    "list_of_id = list(zip(list_of_id[0], list_of_id[1]))\n",
    "\n",
    "for j in list_of_id:\n",
    "    folium.Circle(j, popup='<strong>Location One</strong>', radius=20).add_to(m)\n",
    "\n",
    "index = [str(timedelta(seconds=i * time_period + starting_time)) for i in set(final.intervals)] * int(df.shape[0]/len(set(final.intervals)))\n",
    "\n",
    "hm = plugins.HeatMapWithTime(OuterList, index=index)\n",
    "\n",
    "hm.add_to(m)\n",
    "\n",
    "m.save('HeatMap_moving.html')"
   ]
  },
  {
   "cell_type": "markdown",
   "metadata": {},
   "source": [
    "# Save Files"
   ]
  },
  {
   "cell_type": "code",
   "execution_count": null,
   "metadata": {},
   "outputs": [],
   "source": [
    "# a = [int(i) for i in final_data_df.columns.values.tolist()]\n",
    "\n",
    "# adj_mat = nx.to_numpy_matrix(New_G, nodelist=a)"
   ]
  },
  {
   "cell_type": "code",
   "execution_count": null,
   "metadata": {},
   "outputs": [],
   "source": [
    "# Connected_final_df.to_csv('PeMSD7_V_233.csv', header=False, index=False)"
   ]
  },
  {
   "cell_type": "code",
   "execution_count": null,
   "metadata": {},
   "outputs": [],
   "source": [
    "# np.savetxt(\"PeMSD7_W_233_V2.csv\", adj_mat, delimiter=\",\")"
   ]
  },
  {
   "cell_type": "code",
   "execution_count": null,
   "metadata": {},
   "outputs": [],
   "source": [
    "# len(list(New_G.nodes))"
   ]
  },
  {
   "cell_type": "code",
   "execution_count": null,
   "metadata": {},
   "outputs": [],
   "source": [
    "# New_G.edges(data=True)"
   ]
  },
  {
   "cell_type": "code",
   "execution_count": null,
   "metadata": {},
   "outputs": [],
   "source": [
    "# Connected_final_df.shape"
   ]
  },
  {
   "cell_type": "code",
   "execution_count": null,
   "metadata": {},
   "outputs": [],
   "source": []
  }
 ],
 "metadata": {
  "kernelspec": {
   "display_name": "Python 3",
   "language": "python",
   "name": "python3"
  },
  "language_info": {
   "codemirror_mode": {
    "name": "ipython",
    "version": 3
   },
   "file_extension": ".py",
   "mimetype": "text/x-python",
   "name": "python",
   "nbconvert_exporter": "python",
   "pygments_lexer": "ipython3",
   "version": "3.7.3"
  }
 },
 "nbformat": 4,
 "nbformat_minor": 2
}
