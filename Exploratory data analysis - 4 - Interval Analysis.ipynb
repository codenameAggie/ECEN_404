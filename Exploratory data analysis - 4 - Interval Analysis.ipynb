{
 "cells": [
  {
   "cell_type": "code",
   "execution_count": 1,
   "metadata": {},
   "outputs": [],
   "source": [
    "import pandas as pd\n",
    "import numpy as np\n",
    "import matplotlib.pyplot as plt\n",
    "# from math import sin, cos, sqrt, atan2, radians\n",
    "import geopy.distance\n",
    "from sklearn import preprocessing\n",
    "from scipy import interpolate\n",
    "from scipy.interpolate import interp1d\n",
    "from sklearn.linear_model import LinearRegression\n",
    "# First, import the data:\n",
    "pd.options.display.max_columns = None\n",
    "pd.options.display.max_rows = None\n",
    "df_1 = pd.read_csv('fahrzeiten_soll_ist_20160103_20160109.csv')\n",
    "\n",
    "####################\n",
    "df_haltepunkt = pd.read_csv(\"../Travel times 2016 of the VBZ in the target-performance comparison/haltepunkt.csv\")\n",
    "\n",
    "# Bus Station\n",
    "df_haltestelle = pd.read_csv(\"../Travel times 2016 of the VBZ in the target-performance comparison/haltestelle.csv\")\n",
    "####################\n",
    "\n",
    "def find_dist(lat1, lon1, lat_2, lon2):\n",
    "    c1 = (lat1, lon1)\n",
    "    c2 = (lat_2, lon2)\n",
    "    return geopy.distance.vincenty(c1, c2).km\n",
    "####################\n",
    "# Some useful atts #\n",
    "####################\n",
    "\n",
    "# Target attributes - from: in seconds\n",
    "target_arrival_from = \"soll_an_von\"\n",
    "\n",
    "# Actual attributes - from: in seconds\n",
    "actual_arrival_from = \"ist_an_von\"\n",
    "\n",
    "# nominal departure from in seconds\n",
    "target_departure_from = \"soll_ab_von\"\n",
    "\n",
    "# actual  departure from in seconds\n",
    "actual_departure_from = \"ist_ab_von\"\n",
    "#######################################\n",
    "\n",
    "#######################################\n",
    "# Target attributes - from: in seconds\n",
    "target_arrival_to = \"soll_an_nach\"\n",
    "\n",
    "# Actual attributes - from: in seconds\n",
    "actual_arrival_to = \"ist_an_nach1\"\n",
    "\n",
    "# nominal departure from in seconds\n",
    "target_departure_to = \"soll_ab_nach\"\n",
    "\n",
    "# actual  departure from in seconds\n",
    "actual_departure_to = \"ist_ab_nach\"\n",
    "#####################################\n",
    "\n",
    "#####################################\n"
   ]
  },
  {
   "cell_type": "code",
   "execution_count": 2,
   "metadata": {},
   "outputs": [
    {
     "data": {
      "text/plain": [
       "659"
      ]
     },
     "execution_count": 2,
     "metadata": {},
     "output_type": "execute_result"
    }
   ],
   "source": [
    "len(set(df_1['halt_id_nach']))"
   ]
  },
  {
   "cell_type": "code",
   "execution_count": 3,
   "metadata": {},
   "outputs": [],
   "source": [
    "df_1 = df_1[df_1['betriebsdatum'] == '05.01.16']"
   ]
  },
  {
   "cell_type": "code",
   "execution_count": 4,
   "metadata": {},
   "outputs": [],
   "source": [
    "df_1['halt_punkt_id'] = df_1['halt_punkt_id_nach']\n",
    "df_1 = df_1.merge(df_haltepunkt)"
   ]
  },
  {
   "cell_type": "code",
   "execution_count": 5,
   "metadata": {},
   "outputs": [],
   "source": [
    "b = df_1.sort_values(by = ['betriebsdatum', 'soll_ab_von', 'fahrt_id', 'seq_von'])\n",
    "b = b[b['betriebsdatum'] == b['datum_nach']]\n",
    "# b"
   ]
  },
  {
   "cell_type": "code",
   "execution_count": 6,
   "metadata": {},
   "outputs": [],
   "source": [
    "b = b[(b['soll_an_nach'] > 18000) & (b['soll_an_nach'] < 86400)]\n",
    "# b"
   ]
  },
  {
   "cell_type": "code",
   "execution_count": 7,
   "metadata": {},
   "outputs": [],
   "source": [
    "# encode labels\n",
    "le = preprocessing.LabelEncoder()\n",
    "le.fit(b['GPS_Latitude'])\n",
    "b['Stop_id'] = le.transform(b['GPS_Latitude'])\n",
    "# b"
   ]
  },
  {
   "cell_type": "code",
   "execution_count": 8,
   "metadata": {},
   "outputs": [],
   "source": [
    "count = b['GPS_Latitude'].value_counts()\n",
    "# count_new = count[count < 50]\n",
    "# len(count_new)"
   ]
  },
  {
   "cell_type": "code",
   "execution_count": 9,
   "metadata": {},
   "outputs": [],
   "source": [
    "time_period = 600\n",
    "starting_time = 18000\n",
    "# indicates 30 mins intervals\n",
    "# Number of bins:\n",
    "n_bins = int(np.floor((86400 - starting_time)/time_period))\n",
    "labels = [i for i in range(n_bins - 1)]\n",
    "# Finding the correct bins:\n",
    "list_of_bins = [starting_time + time_period * i for i in range(n_bins)]\n",
    "b['intervals'] = pd.cut(b[target_arrival_from], bins=list_of_bins, retbins=False, labels=labels)"
   ]
  },
  {
   "cell_type": "code",
   "execution_count": 10,
   "metadata": {},
   "outputs": [],
   "source": [
    "# Some Signals\n",
    "target_stationary = 'target_stationary'\n",
    "target_travel_time = 'target_travel_time'\n",
    "delay = 'delay'\n",
    "\n",
    "b[target_stationary] = b[target_departure_from] - b[target_arrival_from]\n",
    "b[target_travel_time] = b[target_arrival_to] - b[target_departure_from]\n",
    "b[delay] = b[actual_arrival_from] - b[target_arrival_from]\n",
    "\n",
    "b[target_stationary] = b[target_departure_from] - b[target_arrival_from]\n",
    "# b['actual'] = b[actual_arrival_to] - b[actual_departure_from]"
   ]
  },
  {
   "cell_type": "code",
   "execution_count": 11,
   "metadata": {},
   "outputs": [
    {
     "data": {
      "text/plain": [
       "18305    4607\n",
       "18306    4479\n",
       "21424    4464\n",
       "21423    4280\n",
       "18348    3941\n",
       "Name: fahrweg_id, dtype: int64"
      ]
     },
     "execution_count": 11,
     "metadata": {},
     "output_type": "execute_result"
    }
   ],
   "source": [
    "b.fahrweg_id.value_counts()[:5]"
   ]
  },
  {
   "cell_type": "code",
   "execution_count": 12,
   "metadata": {},
   "outputs": [],
   "source": [
    "# The most amount of datapoints\n",
    "temp = b.copy(deep=True)\n",
    "\n",
    "temp = b[b['fahrweg_id'] == 18305]\n",
    "# temp"
   ]
  },
  {
   "cell_type": "code",
   "execution_count": 13,
   "metadata": {},
   "outputs": [],
   "source": [
    "# Discarding delays above \n",
    "temp = temp[temp['delay'] < 900]"
   ]
  },
  {
   "cell_type": "code",
   "execution_count": 14,
   "metadata": {},
   "outputs": [
    {
     "name": "stdout",
     "output_type": "stream",
     "text": [
      "Using matplotlib backend: Qt5Agg\n"
     ]
    },
    {
     "ename": "NameError",
     "evalue": "name 'x' is not defined",
     "output_type": "error",
     "traceback": [
      "\u001b[1;31m---------------------------------------------------------------------------\u001b[0m",
      "\u001b[1;31mNameError\u001b[0m                                 Traceback (most recent call last)",
      "\u001b[1;32m<ipython-input-14-de81d580c5e2>\u001b[0m in \u001b[0;36m<module>\u001b[1;34m\u001b[0m\n\u001b[0;32m      1\u001b[0m \u001b[0mget_ipython\u001b[0m\u001b[1;33m(\u001b[0m\u001b[1;33m)\u001b[0m\u001b[1;33m.\u001b[0m\u001b[0mrun_line_magic\u001b[0m\u001b[1;33m(\u001b[0m\u001b[1;34m'matplotlib'\u001b[0m\u001b[1;33m,\u001b[0m \u001b[1;34m''\u001b[0m\u001b[1;33m)\u001b[0m\u001b[1;33m\u001b[0m\u001b[1;33m\u001b[0m\u001b[0m\n\u001b[0;32m      2\u001b[0m \u001b[0mplt\u001b[0m\u001b[1;33m.\u001b[0m\u001b[0mscatter\u001b[0m\u001b[1;33m(\u001b[0m\u001b[0mtemp\u001b[0m\u001b[1;33m[\u001b[0m\u001b[0mtarget_arrival_from\u001b[0m\u001b[1;33m]\u001b[0m\u001b[1;33m,\u001b[0m \u001b[0mtemp\u001b[0m\u001b[1;33m[\u001b[0m\u001b[1;34m'delay'\u001b[0m\u001b[1;33m]\u001b[0m\u001b[1;33m)\u001b[0m\u001b[1;33m\u001b[0m\u001b[1;33m\u001b[0m\u001b[0m\n\u001b[1;32m----> 3\u001b[1;33m \u001b[0mplt\u001b[0m\u001b[1;33m.\u001b[0m\u001b[0mplot\u001b[0m\u001b[1;33m(\u001b[0m\u001b[0mnp\u001b[0m\u001b[1;33m.\u001b[0m\u001b[0munique\u001b[0m\u001b[1;33m(\u001b[0m\u001b[0mx\u001b[0m\u001b[1;33m)\u001b[0m\u001b[1;33m,\u001b[0m \u001b[0mnp\u001b[0m\u001b[1;33m.\u001b[0m\u001b[0mpoly1d\u001b[0m\u001b[1;33m(\u001b[0m\u001b[0mnp\u001b[0m\u001b[1;33m.\u001b[0m\u001b[0mpolyfit\u001b[0m\u001b[1;33m(\u001b[0m\u001b[0mx\u001b[0m\u001b[1;33m,\u001b[0m \u001b[0my\u001b[0m\u001b[1;33m,\u001b[0m \u001b[1;36m1\u001b[0m\u001b[1;33m)\u001b[0m\u001b[1;33m)\u001b[0m\u001b[1;33m(\u001b[0m\u001b[0mnp\u001b[0m\u001b[1;33m.\u001b[0m\u001b[0munique\u001b[0m\u001b[1;33m(\u001b[0m\u001b[0mx\u001b[0m\u001b[1;33m)\u001b[0m\u001b[1;33m)\u001b[0m\u001b[1;33m)\u001b[0m\u001b[1;33m\u001b[0m\u001b[1;33m\u001b[0m\u001b[0m\n\u001b[0m\u001b[0;32m      4\u001b[0m \u001b[0mprint\u001b[0m\u001b[1;33m(\u001b[0m\u001b[0mlen\u001b[0m\u001b[1;33m(\u001b[0m\u001b[0mset\u001b[0m\u001b[1;33m(\u001b[0m\u001b[0mtemp\u001b[0m\u001b[1;33m[\u001b[0m\u001b[1;34m'intervals'\u001b[0m\u001b[1;33m]\u001b[0m\u001b[1;33m)\u001b[0m\u001b[1;33m)\u001b[0m\u001b[1;33m)\u001b[0m\u001b[1;33m\u001b[0m\u001b[1;33m\u001b[0m\u001b[0m\n",
      "\u001b[1;31mNameError\u001b[0m: name 'x' is not defined"
     ]
    }
   ],
   "source": [
    "%matplotlib\n",
    "plt.scatter(temp[target_arrival_from], temp['delay'])\n",
    "plt.plot(np.unique(x), np.poly1d(np.polyfit(x, y, 1))(np.unique(x)))\n",
    "print(len(set(temp['intervals'])))"
   ]
  },
  {
   "cell_type": "code",
   "execution_count": 15,
   "metadata": {},
   "outputs": [],
   "source": [
    "# agg delays to make a signal\n",
    "agg_delays = []\n",
    "for i in range(len(labels)):\n",
    "    agg_delays.append(temp[temp['intervals'] == i]['delay'].mean())\n",
    "agg_delays = np.array(agg_delays)"
   ]
  },
  {
   "cell_type": "code",
   "execution_count": 16,
   "metadata": {},
   "outputs": [
    {
     "name": "stdout",
     "output_type": "stream",
     "text": [
      "Using matplotlib backend: Qt5Agg\n"
     ]
    },
    {
     "data": {
      "text/plain": [
       "(-5.6000000000000005, 117.6)"
      ]
     },
     "execution_count": 16,
     "metadata": {},
     "output_type": "execute_result"
    }
   ],
   "source": [
    "%matplotlib\n",
    "plt.plot(range(len(agg_delays)), agg_delays, '-o')\n",
    "plt.xlim(auto=True)"
   ]
  },
  {
   "cell_type": "code",
   "execution_count": 17,
   "metadata": {},
   "outputs": [
    {
     "data": {
      "text/plain": [
       "(113,)"
      ]
     },
     "execution_count": 17,
     "metadata": {},
     "output_type": "execute_result"
    }
   ],
   "source": [
    "X = np.isnan(agg_delays)\n",
    "X = np.where(X == False)\n",
    "new_agg = agg_delays[~np.isnan(agg_delays)]\n",
    "new_agg.shape"
   ]
  },
  {
   "cell_type": "code",
   "execution_count": 18,
   "metadata": {},
   "outputs": [],
   "source": [
    "# Interpolate\n",
    "\n",
    "f = interp1d(X[0], new_agg, fill_value=\"extrapolate\")\n",
    "\n",
    "new_X = np.array(range(len(agg_delays)))\n",
    "\n",
    "results = f(new_X)\n",
    "# results"
   ]
  },
  {
   "cell_type": "code",
   "execution_count": 19,
   "metadata": {},
   "outputs": [
    {
     "name": "stdout",
     "output_type": "stream",
     "text": [
      "Using matplotlib backend: Qt5Agg\n"
     ]
    },
    {
     "data": {
      "text/plain": [
       "(-5.6000000000000005, 117.6)"
      ]
     },
     "execution_count": 19,
     "metadata": {},
     "output_type": "execute_result"
    }
   ],
   "source": [
    "%matplotlib\n",
    "plt.plot(new_X, results, '-o')\n",
    "plt.xlim(auto=True)"
   ]
  },
  {
   "cell_type": "code",
   "execution_count": 20,
   "metadata": {},
   "outputs": [],
   "source": [
    "using_pd = pd.Series(agg_delays)\n",
    "using_pd.interpolate(inplace=True)\n",
    "using_pd.interpolate(inplace=True)\n",
    "# using_pd"
   ]
  },
  {
   "cell_type": "code",
   "execution_count": 21,
   "metadata": {},
   "outputs": [
    {
     "name": "stdout",
     "output_type": "stream",
     "text": [
      "Using matplotlib backend: Qt5Agg\n"
     ]
    },
    {
     "data": {
      "text/plain": [
       "(-5.6000000000000005, 117.6)"
      ]
     },
     "execution_count": 21,
     "metadata": {},
     "output_type": "execute_result"
    }
   ],
   "source": [
    "%matplotlib\n",
    "plt.plot(new_X, using_pd, '-o', new_X, results, '-o')\n",
    "plt.xlim(auto=True)"
   ]
  },
  {
   "cell_type": "code",
   "execution_count": null,
   "metadata": {},
   "outputs": [],
   "source": []
  }
 ],
 "metadata": {
  "kernelspec": {
   "display_name": "Python 3",
   "language": "python",
   "name": "python3"
  },
  "language_info": {
   "codemirror_mode": {
    "name": "ipython",
    "version": 3
   },
   "file_extension": ".py",
   "mimetype": "text/x-python",
   "name": "python",
   "nbconvert_exporter": "python",
   "pygments_lexer": "ipython3",
   "version": "3.7.3"
  }
 },
 "nbformat": 4,
 "nbformat_minor": 2
}
